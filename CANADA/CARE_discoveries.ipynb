{
  "nbformat": 4,
  "nbformat_minor": 0,
  "metadata": {
    "colab": {
      "provenance": [],
      "include_colab_link": true
    },
    "kernelspec": {
      "name": "python3",
      "display_name": "Python 3"
    },
    "language_info": {
      "name": "python"
    }
  },
  "cells": [
    {
      "cell_type": "markdown",
      "metadata": {
        "id": "view-in-github",
        "colab_type": "text"
      },
      "source": [
        "<a href=\"https://colab.research.google.com/github/Chiamakac/CARE/blob/main/CANADA/CARE_discoveries.ipynb\" target=\"_parent\"><img src=\"https://colab.research.google.com/assets/colab-badge.svg\" alt=\"Open In Colab\"/></a>"
      ]
    },
    {
      "cell_type": "code",
      "execution_count": 2,
      "metadata": {
        "id": "qnb-_Hxvj0jx",
        "colab": {
          "base_uri": "https://localhost:8080/"
        },
        "outputId": "a77e9eb0-0eb9-476f-ec6c-d34d6429fb11"
      },
      "outputs": [
        {
          "output_type": "stream",
          "name": "stdout",
          "text": [
            "Cloning into 'CARE'...\n",
            "remote: Enumerating objects: 99, done.\u001b[K\n",
            "remote: Total 99 (delta 0), reused 0 (delta 0), pack-reused 99\u001b[K\n",
            "Unpacking objects: 100% (99/99), 41.35 MiB | 9.63 MiB/s, done.\n"
          ]
        }
      ],
      "source": [
        "!git clone https://github.com/Chiamakac/CARE.git"
      ]
    },
    {
      "cell_type": "code",
      "source": [
        "pip install -q pdfminer.six"
      ],
      "metadata": {
        "id": "-_6HawjdkgZr",
        "colab": {
          "base_uri": "https://localhost:8080/"
        },
        "outputId": "c4c276ca-6ef8-4b4a-9bc4-f13197739bad"
      },
      "execution_count": 3,
      "outputs": [
        {
          "output_type": "stream",
          "name": "stdout",
          "text": [
            "\u001b[?25l     \u001b[90m━━━━━━━━━━━━━━━━━━━━━━━━━━━━━━━━━━━━━━━━\u001b[0m \u001b[32m0.0/5.6 MB\u001b[0m \u001b[31m?\u001b[0m eta \u001b[36m-:--:--\u001b[0m\r\u001b[2K     \u001b[91m━━\u001b[0m\u001b[90m╺\u001b[0m\u001b[90m━━━━━━━━━━━━━━━━━━━━━━━━━━━━━━━━━━━━━\u001b[0m \u001b[32m0.3/5.6 MB\u001b[0m \u001b[31m8.7 MB/s\u001b[0m eta \u001b[36m0:00:01\u001b[0m\r\u001b[2K     \u001b[91m━━━━━━━━━━━━━━━━━━━━\u001b[0m\u001b[90m╺\u001b[0m\u001b[90m━━━━━━━━━━━━━━━━━━━\u001b[0m \u001b[32m2.8/5.6 MB\u001b[0m \u001b[31m40.9 MB/s\u001b[0m eta \u001b[36m0:00:01\u001b[0m\r\u001b[2K     \u001b[91m━━━━━━━━━━━━━━━━━━━━━━━━━━━━━━━━━━━━━━━\u001b[0m\u001b[91m╸\u001b[0m \u001b[32m5.6/5.6 MB\u001b[0m \u001b[31m63.4 MB/s\u001b[0m eta \u001b[36m0:00:01\u001b[0m\r\u001b[2K     \u001b[90m━━━━━━━━━━━━━━━━━━━━━━━━━━━━━━━━━━━━━━━━\u001b[0m \u001b[32m5.6/5.6 MB\u001b[0m \u001b[31m47.7 MB/s\u001b[0m eta \u001b[36m0:00:00\u001b[0m\n",
            "\u001b[?25h"
          ]
        }
      ]
    },
    {
      "cell_type": "markdown",
      "source": [
        "# **TEXT EXTRACTION**\n",
        "This extracts the font name, font_size, text, COLOR page by page "
      ],
      "metadata": {
        "id": "K8J29k2ZQExK"
      }
    },
    {
      "cell_type": "code",
      "source": [
        "from pdfminer.high_level import extract_pages        # Import function for extracting PDF pages\n",
        "from pdfminer.layout import LTTextContainer, LTChar, LTLine, LAParams   # Import PDF layout classes\n",
        "import os   # Import operating system functions\n",
        "\n",
        "path = r'/content/CARE/sample_Eng.pdf'    # Define path to PDF file\n",
        "\n",
        "output_dir = 'Dextracts'   # Define directory for output files\n",
        "os.makedirs(output_dir, exist_ok=True)   # Create output directory if it doesn't exist\n",
        "\n",
        "for page_number, page_layout in enumerate(extract_pages(path), start=1):     # Iterate over PDF pages\n",
        "    output_file = os.path.join(output_dir, f'page{page_number}_info.txt')   # Define name of output file for current page\n",
        "    with open(output_file, 'w') as file:     # Open the output file for writing\n",
        "        for element in page_layout:     # Iterate over elements on each page\n",
        "            if isinstance(element, LTTextContainer):   # Check if element is a text container\n",
        "                for text_line in element:   # Iterate over lines of text in the container\n",
        "                    if isinstance(text_line, LTTextContainer):   # Check if line is a text container\n",
        "                        if len(text_line._objs) > 0:    # Check if line contains any objects\n",
        "                            first_char = text_line._objs[0]   # Get the first object in the line\n",
        "                            if isinstance(first_char, LTChar):   # Check if object is a character\n",
        "                                font_size = first_char.size   # Get the font size of the character\n",
        "                                font_name = first_char.fontname   # Get the font name of the character\n",
        "                                font_color = first_char.graphicstate.ncolor   # Get the font color of the character\n",
        "                                text = element.get_text()   # Get the text of the element\n",
        "                                file.write(f\"Font size: {font_size}\\n\")   # Write font size to output file\n",
        "                                file.write(f\"Font name: {font_name}\\n\")   # Write font name to output file\n",
        "                                file.write(f\"Font color: {font_color}\\n\")   # Write font color to output file\n",
        "                                file.write(f\"Text: {text}\")   # Write text to output file\n",
        "                                file.write(\"\\n\")   # Add newline to separate output for different elements\n",
        "                                # print(f\"Font color: {font_color}  Text: {text}\")  # Display font color and text on console\n"
      ],
      "metadata": {
        "id": "r0CobkhdGDtf"
      },
      "execution_count": 4,
      "outputs": []
    },
    {
      "cell_type": "markdown",
      "source": [
        "## Majesty `begin code`"
      ],
      "metadata": {
        "id": "6zWZzfrtieYQ"
      }
    },
    {
      "cell_type": "code",
      "source": [
        "#import pandas, we will need it"
      ],
      "metadata": {
        "id": "xnPElShgPnl1"
      },
      "execution_count": null,
      "outputs": []
    },
    {
      "cell_type": "code",
      "source": [
        "import pandas as pd"
      ],
      "metadata": {
        "id": "Ebh2DjuMPtaz"
      },
      "execution_count": 1,
      "outputs": []
    },
    {
      "cell_type": "markdown",
      "source": [
        "Get the list of `pages` from the extracted pdf file stored in the `Dextracts` folder"
      ],
      "metadata": {
        "id": "5HPjlF2i-sAq"
      }
    },
    {
      "cell_type": "code",
      "source": [
        "file_name =  path.split('/')[-1]\n",
        "output_folder = 'Dextracts'\n",
        "pages = sorted(os.listdir(output_folder))"
      ],
      "metadata": {
        "id": "uJKKutdk-sTv"
      },
      "execution_count": 5,
      "outputs": []
    },
    {
      "cell_type": "markdown",
      "source": [
        "Define the `get_font_detail_text(sec)` function that extracts the texts and details from a section "
      ],
      "metadata": {
        "id": "VeCXuxFV-TMw"
      }
    },
    {
      "cell_type": "code",
      "source": [
        "def get_font_detail_text(sec):\n",
        "  font_detail=text=''\n",
        "  try:\n",
        "    font_detail, text = sec.split('Text: ')\n",
        "    text, (f_size, f_name, f_color) = text.replace('\\n', ' '), [\n",
        "      item.rsplit(': ', 1)[1] for item in font_detail.strip().splitlines()]\n",
        "  except:\n",
        "    pass\n",
        "  if text: return text, f_size, f_name, f_color"
      ],
      "metadata": {
        "id": "MXpXwOsJmXEF"
      },
      "execution_count": 6,
      "outputs": []
    },
    {
      "cell_type": "markdown",
      "source": [
        "Using the above function, create a list of section details for each section in the page"
      ],
      "metadata": {
        "id": "8wQO0qjW_B08"
      }
    },
    {
      "cell_type": "code",
      "source": [
        "section_details=[]\n",
        "for page in pages[2:3]:\n",
        "  page_num = page.split('_')[0]\n",
        "  section_details = [(file_name, len(pages), page_num, 'English')+get_font_detail_text(section) for section in \n",
        "                     open(f\"Dextracts/{page}\").read().split(\"\\n\\n\")\n",
        "                     if get_font_detail_text(section)]"
      ],
      "metadata": {
        "id": "RR901hjGimuY"
      },
      "execution_count": 7,
      "outputs": []
    },
    {
      "cell_type": "markdown",
      "source": [
        "Remove the repeated sections by ensuring that only one unique content is retained"
      ],
      "metadata": {
        "id": "bTW02y_5T3Iy"
      }
    },
    {
      "cell_type": "code",
      "source": [
        "section_details = {details[4]:details for details in section_details}.values()"
      ],
      "metadata": {
        "id": "7ICZ7_dZT3pb"
      },
      "execution_count": 8,
      "outputs": []
    },
    {
      "cell_type": "markdown",
      "source": [
        "Unzip the list details into a tuple of lists and create a dictionary `section_dict` using each of the required column heads as the key with the corresponding list of value "
      ],
      "metadata": {
        "id": "AZAbHZHINuxC"
      }
    },
    {
      "cell_type": "code",
      "source": [
        "section_dict={}\n",
        "file_names, num_pages, page_num, language, content, fsize, fname, fcolor = list(zip(*section_details))\n",
        "section_dict['Font Filename'] = file_names\n",
        "section_dict['Number of pages'] = num_pages\n",
        "section_dict['Language'] = language\n",
        "section_dict['Content Type'] = ['Section Title' if int(float(s))>10 else 'Running Text' for s in fsize]\n",
        "section_dict['Content'] = content\n",
        "section_dict['Start Page'] = page_num\n",
        "section_dict['End Page'] = page_num\n",
        "section_dict['Font Size'] = fsize\n",
        "section_dict['Font Name'] = fname\n",
        "section_dict['Font Colour'] = fcolor"
      ],
      "metadata": {
        "id": "jGQXeLkBF7vD"
      },
      "execution_count": 9,
      "outputs": []
    },
    {
      "cell_type": "markdown",
      "source": [
        "Convert the `section_dict` to a `pandas` dataframe"
      ],
      "metadata": {
        "id": "rLovmYdmNNvX"
      }
    },
    {
      "cell_type": "code",
      "source": [
        "report = pd.DataFrame.from_dict(section_dict)"
      ],
      "metadata": {
        "id": "4HA3GFCiBdXs"
      },
      "execution_count": 10,
      "outputs": []
    },
    {
      "cell_type": "markdown",
      "source": [
        "View report dataframe"
      ],
      "metadata": {
        "id": "gJWyEv9sNEOK"
      }
    },
    {
      "cell_type": "code",
      "source": [
        "report"
      ],
      "metadata": {
        "id": "KJEyurusCy_-",
        "colab": {
          "base_uri": "https://localhost:8080/",
          "height": 457
        },
        "outputId": "6f0fe2c4-0811-4818-aa02-6248a0022169"
      },
      "execution_count": 11,
      "outputs": [
        {
          "output_type": "execute_result",
          "data": {
            "text/plain": [
              "     Font Filename  Number of pages Language   Content Type  \\\n",
              "0   sample_Eng.pdf                8  English  Section Title   \n",
              "1   sample_Eng.pdf                8  English   Running Text   \n",
              "2   sample_Eng.pdf                8  English   Running Text   \n",
              "3   sample_Eng.pdf                8  English   Running Text   \n",
              "4   sample_Eng.pdf                8  English   Running Text   \n",
              "5   sample_Eng.pdf                8  English   Running Text   \n",
              "6   sample_Eng.pdf                8  English   Running Text   \n",
              "7   sample_Eng.pdf                8  English   Running Text   \n",
              "8   sample_Eng.pdf                8  English   Running Text   \n",
              "9   sample_Eng.pdf                8  English   Running Text   \n",
              "10  sample_Eng.pdf                8  English   Running Text   \n",
              "11  sample_Eng.pdf                8  English   Running Text   \n",
              "12  sample_Eng.pdf                8  English   Running Text   \n",
              "\n",
              "                                              Content Start Page End Page  \\\n",
              "0                             REPORT TO SHAREHOLDERS       page3    page3   \n",
              "1   2018  marked  a  change  in  food  and  even  ...      page3    page3   \n",
              "2   Overall, with the challenging rigid packaging ...      page3    page3   \n",
              "3   The continued progression at the Winnipeg, Man...      page3    page3   \n",
              "4   Similarly, Winpak’s specialty films business i...      page3    page3   \n",
              "5   2018 was again remarkable for the Winpak–Sojit...      page3    page3   \n",
              "6   Overall, Winpak’s flexible packaging business ...      page3    page3   \n",
              "7   In 2018, the Company’s rigid container busines...      page3    page3   \n",
              "8   The Company’s product offering as a system of ...      page3    page3   \n",
              "9   Winpak’s  packaging  machinery  division  in  ...      page3    page3   \n",
              "10  Overall,  2018  yielded  several  Company  rec...      page3    page3   \n",
              "11  O.Y. Muggli President and Chief Executive Offi...      page3    page3   \n",
              "12                                                  1      page3    page3   \n",
              "\n",
              "            Font Size                Font Name         Font Colour  \n",
              "0                11.0  NDJLVI+ArialNarrow-Bold  (0.75, 0.05, 1, 0)  \n",
              "1                 9.0       AMVLVI+ArialNarrow        (0, 0, 0, 1)  \n",
              "2                 9.0       AMVLVI+ArialNarrow        (0, 0, 0, 1)  \n",
              "3                 9.0       FRIPNY+ArialNarrow        (0, 0, 0, 1)  \n",
              "4                 9.0       AMVLVI+ArialNarrow        (0, 0, 0, 1)  \n",
              "5                 9.0       AMVLVI+ArialNarrow        (0, 0, 0, 1)  \n",
              "6                 9.0       FRIPNY+ArialNarrow        (0, 0, 0, 1)  \n",
              "7                 9.0       AMVLVI+ArialNarrow        (0, 0, 0, 1)  \n",
              "8                 9.0       AMVLVI+ArialNarrow        (0, 0, 0, 1)  \n",
              "9                 9.0       AMVLVI+ArialNarrow        (0, 0, 0, 1)  \n",
              "10                9.0       AMVLVI+ArialNarrow        (0, 0, 0, 1)  \n",
              "11                9.0       AMVLVI+ArialNarrow        (0, 0, 0, 1)  \n",
              "12  9.000000000000002       AMVLVI+ArialNarrow        (0, 0, 0, 1)  "
            ],
            "text/html": [
              "\n",
              "  <div id=\"df-6b6e6731-e793-41ee-87fe-d67fda91bbd5\">\n",
              "    <div class=\"colab-df-container\">\n",
              "      <div>\n",
              "<style scoped>\n",
              "    .dataframe tbody tr th:only-of-type {\n",
              "        vertical-align: middle;\n",
              "    }\n",
              "\n",
              "    .dataframe tbody tr th {\n",
              "        vertical-align: top;\n",
              "    }\n",
              "\n",
              "    .dataframe thead th {\n",
              "        text-align: right;\n",
              "    }\n",
              "</style>\n",
              "<table border=\"1\" class=\"dataframe\">\n",
              "  <thead>\n",
              "    <tr style=\"text-align: right;\">\n",
              "      <th></th>\n",
              "      <th>Font Filename</th>\n",
              "      <th>Number of pages</th>\n",
              "      <th>Language</th>\n",
              "      <th>Content Type</th>\n",
              "      <th>Content</th>\n",
              "      <th>Start Page</th>\n",
              "      <th>End Page</th>\n",
              "      <th>Font Size</th>\n",
              "      <th>Font Name</th>\n",
              "      <th>Font Colour</th>\n",
              "    </tr>\n",
              "  </thead>\n",
              "  <tbody>\n",
              "    <tr>\n",
              "      <th>0</th>\n",
              "      <td>sample_Eng.pdf</td>\n",
              "      <td>8</td>\n",
              "      <td>English</td>\n",
              "      <td>Section Title</td>\n",
              "      <td>REPORT TO SHAREHOLDERS</td>\n",
              "      <td>page3</td>\n",
              "      <td>page3</td>\n",
              "      <td>11.0</td>\n",
              "      <td>NDJLVI+ArialNarrow-Bold</td>\n",
              "      <td>(0.75, 0.05, 1, 0)</td>\n",
              "    </tr>\n",
              "    <tr>\n",
              "      <th>1</th>\n",
              "      <td>sample_Eng.pdf</td>\n",
              "      <td>8</td>\n",
              "      <td>English</td>\n",
              "      <td>Running Text</td>\n",
              "      <td>2018  marked  a  change  in  food  and  even  ...</td>\n",
              "      <td>page3</td>\n",
              "      <td>page3</td>\n",
              "      <td>9.0</td>\n",
              "      <td>AMVLVI+ArialNarrow</td>\n",
              "      <td>(0, 0, 0, 1)</td>\n",
              "    </tr>\n",
              "    <tr>\n",
              "      <th>2</th>\n",
              "      <td>sample_Eng.pdf</td>\n",
              "      <td>8</td>\n",
              "      <td>English</td>\n",
              "      <td>Running Text</td>\n",
              "      <td>Overall, with the challenging rigid packaging ...</td>\n",
              "      <td>page3</td>\n",
              "      <td>page3</td>\n",
              "      <td>9.0</td>\n",
              "      <td>AMVLVI+ArialNarrow</td>\n",
              "      <td>(0, 0, 0, 1)</td>\n",
              "    </tr>\n",
              "    <tr>\n",
              "      <th>3</th>\n",
              "      <td>sample_Eng.pdf</td>\n",
              "      <td>8</td>\n",
              "      <td>English</td>\n",
              "      <td>Running Text</td>\n",
              "      <td>The continued progression at the Winnipeg, Man...</td>\n",
              "      <td>page3</td>\n",
              "      <td>page3</td>\n",
              "      <td>9.0</td>\n",
              "      <td>FRIPNY+ArialNarrow</td>\n",
              "      <td>(0, 0, 0, 1)</td>\n",
              "    </tr>\n",
              "    <tr>\n",
              "      <th>4</th>\n",
              "      <td>sample_Eng.pdf</td>\n",
              "      <td>8</td>\n",
              "      <td>English</td>\n",
              "      <td>Running Text</td>\n",
              "      <td>Similarly, Winpak’s specialty films business i...</td>\n",
              "      <td>page3</td>\n",
              "      <td>page3</td>\n",
              "      <td>9.0</td>\n",
              "      <td>AMVLVI+ArialNarrow</td>\n",
              "      <td>(0, 0, 0, 1)</td>\n",
              "    </tr>\n",
              "    <tr>\n",
              "      <th>5</th>\n",
              "      <td>sample_Eng.pdf</td>\n",
              "      <td>8</td>\n",
              "      <td>English</td>\n",
              "      <td>Running Text</td>\n",
              "      <td>2018 was again remarkable for the Winpak–Sojit...</td>\n",
              "      <td>page3</td>\n",
              "      <td>page3</td>\n",
              "      <td>9.0</td>\n",
              "      <td>AMVLVI+ArialNarrow</td>\n",
              "      <td>(0, 0, 0, 1)</td>\n",
              "    </tr>\n",
              "    <tr>\n",
              "      <th>6</th>\n",
              "      <td>sample_Eng.pdf</td>\n",
              "      <td>8</td>\n",
              "      <td>English</td>\n",
              "      <td>Running Text</td>\n",
              "      <td>Overall, Winpak’s flexible packaging business ...</td>\n",
              "      <td>page3</td>\n",
              "      <td>page3</td>\n",
              "      <td>9.0</td>\n",
              "      <td>FRIPNY+ArialNarrow</td>\n",
              "      <td>(0, 0, 0, 1)</td>\n",
              "    </tr>\n",
              "    <tr>\n",
              "      <th>7</th>\n",
              "      <td>sample_Eng.pdf</td>\n",
              "      <td>8</td>\n",
              "      <td>English</td>\n",
              "      <td>Running Text</td>\n",
              "      <td>In 2018, the Company’s rigid container busines...</td>\n",
              "      <td>page3</td>\n",
              "      <td>page3</td>\n",
              "      <td>9.0</td>\n",
              "      <td>AMVLVI+ArialNarrow</td>\n",
              "      <td>(0, 0, 0, 1)</td>\n",
              "    </tr>\n",
              "    <tr>\n",
              "      <th>8</th>\n",
              "      <td>sample_Eng.pdf</td>\n",
              "      <td>8</td>\n",
              "      <td>English</td>\n",
              "      <td>Running Text</td>\n",
              "      <td>The Company’s product offering as a system of ...</td>\n",
              "      <td>page3</td>\n",
              "      <td>page3</td>\n",
              "      <td>9.0</td>\n",
              "      <td>AMVLVI+ArialNarrow</td>\n",
              "      <td>(0, 0, 0, 1)</td>\n",
              "    </tr>\n",
              "    <tr>\n",
              "      <th>9</th>\n",
              "      <td>sample_Eng.pdf</td>\n",
              "      <td>8</td>\n",
              "      <td>English</td>\n",
              "      <td>Running Text</td>\n",
              "      <td>Winpak’s  packaging  machinery  division  in  ...</td>\n",
              "      <td>page3</td>\n",
              "      <td>page3</td>\n",
              "      <td>9.0</td>\n",
              "      <td>AMVLVI+ArialNarrow</td>\n",
              "      <td>(0, 0, 0, 1)</td>\n",
              "    </tr>\n",
              "    <tr>\n",
              "      <th>10</th>\n",
              "      <td>sample_Eng.pdf</td>\n",
              "      <td>8</td>\n",
              "      <td>English</td>\n",
              "      <td>Running Text</td>\n",
              "      <td>Overall,  2018  yielded  several  Company  rec...</td>\n",
              "      <td>page3</td>\n",
              "      <td>page3</td>\n",
              "      <td>9.0</td>\n",
              "      <td>AMVLVI+ArialNarrow</td>\n",
              "      <td>(0, 0, 0, 1)</td>\n",
              "    </tr>\n",
              "    <tr>\n",
              "      <th>11</th>\n",
              "      <td>sample_Eng.pdf</td>\n",
              "      <td>8</td>\n",
              "      <td>English</td>\n",
              "      <td>Running Text</td>\n",
              "      <td>O.Y. Muggli President and Chief Executive Offi...</td>\n",
              "      <td>page3</td>\n",
              "      <td>page3</td>\n",
              "      <td>9.0</td>\n",
              "      <td>AMVLVI+ArialNarrow</td>\n",
              "      <td>(0, 0, 0, 1)</td>\n",
              "    </tr>\n",
              "    <tr>\n",
              "      <th>12</th>\n",
              "      <td>sample_Eng.pdf</td>\n",
              "      <td>8</td>\n",
              "      <td>English</td>\n",
              "      <td>Running Text</td>\n",
              "      <td>1</td>\n",
              "      <td>page3</td>\n",
              "      <td>page3</td>\n",
              "      <td>9.000000000000002</td>\n",
              "      <td>AMVLVI+ArialNarrow</td>\n",
              "      <td>(0, 0, 0, 1)</td>\n",
              "    </tr>\n",
              "  </tbody>\n",
              "</table>\n",
              "</div>\n",
              "      <button class=\"colab-df-convert\" onclick=\"convertToInteractive('df-6b6e6731-e793-41ee-87fe-d67fda91bbd5')\"\n",
              "              title=\"Convert this dataframe to an interactive table.\"\n",
              "              style=\"display:none;\">\n",
              "        \n",
              "  <svg xmlns=\"http://www.w3.org/2000/svg\" height=\"24px\"viewBox=\"0 0 24 24\"\n",
              "       width=\"24px\">\n",
              "    <path d=\"M0 0h24v24H0V0z\" fill=\"none\"/>\n",
              "    <path d=\"M18.56 5.44l.94 2.06.94-2.06 2.06-.94-2.06-.94-.94-2.06-.94 2.06-2.06.94zm-11 1L8.5 8.5l.94-2.06 2.06-.94-2.06-.94L8.5 2.5l-.94 2.06-2.06.94zm10 10l.94 2.06.94-2.06 2.06-.94-2.06-.94-.94-2.06-.94 2.06-2.06.94z\"/><path d=\"M17.41 7.96l-1.37-1.37c-.4-.4-.92-.59-1.43-.59-.52 0-1.04.2-1.43.59L10.3 9.45l-7.72 7.72c-.78.78-.78 2.05 0 2.83L4 21.41c.39.39.9.59 1.41.59.51 0 1.02-.2 1.41-.59l7.78-7.78 2.81-2.81c.8-.78.8-2.07 0-2.86zM5.41 20L4 18.59l7.72-7.72 1.47 1.35L5.41 20z\"/>\n",
              "  </svg>\n",
              "      </button>\n",
              "      \n",
              "  <style>\n",
              "    .colab-df-container {\n",
              "      display:flex;\n",
              "      flex-wrap:wrap;\n",
              "      gap: 12px;\n",
              "    }\n",
              "\n",
              "    .colab-df-convert {\n",
              "      background-color: #E8F0FE;\n",
              "      border: none;\n",
              "      border-radius: 50%;\n",
              "      cursor: pointer;\n",
              "      display: none;\n",
              "      fill: #1967D2;\n",
              "      height: 32px;\n",
              "      padding: 0 0 0 0;\n",
              "      width: 32px;\n",
              "    }\n",
              "\n",
              "    .colab-df-convert:hover {\n",
              "      background-color: #E2EBFA;\n",
              "      box-shadow: 0px 1px 2px rgba(60, 64, 67, 0.3), 0px 1px 3px 1px rgba(60, 64, 67, 0.15);\n",
              "      fill: #174EA6;\n",
              "    }\n",
              "\n",
              "    [theme=dark] .colab-df-convert {\n",
              "      background-color: #3B4455;\n",
              "      fill: #D2E3FC;\n",
              "    }\n",
              "\n",
              "    [theme=dark] .colab-df-convert:hover {\n",
              "      background-color: #434B5C;\n",
              "      box-shadow: 0px 1px 3px 1px rgba(0, 0, 0, 0.15);\n",
              "      filter: drop-shadow(0px 1px 2px rgba(0, 0, 0, 0.3));\n",
              "      fill: #FFFFFF;\n",
              "    }\n",
              "  </style>\n",
              "\n",
              "      <script>\n",
              "        const buttonEl =\n",
              "          document.querySelector('#df-6b6e6731-e793-41ee-87fe-d67fda91bbd5 button.colab-df-convert');\n",
              "        buttonEl.style.display =\n",
              "          google.colab.kernel.accessAllowed ? 'block' : 'none';\n",
              "\n",
              "        async function convertToInteractive(key) {\n",
              "          const element = document.querySelector('#df-6b6e6731-e793-41ee-87fe-d67fda91bbd5');\n",
              "          const dataTable =\n",
              "            await google.colab.kernel.invokeFunction('convertToInteractive',\n",
              "                                                     [key], {});\n",
              "          if (!dataTable) return;\n",
              "\n",
              "          const docLinkHtml = 'Like what you see? Visit the ' +\n",
              "            '<a target=\"_blank\" href=https://colab.research.google.com/notebooks/data_table.ipynb>data table notebook</a>'\n",
              "            + ' to learn more about interactive tables.';\n",
              "          element.innerHTML = '';\n",
              "          dataTable['output_type'] = 'display_data';\n",
              "          await google.colab.output.renderOutput(dataTable, element);\n",
              "          const docLink = document.createElement('div');\n",
              "          docLink.innerHTML = docLinkHtml;\n",
              "          element.appendChild(docLink);\n",
              "        }\n",
              "      </script>\n",
              "    </div>\n",
              "  </div>\n",
              "  "
            ]
          },
          "metadata": {},
          "execution_count": 11
        }
      ]
    },
    {
      "cell_type": "markdown",
      "source": [
        "Finally, write to an Excel file which should be similar to the CSV but not exactly the same..."
      ],
      "metadata": {
        "id": "tHe35C_LP0aJ"
      }
    },
    {
      "cell_type": "code",
      "source": [
        "with pd.ExcelWriter('AnnualReports.xlsx') as writer:  \n",
        "    report.to_excel(writer, sheet_name='Files Details')"
      ],
      "metadata": {
        "id": "nb581LiBAACZ"
      },
      "execution_count": null,
      "outputs": []
    },
    {
      "cell_type": "markdown",
      "source": [
        "...or you can write to a CSV file"
      ],
      "metadata": {
        "id": "DgHzd-tVSflD"
      }
    },
    {
      "cell_type": "code",
      "source": [
        "report.to_csv('AnnualReports.csv') "
      ],
      "metadata": {
        "id": "IQqzhghQShOT"
      },
      "execution_count": null,
      "outputs": []
    },
    {
      "cell_type": "markdown",
      "source": [
        "If you want to save the output to another folder instead of the working current woring folder..."
      ],
      "metadata": {
        "id": "RbaNStZYRgmS"
      }
    },
    {
      "cell_type": "code",
      "source": [
        "from pathlib import Path  \n",
        "filepath = Path('output_dir/AnnualReports.csv')  \n",
        "filepath.parent.mkdir(parents=True, exist_ok=True)  \n",
        "report.to_csv(filepath)"
      ],
      "metadata": {
        "id": "Q8UaD-A7RL_q"
      },
      "execution_count": null,
      "outputs": []
    },
    {
      "cell_type": "markdown",
      "source": [
        "* Now, you can view either the csv in colab or download the xlsx to open in Excel. \n",
        "* With a little tweaking you can wrap the whole process inside a loop and use it to read and process multiple similar files\n",
        "* I feel that the Excel format may be a good way to present the output from multiple files in different worksheets\n",
        "* Finally, I tried to include some explanations but if you have further questions ask me or ChatGPT"
      ],
      "metadata": {
        "id": "FH6N_JBcVr8N"
      }
    },
    {
      "cell_type": "markdown",
      "source": [
        "## Majesty: `end code`"
      ],
      "metadata": {
        "id": "fL7un8_iXXYN"
      }
    },
    {
      "cell_type": "markdown",
      "source": [
        "# **FOR IMAGE EXTRACTION**"
      ],
      "metadata": {
        "id": "8YwxXgVjQnIW"
      }
    },
    {
      "cell_type": "code",
      "source": [
        "pip install -qqq PyMuPDF"
      ],
      "metadata": {
        "colab": {
          "base_uri": "https://localhost:8080/"
        },
        "id": "U8zaGVLqQtxN",
        "outputId": "86dc6a7f-da11-4450-a745-8c47a855a8e6"
      },
      "execution_count": null,
      "outputs": [
        {
          "output_type": "stream",
          "name": "stdout",
          "text": [
            "\u001b[2K     \u001b[90m━━━━━━━━━━━━━━━━━━━━━━━━━━━━━━━━━━━━━━━━\u001b[0m \u001b[32m14.1/14.1 MB\u001b[0m \u001b[31m56.1 MB/s\u001b[0m eta \u001b[36m0:00:00\u001b[0m\n",
            "\u001b[?25h"
          ]
        }
      ]
    },
    {
      "cell_type": "code",
      "source": [
        "pip install -qqq pillow"
      ],
      "metadata": {
        "id": "6DurWN7FSd6d"
      },
      "execution_count": null,
      "outputs": []
    },
    {
      "cell_type": "code",
      "source": [
        "# import libraries\n",
        "import fitz\n",
        "import io\n",
        "from PIL import Image, ImageDraw"
      ],
      "metadata": {
        "id": "H3wfTDjCQ6F2"
      },
      "execution_count": null,
      "outputs": []
    },
    {
      "cell_type": "code",
      "source": [
        "import os\n",
        "import io\n",
        "from PIL import Image, ImageDraw\n",
        "import fitz\n",
        "\n",
        "# file path you want to extract images from\n",
        "file = \"/content/CARE/sample_Eng.pdf\"\n",
        "\n",
        "# create output directory if it doesn't exist\n",
        "output_dir = \"output_images_fr\"\n",
        "if not os.path.exists(output_dir):\n",
        "    os.mkdir(output_dir)\n",
        "\n",
        "# open the file\n",
        "pdf_file = fitz.open(file)\n",
        "\n",
        "# iterate over PDF pages\n",
        "for page_index in range(len(pdf_file)):\n",
        "    # get the page itself\n",
        "    page = pdf_file[page_index]\n",
        "    \n",
        "    # get a list of images on the page\n",
        "    image_list = page.get_images()\n",
        "\n",
        "    # # printing number of images found in this page\n",
        "    # if image_list:\n",
        "    #     print(f\"[+] Found a total of {len(image_list)} images in page {page_index}\")\n",
        "    # else:\n",
        "    #     print(\"[!] No images found on page\", page_index)\n",
        "    \n",
        "    # iterate over each image on the page\n",
        "    for image_index, img in enumerate(image_list, start=1):\n",
        "        # get the XREF of the image\n",
        "        xref = img[0]\n",
        "\n",
        "        # extract the image bytes\n",
        "        image_bytes = pdf_file.extract_image(xref)[\"image\"]\n",
        "\n",
        "        # create a PIL image from the bytes\n",
        "        pil_image = Image.open(io.BytesIO(image_bytes))\n",
        "\n",
        "        # draw image and save to a file\n",
        "        draw = ImageDraw.Draw(pil_image)\n",
        "        output_file = os.path.join(output_dir, f\"page_{page_index}_image_{image_index}.png\")\n",
        "        pil_image.save(output_file, \"PNG\")\n",
        "        \n",
        "        # print(f\"[+] Saved image {image_index} on page {page_index} to {output_file}\")\n"
      ],
      "metadata": {
        "id": "EJqvH0P9SPy6"
      },
      "execution_count": null,
      "outputs": []
    },
    {
      "cell_type": "markdown",
      "source": [],
      "metadata": {
        "id": "5Xti4o5aiVVE"
      }
    },
    {
      "cell_type": "markdown",
      "source": [
        "# **TABLE EXTRACTION**"
      ],
      "metadata": {
        "id": "sDdsCR7HTzhh"
      }
    },
    {
      "cell_type": "code",
      "source": [
        "pip install -qqq PyPDF2"
      ],
      "metadata": {
        "colab": {
          "base_uri": "https://localhost:8080/"
        },
        "id": "e4iPhpucVAAW",
        "outputId": "24e05e1c-37bb-46c4-a215-598b97acf198"
      },
      "execution_count": null,
      "outputs": [
        {
          "output_type": "stream",
          "name": "stdout",
          "text": [
            "\u001b[?25l     \u001b[90m━━━━━━━━━━━━━━━━━━━━━━━━━━━━━━━━━━━━━━━━\u001b[0m \u001b[32m0.0/232.6 kB\u001b[0m \u001b[31m?\u001b[0m eta \u001b[36m-:--:--\u001b[0m\r\u001b[2K     \u001b[91m━━━━━━━━━━━━━━━━━━━━━━━━━━━━━━━━━━━━━\u001b[0m\u001b[91m╸\u001b[0m\u001b[90m━\u001b[0m \u001b[32m225.3/232.6 kB\u001b[0m \u001b[31m8.0 MB/s\u001b[0m eta \u001b[36m0:00:01\u001b[0m\r\u001b[2K     \u001b[90m━━━━━━━━━━━━━━━━━━━━━━━━━━━━━━━━━━━━━━━\u001b[0m \u001b[32m232.6/232.6 kB\u001b[0m \u001b[31m5.7 MB/s\u001b[0m eta \u001b[36m0:00:00\u001b[0m\n",
            "\u001b[?25h"
          ]
        }
      ]
    },
    {
      "cell_type": "code",
      "source": [
        "pip install -qqq tabula-py"
      ],
      "metadata": {
        "colab": {
          "base_uri": "https://localhost:8080/"
        },
        "id": "PrKLJ6eCVe00",
        "outputId": "8f5171e9-da2e-4ab7-8073-b87bc7d78513"
      },
      "execution_count": null,
      "outputs": [
        {
          "output_type": "stream",
          "name": "stdout",
          "text": [
            "\u001b[2K     \u001b[90m━━━━━━━━━━━━━━━━━━━━━━━━━━━━━━━━━━━━━━━━\u001b[0m \u001b[32m12.0/12.0 MB\u001b[0m \u001b[31m61.0 MB/s\u001b[0m eta \u001b[36m0:00:00\u001b[0m\n",
            "\u001b[?25h"
          ]
        }
      ]
    },
    {
      "cell_type": "code",
      "source": [
        "import os\n",
        "import tabula\n",
        "\n",
        "# Open the PDF file\n",
        "with open('/content/CARE/sample_Eng.pdf', 'rb') as pdf_file:\n",
        "\n",
        "    # Extract tables from the PDF file\n",
        "    tables = tabula.read_pdf(pdf_file, pages='all')\n",
        "    \n",
        "    # Create a folder to store the Excel files\n",
        "    folder_name = 'tables_fr'\n",
        "    if not os.path.isdir(folder_name):\n",
        "        os.mkdir(folder_name)\n",
        "    \n",
        "    # Iterate over extracted tables and export as Excel individually\n",
        "    for i, table in enumerate(tables, start=1):\n",
        "        table.to_excel(os.path.join(folder_name, f\"table_{i}.xlsx\"), index=False)\n",
        "\n"
      ],
      "metadata": {
        "id": "o0-jQZBbUQjN"
      },
      "execution_count": null,
      "outputs": []
    },
    {
      "cell_type": "markdown",
      "source": [],
      "metadata": {
        "id": "cSuSWmWqQ3C_"
      }
    },
    {
      "cell_type": "markdown",
      "source": [],
      "metadata": {
        "id": "Sp2RV73jQaA4"
      }
    },
    {
      "cell_type": "markdown",
      "source": [],
      "metadata": {
        "id": "3vkShQSpQZm-"
      }
    },
    {
      "cell_type": "markdown",
      "source": [],
      "metadata": {
        "id": "vvKWe5EPQZPt"
      }
    },
    {
      "cell_type": "markdown",
      "source": [],
      "metadata": {
        "id": "RNM0nl9pQYlC"
      }
    },
    {
      "cell_type": "markdown",
      "source": [],
      "metadata": {
        "id": "_FrAMs0uQXCX"
      }
    },
    {
      "cell_type": "markdown",
      "source": [
        "Obtain the location of text(**Language free**) in a page using **pdfminer**"
      ],
      "metadata": {
        "id": "ISkWjxLok05X"
      }
    },
    {
      "cell_type": "code",
      "source": [
        "# Import necessary packages\n",
        "from pdfminer.pdfdocument import PDFDocument\n",
        "from pdfminer.pdfpage import PDFPage\n",
        "from pdfminer.pdfparser import PDFParser\n",
        "from pdfminer.pdfinterp import PDFResourceManager, PDFPageInterpreter\n",
        "from pdfminer.converter import PDFPageAggregator, TextConverter\n",
        "from pdfminer.layout import LAParams, LTTextBox, LTTextLine, LTFigure\n",
        "from io import StringIO\n",
        "\n",
        "# Define function to recursively parse the layout tree\n",
        "def parse_layout(layout, outfp):\n",
        "    \"\"\"\n",
        "    Recursively parse the layout tree and write information\n",
        "    about each object's class name, bounding box, and text (if any) to the output file.\n",
        "    \"\"\"\n",
        "    for lt_obj in layout:\n",
        "        # Write the class name and bounding box of the object to the output file\n",
        "        # outfp.write(lt_obj.__class__.__name__ + \"\\n\")\n",
        "        # outfp.write(str(lt_obj.bbox) + \"\\n\")\n",
        "\n",
        "        # If the object is a text box or line, write its text to the output file\n",
        "        if isinstance(lt_obj, LTTextBox) or isinstance(lt_obj, LTTextLine):\n",
        "            outfp.write(lt_obj.get_text() + \"\\n\")\n",
        "\n",
        "        # If the object is a figure, recursively parse its layout\n",
        "        elif isinstance(lt_obj, LTFigure):\n",
        "            parse_layout(lt_obj, outfp)\n",
        "\n",
        "# Open the PDF file in binary mode\n",
        "fp = open('/content/CARE/sample_Eng.pdf', 'rb')\n",
        "\n",
        "# Create a PDF parser object from the binary file\n",
        "parser = PDFParser(fp)\n",
        "\n",
        "# Create a PDF document object from the parser object\n",
        "doc = PDFDocument(parser)\n",
        "\n",
        "# Set up the PDFResourceManager, LAParams, and PDFPageAggregator objects\n",
        "\n",
        "# Create a PDF resource manager object\n",
        "rsrcmgr = PDFResourceManager()\n",
        "\n",
        "# Set the layout parameters for the PDF document\n",
        "laparams = LAParams()\n",
        "\n",
        "# Create a PDF device object to extract layout information from each page\n",
        "device = PDFPageAggregator(rsrcmgr, laparams=laparams)\n",
        "\n",
        "# Create a PDF interpreter object to process the page contents\n",
        "interpreter = PDFPageInterpreter(rsrcmgr, device)\n",
        "\n",
        "# Open the output file\n",
        "with open('Foutput4.txt', 'w', encoding='utf-8') as outfp:\n",
        "    # Loop through each page of the PDF document and process the page contents using the PDF interpreter\n",
        "    for page in PDFPage.create_pages(doc):\n",
        "        interpreter.process_page(page)\n",
        "        layout = device.get_result()\n",
        "\n",
        "        # Parse the layout tree for this page and write the information to the output file\n",
        "        parse_layout(layout, outfp)\n"
      ],
      "metadata": {
        "id": "jlLNewIykzxd"
      },
      "execution_count": null,
      "outputs": []
    },
    {
      "cell_type": "code",
      "source": [
        "# This extracts the font name, font_size, text, page by page\n",
        "\n",
        "# from pdfminer.high_level import extract_pages        # Import function for extracting PDF pages\n",
        "# from pdfminer.layout import LTTextContainer, LTChar, LTLine, LAParams   # Import PDF layout classes\n",
        "# import os   # Import operating system functions\n",
        "\n",
        "# path = r'/content/CARE/sample_Eng.pdf'    # Define path to PDF file\n",
        "\n",
        "# output_dir = 'extracts'   # Define directory for output files\n",
        "# os.makedirs(output_dir, exist_ok=True)   # Create output directory if it doesn't exist\n",
        "\n",
        "# for page_number, page_layout in enumerate(extract_pages(path), start=1):     # Iterate over PDF pages\n",
        "#     output_file = os.path.join(output_dir, f'page{page_number}_font_info.txt')   # Define name of output file for current page\n",
        "#     with open(output_file, 'w') as file:     # Open the output file for writing\n",
        "#         for element in page_layout:     # Iterate over elements on each page\n",
        "#             if isinstance(element, LTTextContainer):   # Check if element is a text container\n",
        "#                 for text_line in element:   # Iterate over lines of text in the container\n",
        "#                     if isinstance(text_line, LTTextContainer):   # Check if line is a text container\n",
        "#                         if len(text_line._objs) > 0:    # Check if line contains any objects\n",
        "#                             first_char = text_line._objs[0]   # Get the first object in the line\n",
        "#                             if isinstance(first_char, LTChar):   # Check if object is a character\n",
        "#                                 font_size = first_char.size   # Get the font size of the character\n",
        "#                                 font_name = first_char.fontname   # Get the font name of the character\n",
        "#                                 text = element.get_text()   # Get the text of the element\n",
        "#                                 file.write(f\"Font size: {font_size}\\n\")   # Write font size to output file\n",
        "#                                 file.write(f\"Font name: {font_name}\\n\")   # Write font name to output file\n",
        "#                                 file.write(f\"Text: {text}\")   # Write text to output file\n",
        "#                                 file.write(\"\\n\")   # Add newline to separate output for different elements\n"
      ],
      "metadata": {
        "id": "h5MC7Bbo9eig"
      },
      "execution_count": null,
      "outputs": []
    },
    {
      "cell_type": "code",
      "source": [
        "# from pdfminer.high_level import extract_pages        # Import function for extracting PDF pages\n",
        "# from pdfminer.layout import LTTextContainer, LTChar, LTLine, LAParams   # Import PDF layout classes\n",
        "# import os   # Import operating system functions\n",
        "\n",
        "# path = r'/content/CBBD_Annual_Report_2017_FR.pdf'    # Define path to PDF file\n",
        "\n",
        "# output_file = 'SEnglish_font_info.txt'   # Define name of output file\n",
        "\n",
        "# with open(output_file, 'w') as file:     # Open the output file for writing\n",
        "#     for page_layout in extract_pages(path):     # Iterate over PDF pages\n",
        "#         for element in page_layout:     # Iterate over elements on each page\n",
        "#             if isinstance(element, LTTextContainer):   # Check if element is a text container\n",
        "#                 for text_line in element:   # Iterate over lines of text in the container\n",
        "#                     if isinstance(text_line, LTTextContainer):   # Check if line is a text container\n",
        "#                         if len(text_line._objs) > 0:    # Check if line contains any objects\n",
        "#                             first_char = text_line._objs[0]   # Get the first object in the line\n",
        "#                             if isinstance(first_char, LTChar):   # Check if object is a character\n",
        "#                                 font_size = first_char.size   # Get the font size of the character\n",
        "#                                 font_name = first_char.fontname   # Get the font name of the character\n",
        "#                                 text = element.get_text()   # Get the text of the element\n",
        "#                                 file.write(f\"Font size: {font_size}\\n\")   # Write font size to output file\n",
        "#                                 file.write(f\"Font name: {font_name}\\n\")   # Write font name to output file\n",
        "#                                 file.write(f\"Text: {text}\")   # Write text to output file\n",
        "#                                 file.write(\"\\n\")   # Add newline to separate output for different elements\n"
      ],
      "metadata": {
        "id": "YXFoVn_aP4Do"
      },
      "execution_count": null,
      "outputs": []
    },
    {
      "cell_type": "markdown",
      "source": [
        "Code to count the **font size** frquencies"
      ],
      "metadata": {
        "id": "4Owff6WfoZ3q"
      }
    },
    {
      "cell_type": "code",
      "source": [
        "pip install -q PyPDF2"
      ],
      "metadata": {
        "id": "MhVN3ECGkrWi"
      },
      "execution_count": null,
      "outputs": []
    },
    {
      "cell_type": "code",
      "source": [
        "import PyPDF2"
      ],
      "metadata": {
        "id": "ShKLb5OykUIH"
      },
      "execution_count": null,
      "outputs": []
    },
    {
      "cell_type": "code",
      "source": [
        "from pathlib import Path  # import the Path class from the pathlib module\n",
        "from typing import Iterable, Any  # import Iterable and Any from the typing module\n",
        "from pdfminer.high_level import extract_pages  # import the extract_pages function from pdfminer.high_level\n",
        "\n",
        "def get_indented_name(o: Any, depth: int) -> str:\n",
        "    \"\"\"Indented name of class\"\"\"\n",
        "    return '  ' * depth + o.__class__.__name__  # return the indented class name based on depth\n",
        "\n",
        "def get_optional_fontinfo(o: Any) -> str:\n",
        "    \"\"\"Font info of LTChar if available, otherwise empty string\"\"\"\n",
        "    if hasattr(o, 'fontname') and hasattr(o, 'size'):  # check if 'fontname' and 'size' attributes exist in the object\n",
        "        return f'{o.fontname} {round(o.size)}pt'  # if yes, return the font name and size as a string\n",
        "    return ''  # if not, return an empty string\n",
        "\n",
        "def get_optional_text(o: Any) -> str:\n",
        "    \"\"\"Text of LTItem if available, otherwise empty string\"\"\"\n",
        "    if hasattr(o, 'get_text'):  # check if the object has a 'get_text' method\n",
        "        return o.get_text().strip()  # if yes, return the text obtained from the method call, stripped of leading/trailing white space\n",
        "    return ''  # if not, return an empty string\n",
        "\n",
        "def count_font_sizes(o: Any, size_dict: dict):\n",
        "    \"\"\"Count the frequency of font sizes\"\"\"\n",
        "    if isinstance(o, Iterable):  # check if the object is iterable\n",
        "        for i in o:  # if yes, iterate over its elements\n",
        "            count_font_sizes(i, size_dict)  # recursively call the function with each element\n",
        "    elif hasattr(o, 'size'):  # if the object is not iterable, check if it has a 'size' attribute\n",
        "        size = round(o.size)  # if yes, round its value and store it in the 'size' variable\n",
        "        if size in size_dict:  # check if the 'size' value is already a key in the dictionary\n",
        "            size_dict[size] += 1  # if yes, increment the value of the corresponding key by 1\n",
        "        else:\n",
        "            size_dict[size] = 1  # if not, create a new key-value pair with the 'size' as key and 1 as value\n",
        "\n",
        "def show_ltitem_hierarchy(o: Any, depth=0):\n",
        "    \"\"\"Show location and text of LTItem and all its descendants\"\"\"\n",
        "    if depth == 0:  # check if the function is being called for the first time (i.e., depth is 0)\n",
        "        print('element                        fontname             text')  # if yes, print the header row\n",
        "        print('------------------------------ -------------------- -----')\n",
        "\n",
        "    print(\n",
        "        f'{get_indented_name(o, depth):<30.30s} '  # print the indented class name\n",
        "        f'{get_optional_fontinfo(o):<20.20s} '  # print the font info (if available)\n",
        "        f'{get_optional_text(o)}'  # print the text (if available)\n",
        "    )\n",
        "\n",
        "    if isinstance(o, Iterable):  # check if the object is iterable\n",
        "        for i in o:  # if yes, iterate over its elements\n",
        "            show_ltitem_hierarchy(i, depth=depth + 1)  # recursively call the function with each element\n",
        "\n",
        "path = Path('/content/CARE/sample_Eng.pdf').expanduser()  # create a Path object pointing to the PDF file\n",
        "pages = extract_pages(path)  # extract the pages from the PDF\n",
        "\n",
        "# Count the frequency of font sizes\n",
        "size_dict = {}  # Create an empty dictionary to store font size frequencies\n",
        "count_font_sizes(pages, size_dict)  # Call the function to count the font sizes\n",
        "\n",
        "# Print the font size frequencies\n",
        "print('Font size frequencies:')\n",
        "print('---------------------')\n",
        "for size, count in size_dict.items():  # Loop through the dictionary items\n",
        "    print(f'{size}pt: {count}')  # Print the font size and its frequency\n"
      ],
      "metadata": {
        "id": "-WcFUkSMlhtn",
        "colab": {
          "base_uri": "https://localhost:8080/"
        },
        "outputId": "45883d95-5a39-491c-9a3c-8513e0c37f96"
      },
      "execution_count": null,
      "outputs": [
        {
          "output_type": "stream",
          "name": "stdout",
          "text": [
            "Font size frequencies:\n",
            "---------------------\n",
            "64pt: 5\n",
            "44pt: 18\n",
            "12pt: 32\n",
            "11pt: 369\n",
            "9pt: 22479\n",
            "8pt: 390\n",
            "10pt: 44\n",
            "5pt: 4\n"
          ]
        }
      ]
    },
    {
      "cell_type": "markdown",
      "source": [
        "Extract text and their font sizes"
      ],
      "metadata": {
        "id": "mbbf6M8do9g9"
      }
    },
    {
      "cell_type": "code",
      "source": [
        "from pdfminer.high_level import extract_pages\n",
        "from pdfminer.layout import LTTextContainer, LTChar, LTLine, LAParams\n",
        "import os\n",
        "\n",
        "path = r'/content/CARE/sample_Eng.pdf'\n",
        "\n",
        "Extract_Data = []\n",
        "\n",
        "for page_layout in extract_pages(path):\n",
        "    for element in page_layout:\n",
        "        if isinstance(element, LTTextContainer):\n",
        "            for text_line in element:\n",
        "                if isinstance(text_line, LTTextContainer):\n",
        "                    if len(text_line._objs) > 0:\n",
        "                        first_char = text_line._objs[0]\n",
        "                        if isinstance(first_char, LTChar):\n",
        "                            font_size = first_char.size\n",
        "                            text = element.get_text()\n",
        "                            Extract_Data.append([font_size, text])"
      ],
      "metadata": {
        "id": "OhoXUfJvo8fq"
      },
      "execution_count": null,
      "outputs": []
    },
    {
      "cell_type": "code",
      "source": [
        "with open(\"extracted_data2.txt\", \"w\") as f:\n",
        "    for data in Extract_Data:\n",
        "        f.write(\"Font size: {}\\n\".format(data[0]))\n",
        "        f.write(\"Text: {}\\n\".format(data[1]))\n",
        "        f.write(\"\\n\")\n"
      ],
      "metadata": {
        "id": "187nvr0UpBWk"
      },
      "execution_count": null,
      "outputs": []
    },
    {
      "cell_type": "markdown",
      "source": [
        "**This extracts the font name, font_size, text, bounding box**"
      ],
      "metadata": {
        "id": "qSmHFOooadIX"
      }
    },
    {
      "cell_type": "code",
      "source": [
        "from pdfminer.high_level import extract_pages        # Import function for extracting PDF pages\n",
        "from pdfminer.layout import LTTextContainer, LTChar, LTLine, LAParams   # Import PDF layout classes\n",
        "import os   # Import operating system functions\n",
        "\n",
        "path = r'/content/CARE/sample_Eng.pdf'    # Define path to PDF file\n",
        "\n",
        "output_file = 'efont_info.txt'   # Define name of output file\n",
        "\n",
        "with open(output_file, 'w') as file:     # Open the output file for writing\n",
        "    for page_layout in extract_pages(path):     # Iterate over PDF pages\n",
        "        for element in page_layout:     # Iterate over elements on each page\n",
        "            if isinstance(element, LTTextContainer):   # Check if element is a text container\n",
        "                text = element.get_text()   # Get the text of the element\n",
        "                bbox = element.bbox   # Get the bounding box of the element\n",
        "                file.write(f\"Text: {text}\\n\")   # Write text to output file\n",
        "                file.write(f\"Bounding Box: {bbox}\\n\")   # Write bounding box to output file\n",
        "                for text_line in element:   # Iterate over lines of text in the container\n",
        "                    if isinstance(text_line, LTTextContainer):   # Check if line is a text container\n",
        "                        if len(text_line._objs) > 0:    # Check if line contains any objects\n",
        "                            first_char = text_line._objs[0]   # Get the first object in the line\n",
        "                            if isinstance(first_char, LTChar):   # Check if object is a character\n",
        "                                font_size = first_char.size   # Get the font size of the character\n",
        "                                font_name = first_char.fontname   # Get the font name of the character\n",
        "                                file.write(f\"Font size: {font_size}\\n\")   # Write font size to output file\n",
        "                                file.write(f\"Font name: {font_name}\\n\")   # Write font name to output file\n",
        "                file.write(\"\\n\")   # Add newline to separate output for different elements\n"
      ],
      "metadata": {
        "id": "eOZ_Gi-kZ2zS"
      },
      "execution_count": null,
      "outputs": []
    },
    {
      "cell_type": "markdown",
      "source": [
        "**This displays the bounding box, font and LT**"
      ],
      "metadata": {
        "id": "azHrQ3gqPApJ"
      }
    },
    {
      "cell_type": "code",
      "source": [
        "from pdfminer.high_level import extract_pages\n",
        "from pdfminer.layout import LTTextBox, LTTextLine, LTFigure, LTAnno\n",
        "\n",
        "def get_optional_fontinfo(o):\n",
        "    \"\"\"Font info of LTChar if available, otherwise empty string\"\"\"\n",
        "    if isinstance(o, LTChar):\n",
        "        return f'{o.fontname} {round(o.size)}pt'\n",
        "    return ''\n",
        "\n",
        "def get_optional_text(o):\n",
        "    \"\"\"Text of LTItem if available, otherwise empty string\"\"\"\n",
        "    if isinstance(o, LTTextBox) or isinstance(o, LTTextLine):\n",
        "        return o.get_text().strip()\n",
        "    return ''\n",
        "\n",
        "def show_layout(objs, f):\n",
        "    \"\"\"\n",
        "    Recursively parse layout objects and write information about each object's class name, bounding box,\n",
        "    font size, font name, and text (if any) to a file.\n",
        "    \"\"\"\n",
        "    for obj in objs:\n",
        "        if isinstance(obj, LTTextBox):\n",
        "            # Write the class name, bounding box, font size, font name, and text of the LTTextBox object to a file\n",
        "            f.write(f'LTTextBox: {obj.bbox}, {get_optional_fontinfo(obj)}, {get_optional_text(obj)}\\n')\n",
        "        elif isinstance(obj, LTTextLine):\n",
        "            # Write the class name, bounding box, font size, font name, and text of the LTTextLine object to a file\n",
        "            f.write(f'LTTextLine: {obj.bbox}, {get_optional_fontinfo(obj)}, {get_optional_text(obj)}\\n')\n",
        "        elif isinstance(obj, LTFigure):\n",
        "            # Recursively parse the layout objects of the LTFigure object\n",
        "            show_layout(obj._objs, f)\n",
        "        elif hasattr(obj, '_objs'):\n",
        "            # Recursively parse the layout objects of the object\n",
        "            show_layout(obj._objs, f)\n",
        "        elif hasattr(obj, 'bbox'):\n",
        "            # Write the class name and bounding box of the object to a file\n",
        "            f.write(f'{obj.__class__.__name__}: {obj.bbox}\\n')\n",
        "        else:\n",
        "            # Write the class name of the object to a file\n",
        "            f.write(f'Class name: {obj.__class__.__name__}\\n')\n",
        "\n",
        "\n",
        "# Extract pages from PDF file\n",
        "pages = extract_pages('/content/CARE/sample_Eng.pdf')\n",
        "\n",
        "# Parse layout information for each page\n",
        "with open('output.txt', 'w') as f:\n",
        "    for i, page_layout in enumerate(pages, start=1):\n",
        "        f.write(f'Page {i}:\\n')\n",
        "        show_layout(page_layout._objs, f)\n",
        "        f.write('\\n') # line separator for each page\n"
      ],
      "metadata": {
        "id": "OeqUoelsPMTt"
      },
      "execution_count": null,
      "outputs": []
    },
    {
      "cell_type": "code",
      "source": [
        "import nltk\n",
        "nltk.download('punkt')\n",
        "nltk.download('averaged_perceptron_tagger')\n",
        "nltk.download('maxent_ne_chunker')\n",
        "nltk.download('words')\n",
        "\n",
        "def get_depth(paragraph):\n",
        "    sentences = nltk.sent_tokenize(paragraph)\n",
        "    tokens = [nltk.word_tokenize(sentence) for sentence in sentences]\n",
        "    tagged = [nltk.pos_tag(token) for token in tokens]\n",
        "    chunked = nltk.ne_chunk_sents(tagged, binary=True)\n",
        "    depth = 0\n",
        "    for tree in chunked:\n",
        "        depth += tree.height()\n",
        "    return depth\n",
        "\n",
        "with open('/content/Dextracts/page3_info.txt', 'r') as file:\n",
        "    text = file.read()\n",
        "    paragraphs = text.split('\\n\\n')\n",
        "    for i, paragraph in enumerate(paragraphs):\n",
        "        depth = get_depth(paragraph)\n",
        "        print(f\"Depth of paragraph {i}: {depth}\")\n",
        "        # print(\"Paragraph text:\")\n",
        "        print(paragraph)\n",
        "        print(\"--------------------\")\n"
      ],
      "metadata": {
        "colab": {
          "base_uri": "https://localhost:8080/"
        },
        "id": "IRrvhgR5pWBE",
        "outputId": "3ad03ab7-4420-4d2f-cdf8-86a9652fd3e6"
      },
      "execution_count": null,
      "outputs": [
        {
          "output_type": "stream",
          "name": "stderr",
          "text": [
            "[nltk_data] Downloading package punkt to /root/nltk_data...\n",
            "[nltk_data]   Unzipping tokenizers/punkt.zip.\n",
            "[nltk_data] Downloading package averaged_perceptron_tagger to\n",
            "[nltk_data]     /root/nltk_data...\n",
            "[nltk_data]   Unzipping taggers/averaged_perceptron_tagger.zip.\n",
            "[nltk_data] Downloading package maxent_ne_chunker to\n",
            "[nltk_data]     /root/nltk_data...\n",
            "[nltk_data]   Unzipping chunkers/maxent_ne_chunker.zip.\n",
            "[nltk_data] Downloading package words to /root/nltk_data...\n",
            "[nltk_data]   Unzipping corpora/words.zip.\n"
          ]
        },
        {
          "output_type": "stream",
          "name": "stdout",
          "text": [
            "Depth of paragraph 0: 3\n",
            "Font size: 11.0\n",
            "Font name: NDJLVI+ArialNarrow-Bold\n",
            "Font color: (0.75, 0.05, 1, 0)\n",
            "Text: REPORT TO SHAREHOLDERS \n",
            "--------------------\n",
            "Depth of paragraph 1: 12\n",
            "Font size: 9.0\n",
            "Font name: FRIPNY+ArialNarrow\n",
            "Font color: (0, 0, 0, 1)\n",
            "Text: 2018  marked  a  change  in  food  and  even  drug  retail  with  the  absence  of  growth  or  expansion  at  less  than  population  growth  or  inflation  in  North \n",
            "America.  The net income attributable to equity holders of the Company attained $108.9 million, better than planned, yet shy of last year’s $119.3 million, \n",
            "while revenue grew slightly to $889.6 million.  This achievement was a blend of revenue growth in the modified atmosphere packaging, lidding and \n",
            "machinery product groups while our rigid container business receded as a result of transitioning to less costly plastic materials in our largest rigid container \n",
            "applications.  However, with the lack of retail growth and competitive selling price pressures intensifying in 2018, gross profit margins contracted 0.8 \n",
            "percent.  Unlike the prior year, raw material price pressures remained relatively tame.\n",
            "--------------------\n",
            "Depth of paragraph 2: 12\n",
            "Font size: 9.0\n",
            "Font name: AMVLVI+ArialNarrow\n",
            "Font color: (0, 0, 0, 1)\n",
            "Text: 2018  marked  a  change  in  food  and  even  drug  retail  with  the  absence  of  growth  or  expansion  at  less  than  population  growth  or  inflation  in  North \n",
            "America.  The net income attributable to equity holders of the Company attained $108.9 million, better than planned, yet shy of last year’s $119.3 million, \n",
            "while revenue grew slightly to $889.6 million.  This achievement was a blend of revenue growth in the modified atmosphere packaging, lidding and \n",
            "machinery product groups while our rigid container business receded as a result of transitioning to less costly plastic materials in our largest rigid container \n",
            "applications.  However, with the lack of retail growth and competitive selling price pressures intensifying in 2018, gross profit margins contracted 0.8 \n",
            "percent.  Unlike the prior year, raw material price pressures remained relatively tame.\n",
            "--------------------\n",
            "Depth of paragraph 3: 12\n",
            "Font size: 9.0\n",
            "Font name: FRIPNY+ArialNarrow\n",
            "Font color: (0, 0, 0, 1)\n",
            "Text: 2018  marked  a  change  in  food  and  even  drug  retail  with  the  absence  of  growth  or  expansion  at  less  than  population  growth  or  inflation  in  North \n",
            "America.  The net income attributable to equity holders of the Company attained $108.9 million, better than planned, yet shy of last year’s $119.3 million, \n",
            "while revenue grew slightly to $889.6 million.  This achievement was a blend of revenue growth in the modified atmosphere packaging, lidding and \n",
            "machinery product groups while our rigid container business receded as a result of transitioning to less costly plastic materials in our largest rigid container \n",
            "applications.  However, with the lack of retail growth and competitive selling price pressures intensifying in 2018, gross profit margins contracted 0.8 \n",
            "percent.  Unlike the prior year, raw material price pressures remained relatively tame.\n",
            "--------------------\n",
            "Depth of paragraph 4: 12\n",
            "Font size: 9.0\n",
            "Font name: AMVLVI+ArialNarrow\n",
            "Font color: (0, 0, 0, 1)\n",
            "Text: 2018  marked  a  change  in  food  and  even  drug  retail  with  the  absence  of  growth  or  expansion  at  less  than  population  growth  or  inflation  in  North \n",
            "America.  The net income attributable to equity holders of the Company attained $108.9 million, better than planned, yet shy of last year’s $119.3 million, \n",
            "while revenue grew slightly to $889.6 million.  This achievement was a blend of revenue growth in the modified atmosphere packaging, lidding and \n",
            "machinery product groups while our rigid container business receded as a result of transitioning to less costly plastic materials in our largest rigid container \n",
            "applications.  However, with the lack of retail growth and competitive selling price pressures intensifying in 2018, gross profit margins contracted 0.8 \n",
            "percent.  Unlike the prior year, raw material price pressures remained relatively tame.\n",
            "--------------------\n",
            "Depth of paragraph 5: 12\n",
            "Font size: 9.0\n",
            "Font name: FRIPNY+ArialNarrow\n",
            "Font color: (0, 0, 0, 1)\n",
            "Text: 2018  marked  a  change  in  food  and  even  drug  retail  with  the  absence  of  growth  or  expansion  at  less  than  population  growth  or  inflation  in  North \n",
            "America.  The net income attributable to equity holders of the Company attained $108.9 million, better than planned, yet shy of last year’s $119.3 million, \n",
            "while revenue grew slightly to $889.6 million.  This achievement was a blend of revenue growth in the modified atmosphere packaging, lidding and \n",
            "machinery product groups while our rigid container business receded as a result of transitioning to less costly plastic materials in our largest rigid container \n",
            "applications.  However, with the lack of retail growth and competitive selling price pressures intensifying in 2018, gross profit margins contracted 0.8 \n",
            "percent.  Unlike the prior year, raw material price pressures remained relatively tame.\n",
            "--------------------\n",
            "Depth of paragraph 6: 12\n",
            "Font size: 9.0\n",
            "Font name: AMVLVI+ArialNarrow\n",
            "Font color: (0, 0, 0, 1)\n",
            "Text: 2018  marked  a  change  in  food  and  even  drug  retail  with  the  absence  of  growth  or  expansion  at  less  than  population  growth  or  inflation  in  North \n",
            "America.  The net income attributable to equity holders of the Company attained $108.9 million, better than planned, yet shy of last year’s $119.3 million, \n",
            "while revenue grew slightly to $889.6 million.  This achievement was a blend of revenue growth in the modified atmosphere packaging, lidding and \n",
            "machinery product groups while our rigid container business receded as a result of transitioning to less costly plastic materials in our largest rigid container \n",
            "applications.  However, with the lack of retail growth and competitive selling price pressures intensifying in 2018, gross profit margins contracted 0.8 \n",
            "percent.  Unlike the prior year, raw material price pressures remained relatively tame.\n",
            "--------------------\n",
            "Depth of paragraph 7: 11\n",
            "Font size: 9.0\n",
            "Font name: AMVLVI+ArialNarrow\n",
            "Font color: (0, 0, 0, 1)\n",
            "Text: Overall, with the challenging rigid packaging transition initiated towards sustainable offerings, more than half of Winpak’s product portfolio is recycle-ready \n",
            "with further advances in material sciences being developed to offer ground-breaking recycle-ready high barrier flexible and rigid solutions based upon \n",
            "renewable materials.  The Company’s direction is set towards advancement while consciously reducing the environmental impact.  Our manufacturing \n",
            "processes and sites are relentlessly searching for ways to reduce their impact and incorporate new processes with the latest technologies to reduce \n",
            "emissions, energy consumption and production waste.  We strive to design our new processes to use green energy wherever possible, such as hydro \n",
            "electricity in Canada and avoiding natural gas.\n",
            "--------------------\n",
            "Depth of paragraph 8: 11\n",
            "Font size: 9.0\n",
            "Font name: FRIPNY+ArialNarrow\n",
            "Font color: (0, 0, 0, 1)\n",
            "Text: Overall, with the challenging rigid packaging transition initiated towards sustainable offerings, more than half of Winpak’s product portfolio is recycle-ready \n",
            "with further advances in material sciences being developed to offer ground-breaking recycle-ready high barrier flexible and rigid solutions based upon \n",
            "renewable materials.  The Company’s direction is set towards advancement while consciously reducing the environmental impact.  Our manufacturing \n",
            "processes and sites are relentlessly searching for ways to reduce their impact and incorporate new processes with the latest technologies to reduce \n",
            "emissions, energy consumption and production waste.  We strive to design our new processes to use green energy wherever possible, such as hydro \n",
            "electricity in Canada and avoiding natural gas.\n",
            "--------------------\n",
            "Depth of paragraph 9: 11\n",
            "Font size: 9.0\n",
            "Font name: AMVLVI+ArialNarrow\n",
            "Font color: (0, 0, 0, 1)\n",
            "Text: Overall, with the challenging rigid packaging transition initiated towards sustainable offerings, more than half of Winpak’s product portfolio is recycle-ready \n",
            "with further advances in material sciences being developed to offer ground-breaking recycle-ready high barrier flexible and rigid solutions based upon \n",
            "renewable materials.  The Company’s direction is set towards advancement while consciously reducing the environmental impact.  Our manufacturing \n",
            "processes and sites are relentlessly searching for ways to reduce their impact and incorporate new processes with the latest technologies to reduce \n",
            "emissions, energy consumption and production waste.  We strive to design our new processes to use green energy wherever possible, such as hydro \n",
            "electricity in Canada and avoiding natural gas.\n",
            "--------------------\n",
            "Depth of paragraph 10: 11\n",
            "Font size: 9.0\n",
            "Font name: AMVLVI+ArialNarrow\n",
            "Font color: (0, 0, 0, 1)\n",
            "Text: Overall, with the challenging rigid packaging transition initiated towards sustainable offerings, more than half of Winpak’s product portfolio is recycle-ready \n",
            "with further advances in material sciences being developed to offer ground-breaking recycle-ready high barrier flexible and rigid solutions based upon \n",
            "renewable materials.  The Company’s direction is set towards advancement while consciously reducing the environmental impact.  Our manufacturing \n",
            "processes and sites are relentlessly searching for ways to reduce their impact and incorporate new processes with the latest technologies to reduce \n",
            "emissions, energy consumption and production waste.  We strive to design our new processes to use green energy wherever possible, such as hydro \n",
            "electricity in Canada and avoiding natural gas.\n",
            "--------------------\n",
            "Depth of paragraph 11: 11\n",
            "Font size: 9.0\n",
            "Font name: AMVLVI+ArialNarrow\n",
            "Font color: (0, 0, 0, 1)\n",
            "Text: Overall, with the challenging rigid packaging transition initiated towards sustainable offerings, more than half of Winpak’s product portfolio is recycle-ready \n",
            "with further advances in material sciences being developed to offer ground-breaking recycle-ready high barrier flexible and rigid solutions based upon \n",
            "renewable materials.  The Company’s direction is set towards advancement while consciously reducing the environmental impact.  Our manufacturing \n",
            "processes and sites are relentlessly searching for ways to reduce their impact and incorporate new processes with the latest technologies to reduce \n",
            "emissions, energy consumption and production waste.  We strive to design our new processes to use green energy wherever possible, such as hydro \n",
            "electricity in Canada and avoiding natural gas.\n",
            "--------------------\n",
            "Depth of paragraph 12: 11\n",
            "Font size: 9.0\n",
            "Font name: AMVLVI+ArialNarrow\n",
            "Font color: (0, 0, 0, 1)\n",
            "Text: Overall, with the challenging rigid packaging transition initiated towards sustainable offerings, more than half of Winpak’s product portfolio is recycle-ready \n",
            "with further advances in material sciences being developed to offer ground-breaking recycle-ready high barrier flexible and rigid solutions based upon \n",
            "renewable materials.  The Company’s direction is set towards advancement while consciously reducing the environmental impact.  Our manufacturing \n",
            "processes and sites are relentlessly searching for ways to reduce their impact and incorporate new processes with the latest technologies to reduce \n",
            "emissions, energy consumption and production waste.  We strive to design our new processes to use green energy wherever possible, such as hydro \n",
            "electricity in Canada and avoiding natural gas.\n",
            "--------------------\n",
            "Depth of paragraph 13: 12\n",
            "Font size: 9.0\n",
            "Font name: AMVLVI+ArialNarrow\n",
            "Font color: (0, 0, 0, 1)\n",
            "Text: The continued progression at the Winnipeg, Manitoba facility relies largely on the capabilities of Winpak’s latest and largest, high barrier cast co-extrusion \n",
            "technology expansion along with re-engineering existing lines to meet the new state of the art technology.  In addition, different product designs are being \n",
            "considered for a new generation of films as an upgrade to the most recently installed line.  The step-ups in productivity and quality consistency have been \n",
            "instrumental in mitigating the impact of raw material price increases and further steps in automation utilization will also contribute to maintaining low costs.  \n",
            "Additional high barrier co-extruded blown film capacity was added mid-year to keep up with the demand in sophisticated high barrier pouch structures.  \n",
            "These new capabilities enhance the Company’s portfolio of high barrier films for modified atmosphere packaging.\n",
            "--------------------\n",
            "Depth of paragraph 14: 12\n",
            "Font size: 9.0\n",
            "Font name: AMVLVI+ArialNarrow\n",
            "Font color: (0, 0, 0, 1)\n",
            "Text: The continued progression at the Winnipeg, Manitoba facility relies largely on the capabilities of Winpak’s latest and largest, high barrier cast co-extrusion \n",
            "technology expansion along with re-engineering existing lines to meet the new state of the art technology.  In addition, different product designs are being \n",
            "considered for a new generation of films as an upgrade to the most recently installed line.  The step-ups in productivity and quality consistency have been \n",
            "instrumental in mitigating the impact of raw material price increases and further steps in automation utilization will also contribute to maintaining low costs.  \n",
            "Additional high barrier co-extruded blown film capacity was added mid-year to keep up with the demand in sophisticated high barrier pouch structures.  \n",
            "These new capabilities enhance the Company’s portfolio of high barrier films for modified atmosphere packaging.\n",
            "--------------------\n",
            "Depth of paragraph 15: 12\n",
            "Font size: 9.0\n",
            "Font name: FRIPNY+ArialNarrow\n",
            "Font color: (0, 0, 0, 1)\n",
            "Text: The continued progression at the Winnipeg, Manitoba facility relies largely on the capabilities of Winpak’s latest and largest, high barrier cast co-extrusion \n",
            "technology expansion along with re-engineering existing lines to meet the new state of the art technology.  In addition, different product designs are being \n",
            "considered for a new generation of films as an upgrade to the most recently installed line.  The step-ups in productivity and quality consistency have been \n",
            "instrumental in mitigating the impact of raw material price increases and further steps in automation utilization will also contribute to maintaining low costs.  \n",
            "Additional high barrier co-extruded blown film capacity was added mid-year to keep up with the demand in sophisticated high barrier pouch structures.  \n",
            "These new capabilities enhance the Company’s portfolio of high barrier films for modified atmosphere packaging.\n",
            "--------------------\n",
            "Depth of paragraph 16: 12\n",
            "Font size: 9.0\n",
            "Font name: AMVLVI+ArialNarrow\n",
            "Font color: (0, 0, 0, 1)\n",
            "Text: The continued progression at the Winnipeg, Manitoba facility relies largely on the capabilities of Winpak’s latest and largest, high barrier cast co-extrusion \n",
            "technology expansion along with re-engineering existing lines to meet the new state of the art technology.  In addition, different product designs are being \n",
            "considered for a new generation of films as an upgrade to the most recently installed line.  The step-ups in productivity and quality consistency have been \n",
            "instrumental in mitigating the impact of raw material price increases and further steps in automation utilization will also contribute to maintaining low costs.  \n",
            "Additional high barrier co-extruded blown film capacity was added mid-year to keep up with the demand in sophisticated high barrier pouch structures.  \n",
            "These new capabilities enhance the Company’s portfolio of high barrier films for modified atmosphere packaging.\n",
            "--------------------\n",
            "Depth of paragraph 17: 12\n",
            "Font size: 9.0\n",
            "Font name: FRIPNY+ArialNarrow\n",
            "Font color: (0, 0, 0, 1)\n",
            "Text: The continued progression at the Winnipeg, Manitoba facility relies largely on the capabilities of Winpak’s latest and largest, high barrier cast co-extrusion \n",
            "technology expansion along with re-engineering existing lines to meet the new state of the art technology.  In addition, different product designs are being \n",
            "considered for a new generation of films as an upgrade to the most recently installed line.  The step-ups in productivity and quality consistency have been \n",
            "instrumental in mitigating the impact of raw material price increases and further steps in automation utilization will also contribute to maintaining low costs.  \n",
            "Additional high barrier co-extruded blown film capacity was added mid-year to keep up with the demand in sophisticated high barrier pouch structures.  \n",
            "These new capabilities enhance the Company’s portfolio of high barrier films for modified atmosphere packaging.\n",
            "--------------------\n",
            "Depth of paragraph 18: 12\n",
            "Font size: 9.0\n",
            "Font name: FRIPNY+ArialNarrow\n",
            "Font color: (0, 0, 0, 1)\n",
            "Text: The continued progression at the Winnipeg, Manitoba facility relies largely on the capabilities of Winpak’s latest and largest, high barrier cast co-extrusion \n",
            "technology expansion along with re-engineering existing lines to meet the new state of the art technology.  In addition, different product designs are being \n",
            "considered for a new generation of films as an upgrade to the most recently installed line.  The step-ups in productivity and quality consistency have been \n",
            "instrumental in mitigating the impact of raw material price increases and further steps in automation utilization will also contribute to maintaining low costs.  \n",
            "Additional high barrier co-extruded blown film capacity was added mid-year to keep up with the demand in sophisticated high barrier pouch structures.  \n",
            "These new capabilities enhance the Company’s portfolio of high barrier films for modified atmosphere packaging.\n",
            "--------------------\n",
            "Depth of paragraph 19: 8\n",
            "Font size: 9.0\n",
            "Font name: FRIPNY+ArialNarrow\n",
            "Font color: (0, 0, 0, 1)\n",
            "Text: Similarly, Winpak’s specialty films business in Senoia, Georgia which benefited from an 80,000 square foot building expansion, has been ramping up \n",
            "with a new blown film co-extrusion line and will be proceeding with additional capacity in early 2020 to keep up with demand for sophisticated high barrier \n",
            "food and medical films.  To streamline the marketing of Winnipeg and Senoia’s complementary product portfolio, the two teams are now under a single \n",
            "management structure.  The shrink bag co-extrusion lines from our first expansion are all undergoing significant re-design and technology improvements \n",
            "towards new state of the art capabilities for the speciality meat and cheese markets.\n",
            "--------------------\n",
            "Depth of paragraph 20: 8\n",
            "Font size: 9.0\n",
            "Font name: FRIPNY+ArialNarrow\n",
            "Font color: (0, 0, 0, 1)\n",
            "Text: Similarly, Winpak’s specialty films business in Senoia, Georgia which benefited from an 80,000 square foot building expansion, has been ramping up \n",
            "with a new blown film co-extrusion line and will be proceeding with additional capacity in early 2020 to keep up with demand for sophisticated high barrier \n",
            "food and medical films.  To streamline the marketing of Winnipeg and Senoia’s complementary product portfolio, the two teams are now under a single \n",
            "management structure.  The shrink bag co-extrusion lines from our first expansion are all undergoing significant re-design and technology improvements \n",
            "towards new state of the art capabilities for the speciality meat and cheese markets.\n",
            "--------------------\n",
            "Depth of paragraph 21: 8\n",
            "Font size: 9.0\n",
            "Font name: FRIPNY+ArialNarrow\n",
            "Font color: (0, 0, 0, 1)\n",
            "Text: Similarly, Winpak’s specialty films business in Senoia, Georgia which benefited from an 80,000 square foot building expansion, has been ramping up \n",
            "with a new blown film co-extrusion line and will be proceeding with additional capacity in early 2020 to keep up with demand for sophisticated high barrier \n",
            "food and medical films.  To streamline the marketing of Winnipeg and Senoia’s complementary product portfolio, the two teams are now under a single \n",
            "management structure.  The shrink bag co-extrusion lines from our first expansion are all undergoing significant re-design and technology improvements \n",
            "towards new state of the art capabilities for the speciality meat and cheese markets.\n",
            "--------------------\n",
            "Depth of paragraph 22: 8\n",
            "Font size: 9.0\n",
            "Font name: FRIPNY+ArialNarrow\n",
            "Font color: (0, 0, 0, 1)\n",
            "Text: Similarly, Winpak’s specialty films business in Senoia, Georgia which benefited from an 80,000 square foot building expansion, has been ramping up \n",
            "with a new blown film co-extrusion line and will be proceeding with additional capacity in early 2020 to keep up with demand for sophisticated high barrier \n",
            "food and medical films.  To streamline the marketing of Winnipeg and Senoia’s complementary product portfolio, the two teams are now under a single \n",
            "management structure.  The shrink bag co-extrusion lines from our first expansion are all undergoing significant re-design and technology improvements \n",
            "towards new state of the art capabilities for the speciality meat and cheese markets.\n",
            "--------------------\n",
            "Depth of paragraph 23: 8\n",
            "Font size: 9.0\n",
            "Font name: AMVLVI+ArialNarrow\n",
            "Font color: (0, 0, 0, 1)\n",
            "Text: Similarly, Winpak’s specialty films business in Senoia, Georgia which benefited from an 80,000 square foot building expansion, has been ramping up \n",
            "with a new blown film co-extrusion line and will be proceeding with additional capacity in early 2020 to keep up with demand for sophisticated high barrier \n",
            "food and medical films.  To streamline the marketing of Winnipeg and Senoia’s complementary product portfolio, the two teams are now under a single \n",
            "management structure.  The shrink bag co-extrusion lines from our first expansion are all undergoing significant re-design and technology improvements \n",
            "towards new state of the art capabilities for the speciality meat and cheese markets.\n",
            "--------------------\n",
            "Depth of paragraph 24: 10\n",
            "Font size: 9.0\n",
            "Font name: FRIPNY+ArialNarrow\n",
            "Font color: (0, 0, 0, 1)\n",
            "Text: 2018 was again remarkable for the Winpak–Sojitz Corporation of Japan business venture producing biaxially oriented polyamide (nylon) films.   American \n",
            "Biaxis  achieved record productivity in the latter part of the year to counteract elevated raw material costs and increased selling price competition, whereas \n",
            "the beginning of the year had proven challenging from a productivity standpoint.  Once more, the focus on quality and customer service outweighed \n",
            "competitive selling price pressures from offshore suppliers.  The announced building and equipment capacity expansion will break ground in early 2019.\n",
            "--------------------\n",
            "Depth of paragraph 25: 10\n",
            "Font size: 9.0\n",
            "Font name: AMVLVI+ArialNarrow\n",
            "Font color: (0, 0, 0, 1)\n",
            "Text: 2018 was again remarkable for the Winpak–Sojitz Corporation of Japan business venture producing biaxially oriented polyamide (nylon) films.   American \n",
            "Biaxis  achieved record productivity in the latter part of the year to counteract elevated raw material costs and increased selling price competition, whereas \n",
            "the beginning of the year had proven challenging from a productivity standpoint.  Once more, the focus on quality and customer service outweighed \n",
            "competitive selling price pressures from offshore suppliers.  The announced building and equipment capacity expansion will break ground in early 2019.\n",
            "--------------------\n",
            "Depth of paragraph 26: 10\n",
            "Font size: 9.0\n",
            "Font name: AMVLVI+ArialNarrow\n",
            "Font color: (0, 0, 0, 1)\n",
            "Text: 2018 was again remarkable for the Winpak–Sojitz Corporation of Japan business venture producing biaxially oriented polyamide (nylon) films.   American \n",
            "Biaxis  achieved record productivity in the latter part of the year to counteract elevated raw material costs and increased selling price competition, whereas \n",
            "the beginning of the year had proven challenging from a productivity standpoint.  Once more, the focus on quality and customer service outweighed \n",
            "competitive selling price pressures from offshore suppliers.  The announced building and equipment capacity expansion will break ground in early 2019.\n",
            "--------------------\n",
            "Depth of paragraph 27: 10\n",
            "Font size: 9.0\n",
            "Font name: AMVLVI+ArialNarrow\n",
            "Font color: (0, 0, 0, 1)\n",
            "Text: 2018 was again remarkable for the Winpak–Sojitz Corporation of Japan business venture producing biaxially oriented polyamide (nylon) films.   American \n",
            "Biaxis  achieved record productivity in the latter part of the year to counteract elevated raw material costs and increased selling price competition, whereas \n",
            "the beginning of the year had proven challenging from a productivity standpoint.  Once more, the focus on quality and customer service outweighed \n",
            "competitive selling price pressures from offshore suppliers.  The announced building and equipment capacity expansion will break ground in early 2019.\n",
            "--------------------\n",
            "Depth of paragraph 28: 6\n",
            "Font size: 9.0\n",
            "Font name: FRIPNY+ArialNarrow\n",
            "Font color: (0, 0, 0, 1)\n",
            "Text: Overall, Winpak’s flexible packaging business grew slightly in 2018, in the face of stronger than ever selling pricing competition and surprisingly low retail \n",
            "growth.  Going forward, Winpak’s offering in high barrier recycle-ready flexible packaging will expand, relying on our uniquely sophisticated infrastructure.\n",
            "--------------------\n",
            "Depth of paragraph 29: 6\n",
            "Font size: 9.0\n",
            "Font name: FRIPNY+ArialNarrow\n",
            "Font color: (0, 0, 0, 1)\n",
            "Text: Overall, Winpak’s flexible packaging business grew slightly in 2018, in the face of stronger than ever selling pricing competition and surprisingly low retail \n",
            "growth.  Going forward, Winpak’s offering in high barrier recycle-ready flexible packaging will expand, relying on our uniquely sophisticated infrastructure.\n",
            "--------------------\n",
            "Depth of paragraph 30: 9\n",
            "Font size: 9.0\n",
            "Font name: AMVLVI+ArialNarrow\n",
            "Font color: (0, 0, 0, 1)\n",
            "Text: In 2018, the Company’s rigid container business which consists of the production of plastic sheets and thermoformed barrier containers in two locations \n",
            "in Chicago, Illinois and one in Toronto saw the start-up of a new sheet and in-line thermoforming line in the newly expanded 348,000 square foot site and \n",
            "the engineering of two more lines to be installed in 2019 and 2020.  The mentioned contraction of the rigid container revenue is not the result of a loss of \n",
            "business, but the transition to less costly and lighter plastics, mainly moving out of polystyrene for materials that are easier to recycle, such as from the \n",
            "family of polyolefins (polypropylene and polyethylene) and to some extent due to competitive selling price pressures.  To date, more than half our portfolio \n",
            "of rigid containers are so called recycle-ready and this will continue to increase, while solutions from renewable resources are actively being pursued and \n",
            "developed.  The rationale of expanding the rigid container capacity is driven by growth in condiments for convenience with ready-to-serve meals and meal \n",
            "kits as well as a return to single portion containers away from multi-pocket solutions in dairy and dessert offerings.\n",
            "--------------------\n",
            "Depth of paragraph 31: 9\n",
            "Font size: 9.0\n",
            "Font name: AMVLVI+ArialNarrow\n",
            "Font color: (0, 0, 0, 1)\n",
            "Text: In 2018, the Company’s rigid container business which consists of the production of plastic sheets and thermoformed barrier containers in two locations \n",
            "in Chicago, Illinois and one in Toronto saw the start-up of a new sheet and in-line thermoforming line in the newly expanded 348,000 square foot site and \n",
            "the engineering of two more lines to be installed in 2019 and 2020.  The mentioned contraction of the rigid container revenue is not the result of a loss of \n",
            "business, but the transition to less costly and lighter plastics, mainly moving out of polystyrene for materials that are easier to recycle, such as from the \n",
            "family of polyolefins (polypropylene and polyethylene) and to some extent due to competitive selling price pressures.  To date, more than half our portfolio \n",
            "of rigid containers are so called recycle-ready and this will continue to increase, while solutions from renewable resources are actively being pursued and \n",
            "developed.  The rationale of expanding the rigid container capacity is driven by growth in condiments for convenience with ready-to-serve meals and meal \n",
            "kits as well as a return to single portion containers away from multi-pocket solutions in dairy and dessert offerings.\n",
            "--------------------\n",
            "Depth of paragraph 32: 9\n",
            "Font size: 9.0\n",
            "Font name: AMVLVI+ArialNarrow\n",
            "Font color: (0, 0, 0, 1)\n",
            "Text: In 2018, the Company’s rigid container business which consists of the production of plastic sheets and thermoformed barrier containers in two locations \n",
            "in Chicago, Illinois and one in Toronto saw the start-up of a new sheet and in-line thermoforming line in the newly expanded 348,000 square foot site and \n",
            "the engineering of two more lines to be installed in 2019 and 2020.  The mentioned contraction of the rigid container revenue is not the result of a loss of \n",
            "business, but the transition to less costly and lighter plastics, mainly moving out of polystyrene for materials that are easier to recycle, such as from the \n",
            "family of polyolefins (polypropylene and polyethylene) and to some extent due to competitive selling price pressures.  To date, more than half our portfolio \n",
            "of rigid containers are so called recycle-ready and this will continue to increase, while solutions from renewable resources are actively being pursued and \n",
            "developed.  The rationale of expanding the rigid container capacity is driven by growth in condiments for convenience with ready-to-serve meals and meal \n",
            "kits as well as a return to single portion containers away from multi-pocket solutions in dairy and dessert offerings.\n",
            "--------------------\n",
            "Depth of paragraph 33: 9\n",
            "Font size: 9.0\n",
            "Font name: AMVLVI+ArialNarrow\n",
            "Font color: (0, 0, 0, 1)\n",
            "Text: In 2018, the Company’s rigid container business which consists of the production of plastic sheets and thermoformed barrier containers in two locations \n",
            "in Chicago, Illinois and one in Toronto saw the start-up of a new sheet and in-line thermoforming line in the newly expanded 348,000 square foot site and \n",
            "the engineering of two more lines to be installed in 2019 and 2020.  The mentioned contraction of the rigid container revenue is not the result of a loss of \n",
            "business, but the transition to less costly and lighter plastics, mainly moving out of polystyrene for materials that are easier to recycle, such as from the \n",
            "family of polyolefins (polypropylene and polyethylene) and to some extent due to competitive selling price pressures.  To date, more than half our portfolio \n",
            "of rigid containers are so called recycle-ready and this will continue to increase, while solutions from renewable resources are actively being pursued and \n",
            "developed.  The rationale of expanding the rigid container capacity is driven by growth in condiments for convenience with ready-to-serve meals and meal \n",
            "kits as well as a return to single portion containers away from multi-pocket solutions in dairy and dessert offerings.\n",
            "--------------------\n",
            "Depth of paragraph 34: 9\n",
            "Font size: 9.0\n",
            "Font name: FRIPNY+ArialNarrow\n",
            "Font color: (0, 0, 0, 1)\n",
            "Text: In 2018, the Company’s rigid container business which consists of the production of plastic sheets and thermoformed barrier containers in two locations \n",
            "in Chicago, Illinois and one in Toronto saw the start-up of a new sheet and in-line thermoforming line in the newly expanded 348,000 square foot site and \n",
            "the engineering of two more lines to be installed in 2019 and 2020.  The mentioned contraction of the rigid container revenue is not the result of a loss of \n",
            "business, but the transition to less costly and lighter plastics, mainly moving out of polystyrene for materials that are easier to recycle, such as from the \n",
            "family of polyolefins (polypropylene and polyethylene) and to some extent due to competitive selling price pressures.  To date, more than half our portfolio \n",
            "of rigid containers are so called recycle-ready and this will continue to increase, while solutions from renewable resources are actively being pursued and \n",
            "developed.  The rationale of expanding the rigid container capacity is driven by growth in condiments for convenience with ready-to-serve meals and meal \n",
            "kits as well as a return to single portion containers away from multi-pocket solutions in dairy and dessert offerings.\n",
            "--------------------\n",
            "Depth of paragraph 35: 9\n",
            "Font size: 9.0\n",
            "Font name: AMVLVI+ArialNarrow\n",
            "Font color: (0, 0, 0, 1)\n",
            "Text: In 2018, the Company’s rigid container business which consists of the production of plastic sheets and thermoformed barrier containers in two locations \n",
            "in Chicago, Illinois and one in Toronto saw the start-up of a new sheet and in-line thermoforming line in the newly expanded 348,000 square foot site and \n",
            "the engineering of two more lines to be installed in 2019 and 2020.  The mentioned contraction of the rigid container revenue is not the result of a loss of \n",
            "business, but the transition to less costly and lighter plastics, mainly moving out of polystyrene for materials that are easier to recycle, such as from the \n",
            "family of polyolefins (polypropylene and polyethylene) and to some extent due to competitive selling price pressures.  To date, more than half our portfolio \n",
            "of rigid containers are so called recycle-ready and this will continue to increase, while solutions from renewable resources are actively being pursued and \n",
            "developed.  The rationale of expanding the rigid container capacity is driven by growth in condiments for convenience with ready-to-serve meals and meal \n",
            "kits as well as a return to single portion containers away from multi-pocket solutions in dairy and dessert offerings.\n",
            "--------------------\n",
            "Depth of paragraph 36: 9\n",
            "Font size: 9.0\n",
            "Font name: AMVLVI+ArialNarrow\n",
            "Font color: (0, 0, 0, 1)\n",
            "Text: In 2018, the Company’s rigid container business which consists of the production of plastic sheets and thermoformed barrier containers in two locations \n",
            "in Chicago, Illinois and one in Toronto saw the start-up of a new sheet and in-line thermoforming line in the newly expanded 348,000 square foot site and \n",
            "the engineering of two more lines to be installed in 2019 and 2020.  The mentioned contraction of the rigid container revenue is not the result of a loss of \n",
            "business, but the transition to less costly and lighter plastics, mainly moving out of polystyrene for materials that are easier to recycle, such as from the \n",
            "family of polyolefins (polypropylene and polyethylene) and to some extent due to competitive selling price pressures.  To date, more than half our portfolio \n",
            "of rigid containers are so called recycle-ready and this will continue to increase, while solutions from renewable resources are actively being pursued and \n",
            "developed.  The rationale of expanding the rigid container capacity is driven by growth in condiments for convenience with ready-to-serve meals and meal \n",
            "kits as well as a return to single portion containers away from multi-pocket solutions in dairy and dessert offerings.\n",
            "--------------------\n",
            "Depth of paragraph 37: 9\n",
            "Font size: 9.0\n",
            "Font name: AMVLVI+ArialNarrow\n",
            "Font color: (0, 0, 0, 1)\n",
            "Text: In 2018, the Company’s rigid container business which consists of the production of plastic sheets and thermoformed barrier containers in two locations \n",
            "in Chicago, Illinois and one in Toronto saw the start-up of a new sheet and in-line thermoforming line in the newly expanded 348,000 square foot site and \n",
            "the engineering of two more lines to be installed in 2019 and 2020.  The mentioned contraction of the rigid container revenue is not the result of a loss of \n",
            "business, but the transition to less costly and lighter plastics, mainly moving out of polystyrene for materials that are easier to recycle, such as from the \n",
            "family of polyolefins (polypropylene and polyethylene) and to some extent due to competitive selling price pressures.  To date, more than half our portfolio \n",
            "of rigid containers are so called recycle-ready and this will continue to increase, while solutions from renewable resources are actively being pursued and \n",
            "developed.  The rationale of expanding the rigid container capacity is driven by growth in condiments for convenience with ready-to-serve meals and meal \n",
            "kits as well as a return to single portion containers away from multi-pocket solutions in dairy and dessert offerings.\n",
            "--------------------\n",
            "Depth of paragraph 38: 10\n",
            "Font size: 9.0\n",
            "Font name: FRIPNY+ArialNarrow\n",
            "Font color: (0, 0, 0, 1)\n",
            "Text: The Company’s product offering as a system of high-tech flexible lidding solutions combined with rigid containers, whether in die-cut or roll-fed form, \n",
            "aluminum-based or high barrier plastics sets Winpak apart in the industry.  At the Vaudreuil-Dorion, Quebec facility, the newly re-engineered tandem \n",
            "extrusion line and new printing press have proven instrumental in growing the range of new generation roll-fed flexible lidding products to complement \n",
            "our large die-cut lid presence.  The vast expansion of our Mexican operations is nearing completion with the die-cut business already in operation while \n",
            "equipment for the converting portion of the plant is being assembled for start-up in the second quarter of 2019.  Together with the newly re-organized \n",
            "healthcare team, modest revenue growth was achieved in 2018.\n",
            "--------------------\n",
            "Depth of paragraph 39: 10\n",
            "Font size: 9.0\n",
            "Font name: AMVLVI+ArialNarrow\n",
            "Font color: (0, 0, 0, 1)\n",
            "Text: The Company’s product offering as a system of high-tech flexible lidding solutions combined with rigid containers, whether in die-cut or roll-fed form, \n",
            "aluminum-based or high barrier plastics sets Winpak apart in the industry.  At the Vaudreuil-Dorion, Quebec facility, the newly re-engineered tandem \n",
            "extrusion line and new printing press have proven instrumental in growing the range of new generation roll-fed flexible lidding products to complement \n",
            "our large die-cut lid presence.  The vast expansion of our Mexican operations is nearing completion with the die-cut business already in operation while \n",
            "equipment for the converting portion of the plant is being assembled for start-up in the second quarter of 2019.  Together with the newly re-organized \n",
            "healthcare team, modest revenue growth was achieved in 2018.\n",
            "--------------------\n",
            "Depth of paragraph 40: 10\n",
            "Font size: 9.0\n",
            "Font name: FRIPNY+ArialNarrow\n",
            "Font color: (0, 0, 0, 1)\n",
            "Text: The Company’s product offering as a system of high-tech flexible lidding solutions combined with rigid containers, whether in die-cut or roll-fed form, \n",
            "aluminum-based or high barrier plastics sets Winpak apart in the industry.  At the Vaudreuil-Dorion, Quebec facility, the newly re-engineered tandem \n",
            "extrusion line and new printing press have proven instrumental in growing the range of new generation roll-fed flexible lidding products to complement \n",
            "our large die-cut lid presence.  The vast expansion of our Mexican operations is nearing completion with the die-cut business already in operation while \n",
            "equipment for the converting portion of the plant is being assembled for start-up in the second quarter of 2019.  Together with the newly re-organized \n",
            "healthcare team, modest revenue growth was achieved in 2018.\n",
            "--------------------\n",
            "Depth of paragraph 41: 10\n",
            "Font size: 9.0\n",
            "Font name: AMVLVI+ArialNarrow\n",
            "Font color: (0, 0, 0, 1)\n",
            "Text: The Company’s product offering as a system of high-tech flexible lidding solutions combined with rigid containers, whether in die-cut or roll-fed form, \n",
            "aluminum-based or high barrier plastics sets Winpak apart in the industry.  At the Vaudreuil-Dorion, Quebec facility, the newly re-engineered tandem \n",
            "extrusion line and new printing press have proven instrumental in growing the range of new generation roll-fed flexible lidding products to complement \n",
            "our large die-cut lid presence.  The vast expansion of our Mexican operations is nearing completion with the die-cut business already in operation while \n",
            "equipment for the converting portion of the plant is being assembled for start-up in the second quarter of 2019.  Together with the newly re-organized \n",
            "healthcare team, modest revenue growth was achieved in 2018.\n",
            "--------------------\n",
            "Depth of paragraph 42: 10\n",
            "Font size: 9.0\n",
            "Font name: AMVLVI+ArialNarrow\n",
            "Font color: (0, 0, 0, 1)\n",
            "Text: The Company’s product offering as a system of high-tech flexible lidding solutions combined with rigid containers, whether in die-cut or roll-fed form, \n",
            "aluminum-based or high barrier plastics sets Winpak apart in the industry.  At the Vaudreuil-Dorion, Quebec facility, the newly re-engineered tandem \n",
            "extrusion line and new printing press have proven instrumental in growing the range of new generation roll-fed flexible lidding products to complement \n",
            "our large die-cut lid presence.  The vast expansion of our Mexican operations is nearing completion with the die-cut business already in operation while \n",
            "equipment for the converting portion of the plant is being assembled for start-up in the second quarter of 2019.  Together with the newly re-organized \n",
            "healthcare team, modest revenue growth was achieved in 2018.\n",
            "--------------------\n",
            "Depth of paragraph 43: 10\n",
            "Font size: 9.0\n",
            "Font name: AMVLVI+ArialNarrow\n",
            "Font color: (0, 0, 0, 1)\n",
            "Text: The Company’s product offering as a system of high-tech flexible lidding solutions combined with rigid containers, whether in die-cut or roll-fed form, \n",
            "aluminum-based or high barrier plastics sets Winpak apart in the industry.  At the Vaudreuil-Dorion, Quebec facility, the newly re-engineered tandem \n",
            "extrusion line and new printing press have proven instrumental in growing the range of new generation roll-fed flexible lidding products to complement \n",
            "our large die-cut lid presence.  The vast expansion of our Mexican operations is nearing completion with the die-cut business already in operation while \n",
            "equipment for the converting portion of the plant is being assembled for start-up in the second quarter of 2019.  Together with the newly re-organized \n",
            "healthcare team, modest revenue growth was achieved in 2018.\n",
            "--------------------\n",
            "Depth of paragraph 44: 14\n",
            "Font size: 9.0\n",
            "Font name: FRIPNY+ArialNarrow\n",
            "Font color: (0, 0, 0, 1)\n",
            "Text: Winpak’s  packaging  machinery  division  in  San  Bernardino,  California  contributed  in  2018  with  significant  revenue  momentum,  establishing  another \n",
            "milestone year for both machinery and services.  Even more significant to Winpak is the packaging film system sales approach and improved customer \n",
            "service with in-house lab testing providing a full range of sachet packaging machines available for customers to perform product testing.  Not to mention, \n",
            "the launch of a commercial relationship with Unifill Srl. of Italy producing highly specialized blown thermoformed single serve containers.  Going forward, \n",
            "the machinery operations will relocate to a more spacious site to allow it to grow and set the stage for new equipment designs and enhanced manufacturing \n",
            "and assembly capabilities.\n",
            "--------------------\n",
            "Depth of paragraph 45: 14\n",
            "Font size: 9.0\n",
            "Font name: FRIPNY+ArialNarrow\n",
            "Font color: (0, 0, 0, 1)\n",
            "Text: Winpak’s  packaging  machinery  division  in  San  Bernardino,  California  contributed  in  2018  with  significant  revenue  momentum,  establishing  another \n",
            "milestone year for both machinery and services.  Even more significant to Winpak is the packaging film system sales approach and improved customer \n",
            "service with in-house lab testing providing a full range of sachet packaging machines available for customers to perform product testing.  Not to mention, \n",
            "the launch of a commercial relationship with Unifill Srl. of Italy producing highly specialized blown thermoformed single serve containers.  Going forward, \n",
            "the machinery operations will relocate to a more spacious site to allow it to grow and set the stage for new equipment designs and enhanced manufacturing \n",
            "and assembly capabilities.\n",
            "--------------------\n",
            "Depth of paragraph 46: 14\n",
            "Font size: 9.0\n",
            "Font name: FRIPNY+ArialNarrow\n",
            "Font color: (0, 0, 0, 1)\n",
            "Text: Winpak’s  packaging  machinery  division  in  San  Bernardino,  California  contributed  in  2018  with  significant  revenue  momentum,  establishing  another \n",
            "milestone year for both machinery and services.  Even more significant to Winpak is the packaging film system sales approach and improved customer \n",
            "service with in-house lab testing providing a full range of sachet packaging machines available for customers to perform product testing.  Not to mention, \n",
            "the launch of a commercial relationship with Unifill Srl. of Italy producing highly specialized blown thermoformed single serve containers.  Going forward, \n",
            "the machinery operations will relocate to a more spacious site to allow it to grow and set the stage for new equipment designs and enhanced manufacturing \n",
            "and assembly capabilities.\n",
            "--------------------\n",
            "Depth of paragraph 47: 14\n",
            "Font size: 9.0\n",
            "Font name: FRIPNY+ArialNarrow\n",
            "Font color: (0, 0, 0, 1)\n",
            "Text: Winpak’s  packaging  machinery  division  in  San  Bernardino,  California  contributed  in  2018  with  significant  revenue  momentum,  establishing  another \n",
            "milestone year for both machinery and services.  Even more significant to Winpak is the packaging film system sales approach and improved customer \n",
            "service with in-house lab testing providing a full range of sachet packaging machines available for customers to perform product testing.  Not to mention, \n",
            "the launch of a commercial relationship with Unifill Srl. of Italy producing highly specialized blown thermoformed single serve containers.  Going forward, \n",
            "the machinery operations will relocate to a more spacious site to allow it to grow and set the stage for new equipment designs and enhanced manufacturing \n",
            "and assembly capabilities.\n",
            "--------------------\n",
            "Depth of paragraph 48: 14\n",
            "Font size: 9.0\n",
            "Font name: AMVLVI+ArialNarrow\n",
            "Font color: (0, 0, 0, 1)\n",
            "Text: Winpak’s  packaging  machinery  division  in  San  Bernardino,  California  contributed  in  2018  with  significant  revenue  momentum,  establishing  another \n",
            "milestone year for both machinery and services.  Even more significant to Winpak is the packaging film system sales approach and improved customer \n",
            "service with in-house lab testing providing a full range of sachet packaging machines available for customers to perform product testing.  Not to mention, \n",
            "the launch of a commercial relationship with Unifill Srl. of Italy producing highly specialized blown thermoformed single serve containers.  Going forward, \n",
            "the machinery operations will relocate to a more spacious site to allow it to grow and set the stage for new equipment designs and enhanced manufacturing \n",
            "and assembly capabilities.\n",
            "--------------------\n",
            "Depth of paragraph 49: 14\n",
            "Font size: 9.0\n",
            "Font name: AMVLVI+ArialNarrow\n",
            "Font color: (0, 0, 0, 1)\n",
            "Text: Winpak’s  packaging  machinery  division  in  San  Bernardino,  California  contributed  in  2018  with  significant  revenue  momentum,  establishing  another \n",
            "milestone year for both machinery and services.  Even more significant to Winpak is the packaging film system sales approach and improved customer \n",
            "service with in-house lab testing providing a full range of sachet packaging machines available for customers to perform product testing.  Not to mention, \n",
            "the launch of a commercial relationship with Unifill Srl. of Italy producing highly specialized blown thermoformed single serve containers.  Going forward, \n",
            "the machinery operations will relocate to a more spacious site to allow it to grow and set the stage for new equipment designs and enhanced manufacturing \n",
            "and assembly capabilities.\n",
            "--------------------\n",
            "Depth of paragraph 50: 6\n",
            "Font size: 9.0\n",
            "Font name: AMVLVI+ArialNarrow\n",
            "Font color: (0, 0, 0, 1)\n",
            "Text: Overall,  2018  yielded  several  Company  records  despite  very  challenging  competitive  market  pressures  and  disappointing  retail  consumption  thus \n",
            "demonstrating the sound nature of the infrastructure and equipment investments coming to fruition across the Company.  Key capital investment decisions \n",
            "for future growth throughout the business are under way to continue the momentum going forward, under the lens of reducing our environmental footprint \n",
            "and impact.\n",
            "--------------------\n",
            "Depth of paragraph 51: 6\n",
            "Font size: 9.0\n",
            "Font name: AMVLVI+ArialNarrow\n",
            "Font color: (0, 0, 0, 1)\n",
            "Text: Overall,  2018  yielded  several  Company  records  despite  very  challenging  competitive  market  pressures  and  disappointing  retail  consumption  thus \n",
            "demonstrating the sound nature of the infrastructure and equipment investments coming to fruition across the Company.  Key capital investment decisions \n",
            "for future growth throughout the business are under way to continue the momentum going forward, under the lens of reducing our environmental footprint \n",
            "and impact.\n",
            "--------------------\n",
            "Depth of paragraph 52: 6\n",
            "Font size: 9.0\n",
            "Font name: AMVLVI+ArialNarrow\n",
            "Font color: (0, 0, 0, 1)\n",
            "Text: Overall,  2018  yielded  several  Company  records  despite  very  challenging  competitive  market  pressures  and  disappointing  retail  consumption  thus \n",
            "demonstrating the sound nature of the infrastructure and equipment investments coming to fruition across the Company.  Key capital investment decisions \n",
            "for future growth throughout the business are under way to continue the momentum going forward, under the lens of reducing our environmental footprint \n",
            "and impact.\n",
            "--------------------\n",
            "Depth of paragraph 53: 6\n",
            "Font size: 9.0\n",
            "Font name: AMVLVI+ArialNarrow\n",
            "Font color: (0, 0, 0, 1)\n",
            "Text: Overall,  2018  yielded  several  Company  records  despite  very  challenging  competitive  market  pressures  and  disappointing  retail  consumption  thus \n",
            "demonstrating the sound nature of the infrastructure and equipment investments coming to fruition across the Company.  Key capital investment decisions \n",
            "for future growth throughout the business are under way to continue the momentum going forward, under the lens of reducing our environmental footprint \n",
            "and impact.\n",
            "--------------------\n",
            "Depth of paragraph 54: 6\n",
            "Font size: 9.0\n",
            "Font name: AMVLVI+ArialNarrow\n",
            "Font color: (0, 0, 0, 1)\n",
            "Text: O.Y. Muggli\n",
            "President and Chief Executive Officer\n",
            "Winnipeg, Canada  \n",
            "February 26, 2019\n",
            "--------------------\n",
            "Depth of paragraph 55: 6\n",
            "Font size: 9.0\n",
            "Font name: FRIPNY+ArialNarrow\n",
            "Font color: (0, 0, 0, 1)\n",
            "Text: O.Y. Muggli\n",
            "President and Chief Executive Officer\n",
            "Winnipeg, Canada  \n",
            "February 26, 2019\n",
            "--------------------\n",
            "Depth of paragraph 56: 6\n",
            "Font size: 8.999999999999993\n",
            "Font name: AMVLVI+ArialNarrow\n",
            "Font color: (0, 0, 0, 1)\n",
            "Text: O.Y. Muggli\n",
            "President and Chief Executive Officer\n",
            "Winnipeg, Canada  \n",
            "February 26, 2019\n",
            "--------------------\n",
            "Depth of paragraph 57: 6\n",
            "Font size: 9.0\n",
            "Font name: AMVLVI+ArialNarrow\n",
            "Font color: (0, 0, 0, 1)\n",
            "Text: O.Y. Muggli\n",
            "President and Chief Executive Officer\n",
            "Winnipeg, Canada  \n",
            "February 26, 2019\n",
            "--------------------\n",
            "Depth of paragraph 58: 3\n",
            "Font size: 9.000000000000002\n",
            "Font name: AMVLVI+ArialNarrow\n",
            "Font color: (0, 0, 0, 1)\n",
            "Text: 1\n",
            "--------------------\n",
            "Depth of paragraph 59: 0\n",
            "\n",
            "--------------------\n"
          ]
        }
      ]
    },
    {
      "cell_type": "code",
      "source": [
        "import nltk\n",
        "nltk.download('punkt')\n",
        "nltk.download('averaged_perceptron_tagger')\n",
        "nltk.download('maxent_ne_chunker')\n",
        "nltk.download('words')\n",
        "\n",
        "def get_depth(paragraph):\n",
        "    sentences = nltk.sent_tokenize(paragraph)\n",
        "    tokens = [nltk.word_tokenize(sentence) for sentence in sentences]\n",
        "    tagged = [nltk.pos_tag(token) for token in tokens]\n",
        "    chunked = nltk.ne_chunk_sents(tagged, binary=True)\n",
        "    depth = 0\n",
        "    for tree in chunked:\n",
        "        depth += tree.height()\n",
        "    return depth\n",
        "\n",
        "output_file = \"/content/CARE/Doutput.txt\"  # Specify the output file path\n",
        "\n",
        "with open('/content/Dextracts/page3_info.txt', 'r') as file:\n",
        "    text = file.read()\n",
        "    paragraphs = text.split('\\n\\n')\n",
        "\n",
        "    with open(output_file, 'w') as output:\n",
        "        for i, paragraph in enumerate(paragraphs):\n",
        "            depth = get_depth(paragraph)\n",
        "            output.write(f\"Depth of paragraph {i}: {depth}\\n\")\n",
        "            output.write(paragraph)\n",
        "            output.write(\"\\n\\n\")\n",
        "            # output.write(\"--------------------\\n\")\n",
        "            \n",
        "\n",
        "print(f\"Output saved to {output_file}\")\n"
      ],
      "metadata": {
        "colab": {
          "base_uri": "https://localhost:8080/"
        },
        "id": "ifkzlZKErukQ",
        "outputId": "b60edfd1-87fa-4dbb-fe62-243ad1db58bf"
      },
      "execution_count": null,
      "outputs": [
        {
          "output_type": "stream",
          "name": "stderr",
          "text": [
            "[nltk_data] Downloading package punkt to /root/nltk_data...\n",
            "[nltk_data]   Package punkt is already up-to-date!\n",
            "[nltk_data] Downloading package averaged_perceptron_tagger to\n",
            "[nltk_data]     /root/nltk_data...\n",
            "[nltk_data]   Package averaged_perceptron_tagger is already up-to-\n",
            "[nltk_data]       date!\n",
            "[nltk_data] Downloading package maxent_ne_chunker to\n",
            "[nltk_data]     /root/nltk_data...\n",
            "[nltk_data]   Package maxent_ne_chunker is already up-to-date!\n",
            "[nltk_data] Downloading package words to /root/nltk_data...\n",
            "[nltk_data]   Package words is already up-to-date!\n"
          ]
        },
        {
          "output_type": "stream",
          "name": "stdout",
          "text": [
            "Output saved to /content/CARE/Doutput.txt\n"
          ]
        }
      ]
    },
    {
      "cell_type": "code",
      "source": [
        "import os\n",
        "import csv\n",
        "\n",
        "def convert_files_to_csv(input_folder, output_folder):\n",
        "    os.makedirs(output_folder, exist_ok=True)\n",
        "\n",
        "    for filename in os.listdir(input_folder):\n",
        "        if filename.endswith('.txt'):\n",
        "            input_file = os.path.join(input_folder, filename)\n",
        "            output_file = os.path.join(output_folder, f'{os.path.splitext(filename)[0]}.csv')\n",
        "\n",
        "            with open(input_file, 'r') as file:\n",
        "                text = file.read()\n",
        "\n",
        "            rows = []\n",
        "            current_row = {}\n",
        "            current_depth = 0\n",
        "\n",
        "            for line in text.split('\\n'):\n",
        "                line = line.strip()\n",
        "\n",
        "                if line.startswith('Font size:'):\n",
        "                    current_row['Font size'] = line.split(':')[1].strip()\n",
        "                elif line.startswith('Font name:'):\n",
        "                    current_row['Font name'] = line.split(':')[1].strip()\n",
        "                elif line.startswith('Font color:'):\n",
        "                    current_row['Font color'] = line.split(':')[1].strip()\n",
        "                elif line.startswith('Text:'):\n",
        "                    current_row['Text'] = line.split(':')[1].strip()\n",
        "                    rows.append(current_row)\n",
        "                    current_row = {}\n",
        "                    current_depth = 0\n",
        "                else:\n",
        "                    # Calculate the depth based on indentation level\n",
        "                    depth = len(line) - len(line.lstrip())\n",
        "\n",
        "                    # Update the depth if it has increased\n",
        "                    if depth > current_depth:\n",
        "                        current_depth = depth\n",
        "                    # If the depth has decreased, consider it as the end of the current paragraph\n",
        "                    elif depth < current_depth:\n",
        "                        rows[-1]['Text'] += '\\n' + line.strip()\n",
        "\n",
        "            fieldnames = ['Font name', 'Font color', 'Font size', 'Text']\n",
        "\n",
        "            with open(output_file, 'w', newline='') as file:\n",
        "                writer = csv.DictWriter(file, fieldnames=fieldnames)\n",
        "                writer.writeheader()\n",
        "                writer.writerows(rows)\n",
        "\n",
        "            print(f\"Converted '{filename}' to '{output_file}'.\")\n",
        "\n",
        "input_folder = '/content/Dextracts'\n",
        "output_folder = 'OUTput_folder'\n",
        "\n",
        "convert_files_to_csv(input_folder, output_folder)\n"
      ],
      "metadata": {
        "colab": {
          "base_uri": "https://localhost:8080/"
        },
        "id": "d3PBGvtCXU1V",
        "outputId": "5b6ef940-bb28-42da-dfaa-b14c0e2fb8c7"
      },
      "execution_count": null,
      "outputs": [
        {
          "output_type": "stream",
          "name": "stdout",
          "text": [
            "Converted 'page1_info.txt' to 'OUTput_folder/page1_info.csv'.\n",
            "Converted 'page6_info.txt' to 'OUTput_folder/page6_info.csv'.\n",
            "Converted 'page3_info.txt' to 'OUTput_folder/page3_info.csv'.\n",
            "Converted 'page4_info.txt' to 'OUTput_folder/page4_info.csv'.\n",
            "Converted 'page5_info.txt' to 'OUTput_folder/page5_info.csv'.\n",
            "Converted 'page8_info.txt' to 'OUTput_folder/page8_info.csv'.\n",
            "Converted 'page2_info.txt' to 'OUTput_folder/page2_info.csv'.\n",
            "Converted 'page7_info.txt' to 'OUTput_folder/page7_info.csv'.\n"
          ]
        }
      ]
    }
  ]
}