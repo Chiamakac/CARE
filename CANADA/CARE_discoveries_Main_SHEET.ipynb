{
  "nbformat": 4,
  "nbformat_minor": 0,
  "metadata": {
    "colab": {
      "provenance": [],
      "authorship_tag": "ABX9TyPz2Nax/SEGoI1Xk2YulTtR",
      "include_colab_link": true
    },
    "kernelspec": {
      "name": "python3",
      "display_name": "Python 3"
    },
    "language_info": {
      "name": "python"
    }
  },
  "cells": [
    {
      "cell_type": "markdown",
      "metadata": {
        "id": "view-in-github",
        "colab_type": "text"
      },
      "source": [
        "<a href=\"https://colab.research.google.com/github/Chiamakac/CARE/blob/main/CANADA/CARE_discoveries_Main_SHEET.ipynb\" target=\"_parent\"><img src=\"https://colab.research.google.com/assets/colab-badge.svg\" alt=\"Open In Colab\"/></a>"
      ]
    },
    {
      "cell_type": "code",
      "execution_count": 56,
      "metadata": {
        "id": "qnb-_Hxvj0jx",
        "colab": {
          "base_uri": "https://localhost:8080/"
        },
        "outputId": "07e07354-3aad-40c6-92f7-11a5fb248f35"
      },
      "outputs": [
        {
          "output_type": "stream",
          "name": "stdout",
          "text": [
            "fatal: destination path 'CARE' already exists and is not an empty directory.\n"
          ]
        }
      ],
      "source": [
        "!git clone https://github.com/Chiamakac/CARE.git"
      ]
    },
    {
      "cell_type": "code",
      "source": [
        "pip install -q pdfminer.six"
      ],
      "metadata": {
        "id": "-_6HawjdkgZr"
      },
      "execution_count": 57,
      "outputs": []
    },
    {
      "cell_type": "markdown",
      "source": [
        "# **TEXT EXTRACTION**\n",
        "This extracts the font name, font_size, text, COLOR page by page "
      ],
      "metadata": {
        "id": "K8J29k2ZQExK"
      }
    },
    {
      "cell_type": "code",
      "source": [
        "from pdfminer.high_level import extract_pages\n",
        "from pdfminer.layout import LTTextContainer, LTChar, LAParams\n",
        "import os\n",
        "\n",
        "def extract_text_from_pdf(pdf_path, output_folder):\n",
        "    # Get the base name of the PDF file\n",
        "    file_name = os.path.basename(pdf_path)\n",
        "    # Create the output directory using the PDF file name\n",
        "    output_dir = os.path.join(output_folder, os.path.splitext(file_name)[0])\n",
        "    os.makedirs(output_dir, exist_ok=True)\n",
        "\n",
        "    # Iterate over each page in the PDF and extract the layout information\n",
        "    for page_number, page_layout in enumerate(extract_pages(pdf_path), start=1):\n",
        "        # Create the output file path for the current page\n",
        "        output_file = os.path.join(output_dir, f'page{page_number}_info.txt')\n",
        "\n",
        "        with open(output_file, 'w') as file:\n",
        "            # Iterate over each element on the page\n",
        "            for element in page_layout:\n",
        "                # Check if the element is a text container\n",
        "                if isinstance(element, LTTextContainer):\n",
        "                    # Iterate over each text line in the container\n",
        "                    for text_line in element:\n",
        "                        # Check if the text line is a text container\n",
        "                        if isinstance(text_line, LTTextContainer):\n",
        "                            # Check if the text line contains any objects\n",
        "                            if len(text_line._objs) > 0:\n",
        "                                # Get the first object in the text line\n",
        "                                first_char = text_line._objs[0]\n",
        "                                # Check if the object is a character\n",
        "                                if isinstance(first_char, LTChar):\n",
        "                                    # Get the font size, font name, font color, and text\n",
        "                                    font_size = first_char.size\n",
        "                                    font_name = first_char.fontname\n",
        "                                    font_color = first_char.graphicstate.ncolor\n",
        "                                    text = element.get_text()\n",
        "\n",
        "                                    # Write the font size, font name, font color, and text to the output file\n",
        "                                    file.write(f\"Font size: {font_size}\\n\")\n",
        "                                    file.write(f\"Font name: {font_name}\\n\")\n",
        "                                    file.write(f\"Font color: {font_color}\\n\")\n",
        "                                    file.write(f\"Text: {text}\\n\")\n",
        "\n",
        "        # Uncomment the line below to display the extraction progress for each page\n",
        "        # print(f\"Extracted text from page {page_number} of '{pdf_path}' and saved in '{output_file}'.\")\n",
        "\n",
        "input_folder = '/content/CARE/French'\n",
        "output_folder = 'EEXTRACTS_Fr'\n",
        "\n",
        "# Iterate over the files in the input folder\n",
        "for filename in os.listdir(input_folder):\n",
        "    # Check if the file is a PDF\n",
        "    if filename.endswith('.pdf'):\n",
        "        pdf_path = os.path.join(input_folder, filename)\n",
        "        # Extract the text from the PDF and save in separate files for each page\n",
        "        extract_text_from_pdf(pdf_path, output_folder)\n"
      ],
      "metadata": {
        "id": "zwtJE-ZTHGgf"
      },
      "execution_count": 133,
      "outputs": []
    },
    {
      "cell_type": "code",
      "source": [
        "import pandas as pd"
      ],
      "metadata": {
        "id": "Ebh2DjuMPtaz"
      },
      "execution_count": 136,
      "outputs": []
    },
    {
      "cell_type": "markdown",
      "source": [
        "Get the list of pages from the extracted pdf file stored in the  folder"
      ],
      "metadata": {
        "id": "IBFamMQTy5Gv"
      }
    },
    {
      "cell_type": "code",
      "source": [
        "# import os\n",
        "path = r'/content/EEXTRACTS_Fr/2017 CAnnualReportFre'    # Define path to PDF file\n",
        "file_name = path.split('/')[-1]  # Get the file name from the path by splitting it at '/' and taking the last element\n",
        "output_folder = '/content/EEXTRACTS_Fr/2017 CAnnualReportFre'  # Define the name of the output folder\n",
        "pages = (os.listdir(output_folder))  # Get a list of file names in the output folder\n",
        "\n",
        "# The code above extracts the file name from a given path and assigns it to the variable 'file_name'.\n",
        "# It also defines the name of the output folder as 'Dextracts' and creates a list of file names in that folder,\n",
        "# which is stored in the variable 'pages'.\n"
      ],
      "metadata": {
        "id": "uJKKutdk-sTv"
      },
      "execution_count": 137,
      "outputs": []
    },
    {
      "cell_type": "markdown",
      "source": [
        "**Define the get_font_detail_text(sec) function that extracts the texts and details from a section.**\n",
        "\n",
        "The function below takes a 'sec' parameter, which is expected to contain font details and text separated by 'Text: '. It attempts to extract the font details and text from the input section and assign them to respective variables.\n",
        "The font details include font size, font name, and font color.\n",
        "If the extraction is successful, the function returns the extracted text along with font details. If there is any error during extraction or if there is no text, the function returns None."
      ],
      "metadata": {
        "id": "qgf5nGzXzGAr"
      }
    },
    {
      "cell_type": "code",
      "source": [
        "def get_font_detail_text(sec):\n",
        "  font_detail = text = ''  # Initialize variables to store font details and text\n",
        "\n",
        "  try:\n",
        "    font_detail, text = sec.split('Text: ')  # Split the input section at 'Text: ' to separate font details from the text\n",
        "    text, (f_size, f_name, f_color) = text.replace('\\n', ' '), [  # Assign font details to variables by splitting and extracting values\n",
        "      item.rsplit(': ', 1)[1] for item in font_detail.strip().splitlines()]\n",
        "  except:\n",
        "    pass\n",
        "\n",
        "  if text:  # If text exists (non-empty), return text and font details\n",
        "    return text, f_size, f_name, f_color\n"
      ],
      "metadata": {
        "id": "MXpXwOsJmXEF"
      },
      "execution_count": 138,
      "outputs": []
    },
    {
      "cell_type": "markdown",
      "source": [
        "**Using this function, create a list of section details for each section in the pages.**\n",
        "\n",
        "The code below iterates over the pages.\n",
        "It extracts the page numbers from the file name by splitting it at '_' and taking the first element.\n",
        "Then, it reads the content of the page file located in the folder in the specified path using the 'open' function.\n",
        "The content is split into sections based on two consecutive newlines ('\\n\\n').\n",
        "For each section, the code checks if it contains font details and text using the 'get_font_detail_text' function.\n",
        "If font details and text exist, they are added to the 'section_details' list along with other relevant information,\n",
        "such as the file name, the total number of pages, the page number, and the language ('English')."
      ],
      "metadata": {
        "id": "8wQO0qjW_B08"
      }
    },
    {
      "cell_type": "code",
      "source": [
        "section_details = []  # Initialize an empty list to store section details\n",
        "\n",
        "# Iterate over all the pages in the folder\n",
        "for filename in os.listdir('/content/EEXTRACTS_Fr/2017 CAnnualReportFre'):\n",
        "    if filename.endswith('.txt'):  # Process only text files\n",
        "        page_num = filename.split('_')[0]  # Extract the page number from the file name\n",
        "        file_path = os.path.join('/content/EEXTRACTS_Fr/2017 CAnnualReportFre', filename)\n",
        "\n",
        "        # Read the content of the page file, split it into sections at the occurrence of two consecutive newlines ('\\n\\n')\n",
        "        \n",
        "        with open(file_path, 'r') as file:\n",
        "            content = file.read()\n",
        "            sections = content.split(\"\\n\\n\")\n",
        "\n",
        "# For each section, check if it contains font details and text using the 'get_font_detail_text' function\n",
        "# If font details and text exist, add them to the section details list along with other relevant information\n",
        "            for section in sections:\n",
        "                if get_font_detail_text(section):\n",
        "                    section_info = (file_name, len(pages), page_num, 'English') + get_font_detail_text(section)\n",
        "                    section_details.append(section_info)\n"
      ],
      "metadata": {
        "id": "SLewcNBaj54Y"
      },
      "execution_count": 139,
      "outputs": []
    },
    {
      "cell_type": "markdown",
      "source": [
        "**Remove the repeated sections by ensuring that only one unique content is retained**\n",
        "\n",
        "this creates a dictionary where the key is extracted from the 4th index of each details tuple in the section_details list. Then, it retrieves only the values from the dictionary and assigns them to the section_details variable as a view object."
      ],
      "metadata": {
        "id": "bTW02y_5T3Iy"
      }
    },
    {
      "cell_type": "code",
      "source": [
        "section_details = {details[4]:details for details in section_details}.values()"
      ],
      "metadata": {
        "id": "7ICZ7_dZT3pb"
      },
      "execution_count": 140,
      "outputs": []
    },
    {
      "cell_type": "markdown",
      "source": [
        "The code below creates a dictionary called 'section_dict' to store the section details.\n",
        "It assigns the respective variables (unpacked from the 'section_details') to the corresponding keys in the dictionary.\n",
        "'Font Filename', 'Number of pages', 'Language', 'Content', 'Start Page', 'End Page', 'Font Size', 'Font Name', and 'Font Colour' are keys in the dictionary, and their values are assigned accordingly. The 'Content Type' key is assigned a value based on the font size, where a font size greater than 10 is considered a 'Section Title', and anything else is considered 'Running Text'."
      ],
      "metadata": {
        "id": "AlqjWUNH_3YR"
      }
    },
    {
      "cell_type": "code",
      "source": [
        "section_dict = {}  # Initialize an empty dictionary to store section details\n",
        "\n",
        "# Unpack the section details into separate variables using the 'zip' and 'list' functions\n",
        "file_names, num_pages, page_num, language, content, fsize, fname, fcolor = list(zip(*section_details))\n",
        "\n",
        "section_dict['Filename'] = file_names  # Assign the 'file_names' variable as the value for the 'Filename' key\n",
        "section_dict['Number of pages'] = num_pages  # Assign the 'num_pages' variable as the value for the 'Number of pages' key\n",
        "section_dict['Language'] = language  # Assign the 'language' variable as the value for the 'Language' key\n",
        "\n",
        "# Assign the content type based on the font size:\n",
        "# If the font size (converted to float) is greater than 10, assign 'Section Title', otherwise assign 'Running Text'\n",
        "section_dict['Content Type'] = ['Section Title' if int(float(s)) > 10 else 'Running Text' for s in fsize]\n",
        "\n",
        "section_dict['Content'] = content  # Assign the 'content' variable as the value for the 'Content' key\n",
        "section_dict['Start Page'] = page_num  # Assign the 'page_num' variable as the value for the 'Start Page' key\n",
        "section_dict['End Page'] = page_num  # Assign the 'page_num' variable as the value for the 'End Page' key\n",
        "section_dict['Font Size'] = fsize  # Assign the 'fsize' variable as the value for the 'Font Size' key\n",
        "section_dict['Font Name'] = fname  # Assign the 'fname' variable as the value for the 'Font Name' key\n",
        "section_dict['Font Colour'] = fcolor  # Assign the 'fcolor' variable as the value for the 'Font Colour' key\n"
      ],
      "metadata": {
        "id": "jGQXeLkBF7vD"
      },
      "execution_count": 141,
      "outputs": []
    },
    {
      "cell_type": "markdown",
      "source": [
        "Convert the `section_dict` to a `pandas` dataframe"
      ],
      "metadata": {
        "id": "rLovmYdmNNvX"
      }
    },
    {
      "cell_type": "markdown",
      "source": [
        "Finally, write to an Excel file which should be similar to the CSV but not exactly the same..."
      ],
      "metadata": {
        "id": "tHe35C_LP0aJ"
      }
    },
    {
      "cell_type": "code",
      "source": [
        "import csv\n",
        "\n",
        "# Sort the section_details list based on the page number in ascending order\n",
        "sorted_section_details = sorted(section_details, key=lambda x: int(x[2][4:]))\n",
        "\n",
        "# Define the output CSV file path\n",
        "output_csv_file = '2017 CAnnualReportFre.csv'\n",
        "\n",
        "# Write the sorted section details to the CSV file\n",
        "with open(output_csv_file, 'w', newline='') as csvfile:\n",
        "    writer = csv.writer(csvfile)\n",
        "    writer.writerow(['File Name', 'Total Pages', 'Page Number', 'Language', 'Font Size', 'Font Name', 'Font Color', 'Text'])  # Write the header row\n",
        "\n",
        "    for details in sorted_section_details:\n",
        "        writer.writerow(details)  # Write each row of section details\n",
        "\n",
        "# print(f\"Sorted section details saved in '{output_csv_file}'.\")\n"
      ],
      "metadata": {
        "id": "SrTuvAFpLSV1"
      },
      "execution_count": 142,
      "outputs": []
    },
    {
      "cell_type": "code",
      "source": [
        "# Sort the section_details list based on the page number in ascending order\n",
        "sorted_section_details = sorted(section_details, key=lambda x: int(x[2][4:]))\n",
        "\n",
        "# Create a DataFrame from the sorted section details\n",
        "report = pd.DataFrame(sorted_section_details, columns=['File Name', 'Total Pages', 'Page Number', 'Language', 'Font Size', 'Font Name', 'Font Color', 'Text'])\n",
        "\n",
        "# Write the DataFrame to the Excel file in a sheet named 'Files Details'\n",
        "with pd.ExcelWriter('Winpak_AR.xlsx') as writer:\n",
        "    report.to_excel(writer, sheet_name='Files Details')\n"
      ],
      "metadata": {
        "id": "0M0tfxlJuQ4B"
      },
      "execution_count": 135,
      "outputs": []
    },
    {
      "cell_type": "markdown",
      "source": [],
      "metadata": {
        "id": "CwL0nhTevClh"
      }
    },
    {
      "cell_type": "markdown",
      "source": [],
      "metadata": {
        "id": "naUhIZl93Knm"
      }
    },
    {
      "cell_type": "markdown",
      "source": [],
      "metadata": {
        "id": "S_nFK4vjvCU9"
      }
    },
    {
      "cell_type": "markdown",
      "source": [],
      "metadata": {
        "id": "EGN82QJzvCFU"
      }
    },
    {
      "cell_type": "markdown",
      "source": [],
      "metadata": {
        "id": "_mJVEzfovB6f"
      }
    },
    {
      "cell_type": "markdown",
      "source": [],
      "metadata": {
        "id": "oBeLEns0vBr3"
      }
    },
    {
      "cell_type": "markdown",
      "source": [
        "...or you can write to a CSV file"
      ],
      "metadata": {
        "id": "DgHzd-tVSflD"
      }
    },
    {
      "cell_type": "code",
      "source": [
        "report.to_csv('AnnualReports.csv') "
      ],
      "metadata": {
        "id": "IQqzhghQShOT"
      },
      "execution_count": 13,
      "outputs": []
    },
    {
      "cell_type": "markdown",
      "source": [
        "If you want to save the output to another folder instead of the working current woring folder..."
      ],
      "metadata": {
        "id": "RbaNStZYRgmS"
      }
    },
    {
      "cell_type": "code",
      "source": [
        "from pathlib import Path  \n",
        "filepath = Path('output_dir/AnnualReports.csv')  \n",
        "filepath.parent.mkdir(parents=True, exist_ok=True)  \n",
        "report.to_csv(filepath)"
      ],
      "metadata": {
        "id": "Q8UaD-A7RL_q"
      },
      "execution_count": 81,
      "outputs": []
    },
    {
      "cell_type": "markdown",
      "source": [
        "# **FOR IMAGE EXTRACTION**"
      ],
      "metadata": {
        "id": "8YwxXgVjQnIW"
      }
    },
    {
      "cell_type": "code",
      "source": [
        "pip install -qqq PyMuPDF"
      ],
      "metadata": {
        "colab": {
          "base_uri": "https://localhost:8080/"
        },
        "id": "U8zaGVLqQtxN",
        "outputId": "e9fba94e-4ac4-440f-a961-10d2dbfa2b51"
      },
      "execution_count": 15,
      "outputs": [
        {
          "output_type": "stream",
          "name": "stdout",
          "text": [
            "\u001b[?25l     \u001b[90m━━━━━━━━━━━━━━━━━━━━━━━━━━━━━━━━━━━━━━━━\u001b[0m \u001b[32m0.0/14.1 MB\u001b[0m \u001b[31m?\u001b[0m eta \u001b[36m-:--:--\u001b[0m\r\u001b[2K     \u001b[91m━━━━━━━━━\u001b[0m\u001b[91m╸\u001b[0m\u001b[90m━━━━━━━━━━━━━━━━━━━━━━━━━━━━━━\u001b[0m \u001b[32m3.5/14.1 MB\u001b[0m \u001b[31m105.3 MB/s\u001b[0m eta \u001b[36m0:00:01\u001b[0m\r\u001b[2K     \u001b[91m━━━━━━━━━━━━━━━━━━\u001b[0m\u001b[91m╸\u001b[0m\u001b[90m━━━━━━━━━━━━━━━━━━━━━\u001b[0m \u001b[32m6.6/14.1 MB\u001b[0m \u001b[31m95.9 MB/s\u001b[0m eta \u001b[36m0:00:01\u001b[0m\r\u001b[2K     \u001b[91m━━━━━━━━━━━━━━━━━━━━━━━━━━━━━━━━━━━\u001b[0m\u001b[90m╺\u001b[0m\u001b[90m━━━\u001b[0m \u001b[32m12.7/14.1 MB\u001b[0m \u001b[31m132.5 MB/s\u001b[0m eta \u001b[36m0:00:01\u001b[0m\r\u001b[2K     \u001b[91m━━━━━━━━━━━━━━━━━━━━━━━━━━━━━━━━━━━━━━\u001b[0m\u001b[91m╸\u001b[0m \u001b[32m14.1/14.1 MB\u001b[0m \u001b[31m133.3 MB/s\u001b[0m eta \u001b[36m0:00:01\u001b[0m\r\u001b[2K     \u001b[91m━━━━━━━━━━━━━━━━━━━━━━━━━━━━━━━━━━━━━━\u001b[0m\u001b[91m╸\u001b[0m \u001b[32m14.1/14.1 MB\u001b[0m \u001b[31m133.3 MB/s\u001b[0m eta \u001b[36m0:00:01\u001b[0m\r\u001b[2K     \u001b[90m━━━━━━━━━━━━━━━━━━━━━━━━━━━━━━━━━━━━━━━━\u001b[0m \u001b[32m14.1/14.1 MB\u001b[0m \u001b[31m69.6 MB/s\u001b[0m eta \u001b[36m0:00:00\u001b[0m\n",
            "\u001b[?25h"
          ]
        }
      ]
    },
    {
      "cell_type": "code",
      "source": [
        "pip install -qqq pillow"
      ],
      "metadata": {
        "id": "6DurWN7FSd6d"
      },
      "execution_count": 16,
      "outputs": []
    },
    {
      "cell_type": "code",
      "source": [
        "# import libraries\n",
        "import fitz\n",
        "import io\n",
        "from PIL import Image, ImageDraw"
      ],
      "metadata": {
        "id": "H3wfTDjCQ6F2"
      },
      "execution_count": 17,
      "outputs": []
    },
    {
      "cell_type": "code",
      "source": [
        "import os\n",
        "import io\n",
        "from PIL import Image, ImageDraw\n",
        "import fitz\n",
        "\n",
        "# file path you want to extract images from\n",
        "file = \"/content/CARE/sample_Eng.pdf\"\n",
        "\n",
        "# create output directory if it doesn't exist\n",
        "output_dir = \"output_images_fr\"\n",
        "if not os.path.exists(output_dir):\n",
        "    os.mkdir(output_dir)\n",
        "\n",
        "# open the file\n",
        "pdf_file = fitz.open(file)\n",
        "\n",
        "# iterate over PDF pages\n",
        "for page_index in range(len(pdf_file)):\n",
        "    # get the page itself\n",
        "    page = pdf_file[page_index]\n",
        "    \n",
        "    # get a list of images on the page\n",
        "    image_list = page.get_images()\n",
        "\n",
        "    # # printing number of images found in this page\n",
        "    # if image_list:\n",
        "    #     print(f\"[+] Found a total of {len(image_list)} images in page {page_index}\")\n",
        "    # else:\n",
        "    #     print(\"[!] No images found on page\", page_index)\n",
        "    \n",
        "    # iterate over each image on the page\n",
        "    for image_index, img in enumerate(image_list, start=1):\n",
        "        # get the XREF of the image\n",
        "        xref = img[0]\n",
        "\n",
        "        # extract the image bytes\n",
        "        image_bytes = pdf_file.extract_image(xref)[\"image\"]\n",
        "\n",
        "        # create a PIL image from the bytes\n",
        "        pil_image = Image.open(io.BytesIO(image_bytes))\n",
        "\n",
        "        # draw image and save to a file\n",
        "        draw = ImageDraw.Draw(pil_image)\n",
        "        output_file = os.path.join(output_dir, f\"page_{page_index}_image_{image_index}.png\")\n",
        "        pil_image.save(output_file, \"PNG\")\n",
        "        \n",
        "        # print(f\"[+] Saved image {image_index} on page {page_index} to {output_file}\")\n"
      ],
      "metadata": {
        "id": "EJqvH0P9SPy6"
      },
      "execution_count": 18,
      "outputs": []
    },
    {
      "cell_type": "markdown",
      "source": [
        "# **TABLE EXTRACTION**"
      ],
      "metadata": {
        "id": "sDdsCR7HTzhh"
      }
    },
    {
      "cell_type": "code",
      "source": [
        "pip install -qqq PyPDF2"
      ],
      "metadata": {
        "colab": {
          "base_uri": "https://localhost:8080/"
        },
        "id": "e4iPhpucVAAW",
        "outputId": "61ab2c10-2123-4db5-8415-770f318eb7af"
      },
      "execution_count": 19,
      "outputs": [
        {
          "output_type": "stream",
          "name": "stdout",
          "text": [
            "\u001b[?25l     \u001b[90m━━━━━━━━━━━━━━━━━━━━━━━━━━━━━━━━━━━━━━━━\u001b[0m \u001b[32m0.0/232.6 kB\u001b[0m \u001b[31m?\u001b[0m eta \u001b[36m-:--:--\u001b[0m\r\u001b[2K     \u001b[90m━━━━━━━━━━━━━━━━━━━━━━━━━━━━━━━━━━━━━━━\u001b[0m \u001b[32m232.6/232.6 kB\u001b[0m \u001b[31m8.9 MB/s\u001b[0m eta \u001b[36m0:00:00\u001b[0m\n",
            "\u001b[?25h"
          ]
        }
      ]
    },
    {
      "cell_type": "code",
      "source": [
        "pip install -qqq tabula-py"
      ],
      "metadata": {
        "colab": {
          "base_uri": "https://localhost:8080/"
        },
        "id": "PrKLJ6eCVe00",
        "outputId": "ba330f34-b24d-4361-cff6-91f85649a460"
      },
      "execution_count": 20,
      "outputs": [
        {
          "output_type": "stream",
          "name": "stdout",
          "text": [
            "\u001b[?25l     \u001b[90m━━━━━━━━━━━━━━━━━━━━━━━━━━━━━━━━━━━━━━━━\u001b[0m \u001b[32m0.0/12.0 MB\u001b[0m \u001b[31m?\u001b[0m eta \u001b[36m-:--:--\u001b[0m\r\u001b[2K     \u001b[91m━━━━━━━\u001b[0m\u001b[91m╸\u001b[0m\u001b[90m━━━━━━━━━━━━━━━━━━━━━━━━━━━━━━━━\u001b[0m \u001b[32m2.4/12.0 MB\u001b[0m \u001b[31m69.6 MB/s\u001b[0m eta \u001b[36m0:00:01\u001b[0m\r\u001b[2K     \u001b[91m━━━━━━━━━━━━━━━━━━━━━━━━\u001b[0m\u001b[90m╺\u001b[0m\u001b[90m━━━━━━━━━━━━━━━\u001b[0m \u001b[32m7.3/12.0 MB\u001b[0m \u001b[31m104.2 MB/s\u001b[0m eta \u001b[36m0:00:01\u001b[0m\r\u001b[2K     \u001b[91m━━━━━━━━━━━━━━━━━━━━━━━━━━━━━━━━━━━━━\u001b[0m\u001b[90m╺\u001b[0m\u001b[90m━\u001b[0m \u001b[32m11.4/12.0 MB\u001b[0m \u001b[31m125.6 MB/s\u001b[0m eta \u001b[36m0:00:01\u001b[0m\r\u001b[2K     \u001b[91m━━━━━━━━━━━━━━━━━━━━━━━━━━━━━━━━━━━━━━\u001b[0m\u001b[91m╸\u001b[0m \u001b[32m12.0/12.0 MB\u001b[0m \u001b[31m121.1 MB/s\u001b[0m eta \u001b[36m0:00:01\u001b[0m\r\u001b[2K     \u001b[90m━━━━━━━━━━━━━━━━━━━━━━━━━━━━━━━━━━━━━━━━\u001b[0m \u001b[32m12.0/12.0 MB\u001b[0m \u001b[31m69.6 MB/s\u001b[0m eta \u001b[36m0:00:00\u001b[0m\n",
            "\u001b[?25h"
          ]
        }
      ]
    },
    {
      "cell_type": "code",
      "source": [
        "import os\n",
        "import tabula\n",
        "\n",
        "# Open the PDF file\n",
        "with open('/content/CARE/sample_Eng.pdf', 'rb') as pdf_file:\n",
        "\n",
        "    # Extract tables from the PDF file\n",
        "    tables = tabula.read_pdf(pdf_file, pages='all')\n",
        "    \n",
        "    # Create a folder to store the Excel files\n",
        "    folder_name = 'tables_fr'\n",
        "    if not os.path.isdir(folder_name):\n",
        "        os.mkdir(folder_name)\n",
        "    \n",
        "    # Iterate over extracted tables and export as Excel individually\n",
        "    for i, table in enumerate(tables, start=1):\n",
        "        table.to_excel(os.path.join(folder_name, f\"table_{i}.xlsx\"), index=False)\n",
        "\n"
      ],
      "metadata": {
        "id": "o0-jQZBbUQjN"
      },
      "execution_count": 21,
      "outputs": []
    },
    {
      "cell_type": "markdown",
      "source": [],
      "metadata": {
        "id": "cSuSWmWqQ3C_"
      }
    },
    {
      "cell_type": "markdown",
      "source": [],
      "metadata": {
        "id": "Sp2RV73jQaA4"
      }
    },
    {
      "cell_type": "markdown",
      "source": [],
      "metadata": {
        "id": "3vkShQSpQZm-"
      }
    },
    {
      "cell_type": "markdown",
      "source": [],
      "metadata": {
        "id": "vvKWe5EPQZPt"
      }
    },
    {
      "cell_type": "markdown",
      "source": [],
      "metadata": {
        "id": "RNM0nl9pQYlC"
      }
    },
    {
      "cell_type": "markdown",
      "source": [],
      "metadata": {
        "id": "_FrAMs0uQXCX"
      }
    },
    {
      "cell_type": "markdown",
      "source": [
        "Obtain the location of text(**Language free**) in a page using **pdfminer**"
      ],
      "metadata": {
        "id": "ISkWjxLok05X"
      }
    },
    {
      "cell_type": "code",
      "source": [
        "# Import necessary packages\n",
        "from pdfminer.pdfdocument import PDFDocument\n",
        "from pdfminer.pdfpage import PDFPage\n",
        "from pdfminer.pdfparser import PDFParser\n",
        "from pdfminer.pdfinterp import PDFResourceManager, PDFPageInterpreter\n",
        "from pdfminer.converter import PDFPageAggregator, TextConverter\n",
        "from pdfminer.layout import LAParams, LTTextBox, LTTextLine, LTFigure\n",
        "from io import StringIO\n",
        "\n",
        "# Define function to recursively parse the layout tree\n",
        "def parse_layout(layout, outfp):\n",
        "    \"\"\"\n",
        "    Recursively parse the layout tree and write information\n",
        "    about each object's class name, bounding box, and text (if any) to the output file.\n",
        "    \"\"\"\n",
        "    for lt_obj in layout:\n",
        "        # Write the class name and bounding box of the object to the output file\n",
        "        # outfp.write(lt_obj.__class__.__name__ + \"\\n\")\n",
        "        # outfp.write(str(lt_obj.bbox) + \"\\n\")\n",
        "\n",
        "        # If the object is a text box or line, write its text to the output file\n",
        "        if isinstance(lt_obj, LTTextBox) or isinstance(lt_obj, LTTextLine):\n",
        "            outfp.write(lt_obj.get_text() + \"\\n\")\n",
        "\n",
        "        # If the object is a figure, recursively parse its layout\n",
        "        elif isinstance(lt_obj, LTFigure):\n",
        "            parse_layout(lt_obj, outfp)\n",
        "\n",
        "# Open the PDF file in binary mode\n",
        "fp = open('/content/CARE/sample_Eng.pdf', 'rb')\n",
        "\n",
        "# Create a PDF parser object from the binary file\n",
        "parser = PDFParser(fp)\n",
        "\n",
        "# Create a PDF document object from the parser object\n",
        "doc = PDFDocument(parser)\n",
        "\n",
        "# Set up the PDFResourceManager, LAParams, and PDFPageAggregator objects\n",
        "\n",
        "# Create a PDF resource manager object\n",
        "rsrcmgr = PDFResourceManager()\n",
        "\n",
        "# Set the layout parameters for the PDF document\n",
        "laparams = LAParams()\n",
        "\n",
        "# Create a PDF device object to extract layout information from each page\n",
        "device = PDFPageAggregator(rsrcmgr, laparams=laparams)\n",
        "\n",
        "# Create a PDF interpreter object to process the page contents\n",
        "interpreter = PDFPageInterpreter(rsrcmgr, device)\n",
        "\n",
        "# Open the output file\n",
        "with open('Foutput4.txt', 'w', encoding='utf-8') as outfp:\n",
        "    # Loop through each page of the PDF document and process the page contents using the PDF interpreter\n",
        "    for page in PDFPage.create_pages(doc):\n",
        "        interpreter.process_page(page)\n",
        "        layout = device.get_result()\n",
        "\n",
        "        # Parse the layout tree for this page and write the information to the output file\n",
        "        parse_layout(layout, outfp)\n"
      ],
      "metadata": {
        "id": "jlLNewIykzxd"
      },
      "execution_count": 22,
      "outputs": []
    },
    {
      "cell_type": "code",
      "source": [
        "# This extracts the font name, font_size, text, page by page\n",
        "\n",
        "# from pdfminer.high_level import extract_pages        # Import function for extracting PDF pages\n",
        "# from pdfminer.layout import LTTextContainer, LTChar, LTLine, LAParams   # Import PDF layout classes\n",
        "# import os   # Import operating system functions\n",
        "\n",
        "# path = r'/content/CARE/sample_Eng.pdf'    # Define path to PDF file\n",
        "\n",
        "# output_dir = 'extracts'   # Define directory for output files\n",
        "# os.makedirs(output_dir, exist_ok=True)   # Create output directory if it doesn't exist\n",
        "\n",
        "# for page_number, page_layout in enumerate(extract_pages(path), start=1):     # Iterate over PDF pages\n",
        "#     output_file = os.path.join(output_dir, f'page{page_number}_font_info.txt')   # Define name of output file for current page\n",
        "#     with open(output_file, 'w') as file:     # Open the output file for writing\n",
        "#         for element in page_layout:     # Iterate over elements on each page\n",
        "#             if isinstance(element, LTTextContainer):   # Check if element is a text container\n",
        "#                 for text_line in element:   # Iterate over lines of text in the container\n",
        "#                     if isinstance(text_line, LTTextContainer):   # Check if line is a text container\n",
        "#                         if len(text_line._objs) > 0:    # Check if line contains any objects\n",
        "#                             first_char = text_line._objs[0]   # Get the first object in the line\n",
        "#                             if isinstance(first_char, LTChar):   # Check if object is a character\n",
        "#                                 font_size = first_char.size   # Get the font size of the character\n",
        "#                                 font_name = first_char.fontname   # Get the font name of the character\n",
        "#                                 text = element.get_text()   # Get the text of the element\n",
        "#                                 file.write(f\"Font size: {font_size}\\n\")   # Write font size to output file\n",
        "#                                 file.write(f\"Font name: {font_name}\\n\")   # Write font name to output file\n",
        "#                                 file.write(f\"Text: {text}\")   # Write text to output file\n",
        "#                                 file.write(\"\\n\")   # Add newline to separate output for different elements\n"
      ],
      "metadata": {
        "id": "h5MC7Bbo9eig"
      },
      "execution_count": 23,
      "outputs": []
    },
    {
      "cell_type": "code",
      "source": [
        "# from pdfminer.high_level import extract_pages        # Import function for extracting PDF pages\n",
        "# from pdfminer.layout import LTTextContainer, LTChar, LTLine, LAParams   # Import PDF layout classes\n",
        "# import os   # Import operating system functions\n",
        "\n",
        "# path = r'/content/CBBD_Annual_Report_2017_FR.pdf'    # Define path to PDF file\n",
        "\n",
        "# output_file = 'SEnglish_font_info.txt'   # Define name of output file\n",
        "\n",
        "# with open(output_file, 'w') as file:     # Open the output file for writing\n",
        "#     for page_layout in extract_pages(path):     # Iterate over PDF pages\n",
        "#         for element in page_layout:     # Iterate over elements on each page\n",
        "#             if isinstance(element, LTTextContainer):   # Check if element is a text container\n",
        "#                 for text_line in element:   # Iterate over lines of text in the container\n",
        "#                     if isinstance(text_line, LTTextContainer):   # Check if line is a text container\n",
        "#                         if len(text_line._objs) > 0:    # Check if line contains any objects\n",
        "#                             first_char = text_line._objs[0]   # Get the first object in the line\n",
        "#                             if isinstance(first_char, LTChar):   # Check if object is a character\n",
        "#                                 font_size = first_char.size   # Get the font size of the character\n",
        "#                                 font_name = first_char.fontname   # Get the font name of the character\n",
        "#                                 text = element.get_text()   # Get the text of the element\n",
        "#                                 file.write(f\"Font size: {font_size}\\n\")   # Write font size to output file\n",
        "#                                 file.write(f\"Font name: {font_name}\\n\")   # Write font name to output file\n",
        "#                                 file.write(f\"Text: {text}\")   # Write text to output file\n",
        "#                                 file.write(\"\\n\")   # Add newline to separate output for different elements\n"
      ],
      "metadata": {
        "id": "YXFoVn_aP4Do"
      },
      "execution_count": 24,
      "outputs": []
    },
    {
      "cell_type": "markdown",
      "source": [
        "Code to count the **font size** frquencies"
      ],
      "metadata": {
        "id": "4Owff6WfoZ3q"
      }
    },
    {
      "cell_type": "code",
      "source": [
        "pip install -q PyPDF2"
      ],
      "metadata": {
        "id": "MhVN3ECGkrWi"
      },
      "execution_count": 25,
      "outputs": []
    },
    {
      "cell_type": "code",
      "source": [
        "import PyPDF2"
      ],
      "metadata": {
        "id": "ShKLb5OykUIH"
      },
      "execution_count": 26,
      "outputs": []
    },
    {
      "cell_type": "code",
      "source": [
        "from pathlib import Path  # import the Path class from the pathlib module\n",
        "from typing import Iterable, Any  # import Iterable and Any from the typing module\n",
        "from pdfminer.high_level import extract_pages  # import the extract_pages function from pdfminer.high_level\n",
        "\n",
        "def get_indented_name(o: Any, depth: int) -> str:\n",
        "    \"\"\"Indented name of class\"\"\"\n",
        "    return '  ' * depth + o.__class__.__name__  # return the indented class name based on depth\n",
        "\n",
        "def get_optional_fontinfo(o: Any) -> str:\n",
        "    \"\"\"Font info of LTChar if available, otherwise empty string\"\"\"\n",
        "    if hasattr(o, 'fontname') and hasattr(o, 'size'):  # check if 'fontname' and 'size' attributes exist in the object\n",
        "        return f'{o.fontname} {round(o.size)}pt'  # if yes, return the font name and size as a string\n",
        "    return ''  # if not, return an empty string\n",
        "\n",
        "def get_optional_text(o: Any) -> str:\n",
        "    \"\"\"Text of LTItem if available, otherwise empty string\"\"\"\n",
        "    if hasattr(o, 'get_text'):  # check if the object has a 'get_text' method\n",
        "        return o.get_text().strip()  # if yes, return the text obtained from the method call, stripped of leading/trailing white space\n",
        "    return ''  # if not, return an empty string\n",
        "\n",
        "def count_font_sizes(o: Any, size_dict: dict):\n",
        "    \"\"\"Count the frequency of font sizes\"\"\"\n",
        "    if isinstance(o, Iterable):  # check if the object is iterable\n",
        "        for i in o:  # if yes, iterate over its elements\n",
        "            count_font_sizes(i, size_dict)  # recursively call the function with each element\n",
        "    elif hasattr(o, 'size'):  # if the object is not iterable, check if it has a 'size' attribute\n",
        "        size = round(o.size)  # if yes, round its value and store it in the 'size' variable\n",
        "        if size in size_dict:  # check if the 'size' value is already a key in the dictionary\n",
        "            size_dict[size] += 1  # if yes, increment the value of the corresponding key by 1\n",
        "        else:\n",
        "            size_dict[size] = 1  # if not, create a new key-value pair with the 'size' as key and 1 as value\n",
        "\n",
        "def show_ltitem_hierarchy(o: Any, depth=0):\n",
        "    \"\"\"Show location and text of LTItem and all its descendants\"\"\"\n",
        "    if depth == 0:  # check if the function is being called for the first time (i.e., depth is 0)\n",
        "        print('element                        fontname             text')  # if yes, print the header row\n",
        "        print('------------------------------ -------------------- -----')\n",
        "\n",
        "    print(\n",
        "        f'{get_indented_name(o, depth):<30.30s} '  # print the indented class name\n",
        "        f'{get_optional_fontinfo(o):<20.20s} '  # print the font info (if available)\n",
        "        f'{get_optional_text(o)}'  # print the text (if available)\n",
        "    )\n",
        "\n",
        "    if isinstance(o, Iterable):  # check if the object is iterable\n",
        "        for i in o:  # if yes, iterate over its elements\n",
        "            show_ltitem_hierarchy(i, depth=depth + 1)  # recursively call the function with each element\n",
        "\n",
        "path = Path('/content/CARE/sample_Eng.pdf').expanduser()  # create a Path object pointing to the PDF file\n",
        "pages = extract_pages(path)  # extract the pages from the PDF\n",
        "\n",
        "# Count the frequency of font sizes\n",
        "size_dict = {}  # Create an empty dictionary to store font size frequencies\n",
        "count_font_sizes(pages, size_dict)  # Call the function to count the font sizes\n",
        "\n",
        "# Print the font size frequencies\n",
        "print('Font size frequencies:')\n",
        "print('---------------------')\n",
        "for size, count in size_dict.items():  # Loop through the dictionary items\n",
        "    print(f'{size}pt: {count}')  # Print the font size and its frequency\n"
      ],
      "metadata": {
        "id": "-WcFUkSMlhtn",
        "colab": {
          "base_uri": "https://localhost:8080/"
        },
        "outputId": "fb20813d-4736-4dd2-e847-7c9bb59b75e2"
      },
      "execution_count": 27,
      "outputs": [
        {
          "output_type": "stream",
          "name": "stdout",
          "text": [
            "Font size frequencies:\n",
            "---------------------\n",
            "64pt: 5\n",
            "44pt: 18\n",
            "12pt: 32\n",
            "11pt: 369\n",
            "9pt: 22479\n",
            "8pt: 390\n",
            "10pt: 44\n",
            "5pt: 4\n"
          ]
        }
      ]
    },
    {
      "cell_type": "markdown",
      "source": [
        "Extract text and their font sizes"
      ],
      "metadata": {
        "id": "mbbf6M8do9g9"
      }
    },
    {
      "cell_type": "code",
      "source": [
        "from pdfminer.high_level import extract_pages\n",
        "from pdfminer.layout import LTTextContainer, LTChar, LTLine, LAParams\n",
        "import os\n",
        "\n",
        "path = r'/content/CARE/sample_Eng.pdf'\n",
        "\n",
        "Extract_Data = []\n",
        "\n",
        "for page_layout in extract_pages(path):\n",
        "    for element in page_layout:\n",
        "        if isinstance(element, LTTextContainer):\n",
        "            for text_line in element:\n",
        "                if isinstance(text_line, LTTextContainer):\n",
        "                    if len(text_line._objs) > 0:\n",
        "                        first_char = text_line._objs[0]\n",
        "                        if isinstance(first_char, LTChar):\n",
        "                            font_size = first_char.size\n",
        "                            text = element.get_text()\n",
        "                            Extract_Data.append([font_size, text])"
      ],
      "metadata": {
        "id": "OhoXUfJvo8fq"
      },
      "execution_count": 28,
      "outputs": []
    },
    {
      "cell_type": "code",
      "source": [
        "with open(\"extracted_data2.txt\", \"w\") as f:\n",
        "    for data in Extract_Data:\n",
        "        f.write(\"Font size: {}\\n\".format(data[0]))\n",
        "        f.write(\"Text: {}\\n\".format(data[1]))\n",
        "        f.write(\"\\n\")\n"
      ],
      "metadata": {
        "id": "187nvr0UpBWk"
      },
      "execution_count": 29,
      "outputs": []
    },
    {
      "cell_type": "markdown",
      "source": [
        "**This extracts the font name, font_size, text, bounding box**"
      ],
      "metadata": {
        "id": "qSmHFOooadIX"
      }
    },
    {
      "cell_type": "code",
      "source": [
        "from pdfminer.high_level import extract_pages        # Import function for extracting PDF pages\n",
        "from pdfminer.layout import LTTextContainer, LTChar, LTLine, LAParams   # Import PDF layout classes\n",
        "import os   # Import operating system functions\n",
        "\n",
        "path = r'/content/CARE/sample_Eng.pdf'    # Define path to PDF file\n",
        "\n",
        "output_file = 'efont_info.txt'   # Define name of output file\n",
        "\n",
        "with open(output_file, 'w') as file:     # Open the output file for writing\n",
        "    for page_layout in extract_pages(path):     # Iterate over PDF pages\n",
        "        for element in page_layout:     # Iterate over elements on each page\n",
        "            if isinstance(element, LTTextContainer):   # Check if element is a text container\n",
        "                text = element.get_text()   # Get the text of the element\n",
        "                bbox = element.bbox   # Get the bounding box of the element\n",
        "                file.write(f\"Text: {text}\\n\")   # Write text to output file\n",
        "                file.write(f\"Bounding Box: {bbox}\\n\")   # Write bounding box to output file\n",
        "                for text_line in element:   # Iterate over lines of text in the container\n",
        "                    if isinstance(text_line, LTTextContainer):   # Check if line is a text container\n",
        "                        if len(text_line._objs) > 0:    # Check if line contains any objects\n",
        "                            first_char = text_line._objs[0]   # Get the first object in the line\n",
        "                            if isinstance(first_char, LTChar):   # Check if object is a character\n",
        "                                font_size = first_char.size   # Get the font size of the character\n",
        "                                font_name = first_char.fontname   # Get the font name of the character\n",
        "                                file.write(f\"Font size: {font_size}\\n\")   # Write font size to output file\n",
        "                                file.write(f\"Font name: {font_name}\\n\")   # Write font name to output file\n",
        "                file.write(\"\\n\")   # Add newline to separate output for different elements\n"
      ],
      "metadata": {
        "id": "eOZ_Gi-kZ2zS"
      },
      "execution_count": 30,
      "outputs": []
    },
    {
      "cell_type": "markdown",
      "source": [
        "**This displays the bounding box, font and LT**"
      ],
      "metadata": {
        "id": "azHrQ3gqPApJ"
      }
    },
    {
      "cell_type": "code",
      "source": [
        "from pdfminer.high_level import extract_pages\n",
        "from pdfminer.layout import LTTextBox, LTTextLine, LTFigure, LTAnno\n",
        "\n",
        "def get_optional_fontinfo(o):\n",
        "    \"\"\"Font info of LTChar if available, otherwise empty string\"\"\"\n",
        "    if isinstance(o, LTChar):\n",
        "        return f'{o.fontname} {round(o.size)}pt'\n",
        "    return ''\n",
        "\n",
        "def get_optional_text(o):\n",
        "    \"\"\"Text of LTItem if available, otherwise empty string\"\"\"\n",
        "    if isinstance(o, LTTextBox) or isinstance(o, LTTextLine):\n",
        "        return o.get_text().strip()\n",
        "    return ''\n",
        "\n",
        "def show_layout(objs, f):\n",
        "    \"\"\"\n",
        "    Recursively parse layout objects and write information about each object's class name, bounding box,\n",
        "    font size, font name, and text (if any) to a file.\n",
        "    \"\"\"\n",
        "    for obj in objs:\n",
        "        if isinstance(obj, LTTextBox):\n",
        "            # Write the class name, bounding box, font size, font name, and text of the LTTextBox object to a file\n",
        "            f.write(f'LTTextBox: {obj.bbox}, {get_optional_fontinfo(obj)}, {get_optional_text(obj)}\\n')\n",
        "        elif isinstance(obj, LTTextLine):\n",
        "            # Write the class name, bounding box, font size, font name, and text of the LTTextLine object to a file\n",
        "            f.write(f'LTTextLine: {obj.bbox}, {get_optional_fontinfo(obj)}, {get_optional_text(obj)}\\n')\n",
        "        elif isinstance(obj, LTFigure):\n",
        "            # Recursively parse the layout objects of the LTFigure object\n",
        "            show_layout(obj._objs, f)\n",
        "        elif hasattr(obj, '_objs'):\n",
        "            # Recursively parse the layout objects of the object\n",
        "            show_layout(obj._objs, f)\n",
        "        elif hasattr(obj, 'bbox'):\n",
        "            # Write the class name and bounding box of the object to a file\n",
        "            f.write(f'{obj.__class__.__name__}: {obj.bbox}\\n')\n",
        "        else:\n",
        "            # Write the class name of the object to a file\n",
        "            f.write(f'Class name: {obj.__class__.__name__}\\n')\n",
        "\n",
        "\n",
        "# Extract pages from PDF file\n",
        "pages = extract_pages('/content/CARE/sample_Eng.pdf')\n",
        "\n",
        "# Parse layout information for each page\n",
        "with open('output.txt', 'w') as f:\n",
        "    for i, page_layout in enumerate(pages, start=1):\n",
        "        f.write(f'Page {i}:\\n')\n",
        "        show_layout(page_layout._objs, f)\n",
        "        f.write('\\n') # line separator for each page\n"
      ],
      "metadata": {
        "id": "OeqUoelsPMTt"
      },
      "execution_count": 31,
      "outputs": []
    },
    {
      "cell_type": "code",
      "source": [
        "import nltk\n",
        "nltk.download('punkt')\n",
        "nltk.download('averaged_perceptron_tagger')\n",
        "nltk.download('maxent_ne_chunker')\n",
        "nltk.download('words')\n",
        "\n",
        "def get_depth(paragraph):\n",
        "    sentences = nltk.sent_tokenize(paragraph)\n",
        "    tokens = [nltk.word_tokenize(sentence) for sentence in sentences]\n",
        "    tagged = [nltk.pos_tag(token) for token in tokens]\n",
        "    chunked = nltk.ne_chunk_sents(tagged, binary=True)\n",
        "    depth = 0\n",
        "    for tree in chunked:\n",
        "        depth += tree.height()\n",
        "    return depth\n",
        "\n",
        "with open('/content/Dextracts/page3_info.txt', 'r') as file:\n",
        "    text = file.read()\n",
        "    paragraphs = text.split('\\n\\n')\n",
        "    for i, paragraph in enumerate(paragraphs):\n",
        "        depth = get_depth(paragraph)\n",
        "        print(f\"Depth of paragraph {i}: {depth}\")\n",
        "        # print(\"Paragraph text:\")\n",
        "        print(paragraph)\n",
        "        print(\"--------------------\")\n"
      ],
      "metadata": {
        "colab": {
          "base_uri": "https://localhost:8080/"
        },
        "id": "IRrvhgR5pWBE",
        "outputId": "8b3a1b74-b8c9-4f3d-8669-f31b770ef311"
      },
      "execution_count": 32,
      "outputs": [
        {
          "output_type": "stream",
          "name": "stderr",
          "text": [
            "[nltk_data] Downloading package punkt to /root/nltk_data...\n",
            "[nltk_data]   Unzipping tokenizers/punkt.zip.\n",
            "[nltk_data] Downloading package averaged_perceptron_tagger to\n",
            "[nltk_data]     /root/nltk_data...\n",
            "[nltk_data]   Unzipping taggers/averaged_perceptron_tagger.zip.\n",
            "[nltk_data] Downloading package maxent_ne_chunker to\n",
            "[nltk_data]     /root/nltk_data...\n",
            "[nltk_data]   Unzipping chunkers/maxent_ne_chunker.zip.\n",
            "[nltk_data] Downloading package words to /root/nltk_data...\n",
            "[nltk_data]   Unzipping corpora/words.zip.\n"
          ]
        },
        {
          "output_type": "stream",
          "name": "stdout",
          "text": [
            "Depth of paragraph 0: 3\n",
            "Font size: 11.0\n",
            "Font name: NDJLVI+ArialNarrow-Bold\n",
            "Font color: (0.75, 0.05, 1, 0)\n",
            "Text: REPORT TO SHAREHOLDERS \n",
            "--------------------\n",
            "Depth of paragraph 1: 12\n",
            "Font size: 9.0\n",
            "Font name: FRIPNY+ArialNarrow\n",
            "Font color: (0, 0, 0, 1)\n",
            "Text: 2018  marked  a  change  in  food  and  even  drug  retail  with  the  absence  of  growth  or  expansion  at  less  than  population  growth  or  inflation  in  North \n",
            "America.  The net income attributable to equity holders of the Company attained $108.9 million, better than planned, yet shy of last year’s $119.3 million, \n",
            "while revenue grew slightly to $889.6 million.  This achievement was a blend of revenue growth in the modified atmosphere packaging, lidding and \n",
            "machinery product groups while our rigid container business receded as a result of transitioning to less costly plastic materials in our largest rigid container \n",
            "applications.  However, with the lack of retail growth and competitive selling price pressures intensifying in 2018, gross profit margins contracted 0.8 \n",
            "percent.  Unlike the prior year, raw material price pressures remained relatively tame.\n",
            "--------------------\n",
            "Depth of paragraph 2: 12\n",
            "Font size: 9.0\n",
            "Font name: AMVLVI+ArialNarrow\n",
            "Font color: (0, 0, 0, 1)\n",
            "Text: 2018  marked  a  change  in  food  and  even  drug  retail  with  the  absence  of  growth  or  expansion  at  less  than  population  growth  or  inflation  in  North \n",
            "America.  The net income attributable to equity holders of the Company attained $108.9 million, better than planned, yet shy of last year’s $119.3 million, \n",
            "while revenue grew slightly to $889.6 million.  This achievement was a blend of revenue growth in the modified atmosphere packaging, lidding and \n",
            "machinery product groups while our rigid container business receded as a result of transitioning to less costly plastic materials in our largest rigid container \n",
            "applications.  However, with the lack of retail growth and competitive selling price pressures intensifying in 2018, gross profit margins contracted 0.8 \n",
            "percent.  Unlike the prior year, raw material price pressures remained relatively tame.\n",
            "--------------------\n",
            "Depth of paragraph 3: 12\n",
            "Font size: 9.0\n",
            "Font name: FRIPNY+ArialNarrow\n",
            "Font color: (0, 0, 0, 1)\n",
            "Text: 2018  marked  a  change  in  food  and  even  drug  retail  with  the  absence  of  growth  or  expansion  at  less  than  population  growth  or  inflation  in  North \n",
            "America.  The net income attributable to equity holders of the Company attained $108.9 million, better than planned, yet shy of last year’s $119.3 million, \n",
            "while revenue grew slightly to $889.6 million.  This achievement was a blend of revenue growth in the modified atmosphere packaging, lidding and \n",
            "machinery product groups while our rigid container business receded as a result of transitioning to less costly plastic materials in our largest rigid container \n",
            "applications.  However, with the lack of retail growth and competitive selling price pressures intensifying in 2018, gross profit margins contracted 0.8 \n",
            "percent.  Unlike the prior year, raw material price pressures remained relatively tame.\n",
            "--------------------\n",
            "Depth of paragraph 4: 12\n",
            "Font size: 9.0\n",
            "Font name: AMVLVI+ArialNarrow\n",
            "Font color: (0, 0, 0, 1)\n",
            "Text: 2018  marked  a  change  in  food  and  even  drug  retail  with  the  absence  of  growth  or  expansion  at  less  than  population  growth  or  inflation  in  North \n",
            "America.  The net income attributable to equity holders of the Company attained $108.9 million, better than planned, yet shy of last year’s $119.3 million, \n",
            "while revenue grew slightly to $889.6 million.  This achievement was a blend of revenue growth in the modified atmosphere packaging, lidding and \n",
            "machinery product groups while our rigid container business receded as a result of transitioning to less costly plastic materials in our largest rigid container \n",
            "applications.  However, with the lack of retail growth and competitive selling price pressures intensifying in 2018, gross profit margins contracted 0.8 \n",
            "percent.  Unlike the prior year, raw material price pressures remained relatively tame.\n",
            "--------------------\n",
            "Depth of paragraph 5: 12\n",
            "Font size: 9.0\n",
            "Font name: FRIPNY+ArialNarrow\n",
            "Font color: (0, 0, 0, 1)\n",
            "Text: 2018  marked  a  change  in  food  and  even  drug  retail  with  the  absence  of  growth  or  expansion  at  less  than  population  growth  or  inflation  in  North \n",
            "America.  The net income attributable to equity holders of the Company attained $108.9 million, better than planned, yet shy of last year’s $119.3 million, \n",
            "while revenue grew slightly to $889.6 million.  This achievement was a blend of revenue growth in the modified atmosphere packaging, lidding and \n",
            "machinery product groups while our rigid container business receded as a result of transitioning to less costly plastic materials in our largest rigid container \n",
            "applications.  However, with the lack of retail growth and competitive selling price pressures intensifying in 2018, gross profit margins contracted 0.8 \n",
            "percent.  Unlike the prior year, raw material price pressures remained relatively tame.\n",
            "--------------------\n",
            "Depth of paragraph 6: 12\n",
            "Font size: 9.0\n",
            "Font name: AMVLVI+ArialNarrow\n",
            "Font color: (0, 0, 0, 1)\n",
            "Text: 2018  marked  a  change  in  food  and  even  drug  retail  with  the  absence  of  growth  or  expansion  at  less  than  population  growth  or  inflation  in  North \n",
            "America.  The net income attributable to equity holders of the Company attained $108.9 million, better than planned, yet shy of last year’s $119.3 million, \n",
            "while revenue grew slightly to $889.6 million.  This achievement was a blend of revenue growth in the modified atmosphere packaging, lidding and \n",
            "machinery product groups while our rigid container business receded as a result of transitioning to less costly plastic materials in our largest rigid container \n",
            "applications.  However, with the lack of retail growth and competitive selling price pressures intensifying in 2018, gross profit margins contracted 0.8 \n",
            "percent.  Unlike the prior year, raw material price pressures remained relatively tame.\n",
            "--------------------\n",
            "Depth of paragraph 7: 11\n",
            "Font size: 9.0\n",
            "Font name: AMVLVI+ArialNarrow\n",
            "Font color: (0, 0, 0, 1)\n",
            "Text: Overall, with the challenging rigid packaging transition initiated towards sustainable offerings, more than half of Winpak’s product portfolio is recycle-ready \n",
            "with further advances in material sciences being developed to offer ground-breaking recycle-ready high barrier flexible and rigid solutions based upon \n",
            "renewable materials.  The Company’s direction is set towards advancement while consciously reducing the environmental impact.  Our manufacturing \n",
            "processes and sites are relentlessly searching for ways to reduce their impact and incorporate new processes with the latest technologies to reduce \n",
            "emissions, energy consumption and production waste.  We strive to design our new processes to use green energy wherever possible, such as hydro \n",
            "electricity in Canada and avoiding natural gas.\n",
            "--------------------\n",
            "Depth of paragraph 8: 11\n",
            "Font size: 9.0\n",
            "Font name: FRIPNY+ArialNarrow\n",
            "Font color: (0, 0, 0, 1)\n",
            "Text: Overall, with the challenging rigid packaging transition initiated towards sustainable offerings, more than half of Winpak’s product portfolio is recycle-ready \n",
            "with further advances in material sciences being developed to offer ground-breaking recycle-ready high barrier flexible and rigid solutions based upon \n",
            "renewable materials.  The Company’s direction is set towards advancement while consciously reducing the environmental impact.  Our manufacturing \n",
            "processes and sites are relentlessly searching for ways to reduce their impact and incorporate new processes with the latest technologies to reduce \n",
            "emissions, energy consumption and production waste.  We strive to design our new processes to use green energy wherever possible, such as hydro \n",
            "electricity in Canada and avoiding natural gas.\n",
            "--------------------\n",
            "Depth of paragraph 9: 11\n",
            "Font size: 9.0\n",
            "Font name: AMVLVI+ArialNarrow\n",
            "Font color: (0, 0, 0, 1)\n",
            "Text: Overall, with the challenging rigid packaging transition initiated towards sustainable offerings, more than half of Winpak’s product portfolio is recycle-ready \n",
            "with further advances in material sciences being developed to offer ground-breaking recycle-ready high barrier flexible and rigid solutions based upon \n",
            "renewable materials.  The Company’s direction is set towards advancement while consciously reducing the environmental impact.  Our manufacturing \n",
            "processes and sites are relentlessly searching for ways to reduce their impact and incorporate new processes with the latest technologies to reduce \n",
            "emissions, energy consumption and production waste.  We strive to design our new processes to use green energy wherever possible, such as hydro \n",
            "electricity in Canada and avoiding natural gas.\n",
            "--------------------\n",
            "Depth of paragraph 10: 11\n",
            "Font size: 9.0\n",
            "Font name: AMVLVI+ArialNarrow\n",
            "Font color: (0, 0, 0, 1)\n",
            "Text: Overall, with the challenging rigid packaging transition initiated towards sustainable offerings, more than half of Winpak’s product portfolio is recycle-ready \n",
            "with further advances in material sciences being developed to offer ground-breaking recycle-ready high barrier flexible and rigid solutions based upon \n",
            "renewable materials.  The Company’s direction is set towards advancement while consciously reducing the environmental impact.  Our manufacturing \n",
            "processes and sites are relentlessly searching for ways to reduce their impact and incorporate new processes with the latest technologies to reduce \n",
            "emissions, energy consumption and production waste.  We strive to design our new processes to use green energy wherever possible, such as hydro \n",
            "electricity in Canada and avoiding natural gas.\n",
            "--------------------\n",
            "Depth of paragraph 11: 11\n",
            "Font size: 9.0\n",
            "Font name: AMVLVI+ArialNarrow\n",
            "Font color: (0, 0, 0, 1)\n",
            "Text: Overall, with the challenging rigid packaging transition initiated towards sustainable offerings, more than half of Winpak’s product portfolio is recycle-ready \n",
            "with further advances in material sciences being developed to offer ground-breaking recycle-ready high barrier flexible and rigid solutions based upon \n",
            "renewable materials.  The Company’s direction is set towards advancement while consciously reducing the environmental impact.  Our manufacturing \n",
            "processes and sites are relentlessly searching for ways to reduce their impact and incorporate new processes with the latest technologies to reduce \n",
            "emissions, energy consumption and production waste.  We strive to design our new processes to use green energy wherever possible, such as hydro \n",
            "electricity in Canada and avoiding natural gas.\n",
            "--------------------\n",
            "Depth of paragraph 12: 11\n",
            "Font size: 9.0\n",
            "Font name: AMVLVI+ArialNarrow\n",
            "Font color: (0, 0, 0, 1)\n",
            "Text: Overall, with the challenging rigid packaging transition initiated towards sustainable offerings, more than half of Winpak’s product portfolio is recycle-ready \n",
            "with further advances in material sciences being developed to offer ground-breaking recycle-ready high barrier flexible and rigid solutions based upon \n",
            "renewable materials.  The Company’s direction is set towards advancement while consciously reducing the environmental impact.  Our manufacturing \n",
            "processes and sites are relentlessly searching for ways to reduce their impact and incorporate new processes with the latest technologies to reduce \n",
            "emissions, energy consumption and production waste.  We strive to design our new processes to use green energy wherever possible, such as hydro \n",
            "electricity in Canada and avoiding natural gas.\n",
            "--------------------\n",
            "Depth of paragraph 13: 12\n",
            "Font size: 9.0\n",
            "Font name: AMVLVI+ArialNarrow\n",
            "Font color: (0, 0, 0, 1)\n",
            "Text: The continued progression at the Winnipeg, Manitoba facility relies largely on the capabilities of Winpak’s latest and largest, high barrier cast co-extrusion \n",
            "technology expansion along with re-engineering existing lines to meet the new state of the art technology.  In addition, different product designs are being \n",
            "considered for a new generation of films as an upgrade to the most recently installed line.  The step-ups in productivity and quality consistency have been \n",
            "instrumental in mitigating the impact of raw material price increases and further steps in automation utilization will also contribute to maintaining low costs.  \n",
            "Additional high barrier co-extruded blown film capacity was added mid-year to keep up with the demand in sophisticated high barrier pouch structures.  \n",
            "These new capabilities enhance the Company’s portfolio of high barrier films for modified atmosphere packaging.\n",
            "--------------------\n",
            "Depth of paragraph 14: 12\n",
            "Font size: 9.0\n",
            "Font name: AMVLVI+ArialNarrow\n",
            "Font color: (0, 0, 0, 1)\n",
            "Text: The continued progression at the Winnipeg, Manitoba facility relies largely on the capabilities of Winpak’s latest and largest, high barrier cast co-extrusion \n",
            "technology expansion along with re-engineering existing lines to meet the new state of the art technology.  In addition, different product designs are being \n",
            "considered for a new generation of films as an upgrade to the most recently installed line.  The step-ups in productivity and quality consistency have been \n",
            "instrumental in mitigating the impact of raw material price increases and further steps in automation utilization will also contribute to maintaining low costs.  \n",
            "Additional high barrier co-extruded blown film capacity was added mid-year to keep up with the demand in sophisticated high barrier pouch structures.  \n",
            "These new capabilities enhance the Company’s portfolio of high barrier films for modified atmosphere packaging.\n",
            "--------------------\n",
            "Depth of paragraph 15: 12\n",
            "Font size: 9.0\n",
            "Font name: FRIPNY+ArialNarrow\n",
            "Font color: (0, 0, 0, 1)\n",
            "Text: The continued progression at the Winnipeg, Manitoba facility relies largely on the capabilities of Winpak’s latest and largest, high barrier cast co-extrusion \n",
            "technology expansion along with re-engineering existing lines to meet the new state of the art technology.  In addition, different product designs are being \n",
            "considered for a new generation of films as an upgrade to the most recently installed line.  The step-ups in productivity and quality consistency have been \n",
            "instrumental in mitigating the impact of raw material price increases and further steps in automation utilization will also contribute to maintaining low costs.  \n",
            "Additional high barrier co-extruded blown film capacity was added mid-year to keep up with the demand in sophisticated high barrier pouch structures.  \n",
            "These new capabilities enhance the Company’s portfolio of high barrier films for modified atmosphere packaging.\n",
            "--------------------\n",
            "Depth of paragraph 16: 12\n",
            "Font size: 9.0\n",
            "Font name: AMVLVI+ArialNarrow\n",
            "Font color: (0, 0, 0, 1)\n",
            "Text: The continued progression at the Winnipeg, Manitoba facility relies largely on the capabilities of Winpak’s latest and largest, high barrier cast co-extrusion \n",
            "technology expansion along with re-engineering existing lines to meet the new state of the art technology.  In addition, different product designs are being \n",
            "considered for a new generation of films as an upgrade to the most recently installed line.  The step-ups in productivity and quality consistency have been \n",
            "instrumental in mitigating the impact of raw material price increases and further steps in automation utilization will also contribute to maintaining low costs.  \n",
            "Additional high barrier co-extruded blown film capacity was added mid-year to keep up with the demand in sophisticated high barrier pouch structures.  \n",
            "These new capabilities enhance the Company’s portfolio of high barrier films for modified atmosphere packaging.\n",
            "--------------------\n",
            "Depth of paragraph 17: 12\n",
            "Font size: 9.0\n",
            "Font name: FRIPNY+ArialNarrow\n",
            "Font color: (0, 0, 0, 1)\n",
            "Text: The continued progression at the Winnipeg, Manitoba facility relies largely on the capabilities of Winpak’s latest and largest, high barrier cast co-extrusion \n",
            "technology expansion along with re-engineering existing lines to meet the new state of the art technology.  In addition, different product designs are being \n",
            "considered for a new generation of films as an upgrade to the most recently installed line.  The step-ups in productivity and quality consistency have been \n",
            "instrumental in mitigating the impact of raw material price increases and further steps in automation utilization will also contribute to maintaining low costs.  \n",
            "Additional high barrier co-extruded blown film capacity was added mid-year to keep up with the demand in sophisticated high barrier pouch structures.  \n",
            "These new capabilities enhance the Company’s portfolio of high barrier films for modified atmosphere packaging.\n",
            "--------------------\n",
            "Depth of paragraph 18: 12\n",
            "Font size: 9.0\n",
            "Font name: FRIPNY+ArialNarrow\n",
            "Font color: (0, 0, 0, 1)\n",
            "Text: The continued progression at the Winnipeg, Manitoba facility relies largely on the capabilities of Winpak’s latest and largest, high barrier cast co-extrusion \n",
            "technology expansion along with re-engineering existing lines to meet the new state of the art technology.  In addition, different product designs are being \n",
            "considered for a new generation of films as an upgrade to the most recently installed line.  The step-ups in productivity and quality consistency have been \n",
            "instrumental in mitigating the impact of raw material price increases and further steps in automation utilization will also contribute to maintaining low costs.  \n",
            "Additional high barrier co-extruded blown film capacity was added mid-year to keep up with the demand in sophisticated high barrier pouch structures.  \n",
            "These new capabilities enhance the Company’s portfolio of high barrier films for modified atmosphere packaging.\n",
            "--------------------\n",
            "Depth of paragraph 19: 8\n",
            "Font size: 9.0\n",
            "Font name: FRIPNY+ArialNarrow\n",
            "Font color: (0, 0, 0, 1)\n",
            "Text: Similarly, Winpak’s specialty films business in Senoia, Georgia which benefited from an 80,000 square foot building expansion, has been ramping up \n",
            "with a new blown film co-extrusion line and will be proceeding with additional capacity in early 2020 to keep up with demand for sophisticated high barrier \n",
            "food and medical films.  To streamline the marketing of Winnipeg and Senoia’s complementary product portfolio, the two teams are now under a single \n",
            "management structure.  The shrink bag co-extrusion lines from our first expansion are all undergoing significant re-design and technology improvements \n",
            "towards new state of the art capabilities for the speciality meat and cheese markets.\n",
            "--------------------\n",
            "Depth of paragraph 20: 8\n",
            "Font size: 9.0\n",
            "Font name: FRIPNY+ArialNarrow\n",
            "Font color: (0, 0, 0, 1)\n",
            "Text: Similarly, Winpak’s specialty films business in Senoia, Georgia which benefited from an 80,000 square foot building expansion, has been ramping up \n",
            "with a new blown film co-extrusion line and will be proceeding with additional capacity in early 2020 to keep up with demand for sophisticated high barrier \n",
            "food and medical films.  To streamline the marketing of Winnipeg and Senoia’s complementary product portfolio, the two teams are now under a single \n",
            "management structure.  The shrink bag co-extrusion lines from our first expansion are all undergoing significant re-design and technology improvements \n",
            "towards new state of the art capabilities for the speciality meat and cheese markets.\n",
            "--------------------\n",
            "Depth of paragraph 21: 8\n",
            "Font size: 9.0\n",
            "Font name: FRIPNY+ArialNarrow\n",
            "Font color: (0, 0, 0, 1)\n",
            "Text: Similarly, Winpak’s specialty films business in Senoia, Georgia which benefited from an 80,000 square foot building expansion, has been ramping up \n",
            "with a new blown film co-extrusion line and will be proceeding with additional capacity in early 2020 to keep up with demand for sophisticated high barrier \n",
            "food and medical films.  To streamline the marketing of Winnipeg and Senoia’s complementary product portfolio, the two teams are now under a single \n",
            "management structure.  The shrink bag co-extrusion lines from our first expansion are all undergoing significant re-design and technology improvements \n",
            "towards new state of the art capabilities for the speciality meat and cheese markets.\n",
            "--------------------\n",
            "Depth of paragraph 22: 8\n",
            "Font size: 9.0\n",
            "Font name: FRIPNY+ArialNarrow\n",
            "Font color: (0, 0, 0, 1)\n",
            "Text: Similarly, Winpak’s specialty films business in Senoia, Georgia which benefited from an 80,000 square foot building expansion, has been ramping up \n",
            "with a new blown film co-extrusion line and will be proceeding with additional capacity in early 2020 to keep up with demand for sophisticated high barrier \n",
            "food and medical films.  To streamline the marketing of Winnipeg and Senoia’s complementary product portfolio, the two teams are now under a single \n",
            "management structure.  The shrink bag co-extrusion lines from our first expansion are all undergoing significant re-design and technology improvements \n",
            "towards new state of the art capabilities for the speciality meat and cheese markets.\n",
            "--------------------\n",
            "Depth of paragraph 23: 8\n",
            "Font size: 9.0\n",
            "Font name: AMVLVI+ArialNarrow\n",
            "Font color: (0, 0, 0, 1)\n",
            "Text: Similarly, Winpak’s specialty films business in Senoia, Georgia which benefited from an 80,000 square foot building expansion, has been ramping up \n",
            "with a new blown film co-extrusion line and will be proceeding with additional capacity in early 2020 to keep up with demand for sophisticated high barrier \n",
            "food and medical films.  To streamline the marketing of Winnipeg and Senoia’s complementary product portfolio, the two teams are now under a single \n",
            "management structure.  The shrink bag co-extrusion lines from our first expansion are all undergoing significant re-design and technology improvements \n",
            "towards new state of the art capabilities for the speciality meat and cheese markets.\n",
            "--------------------\n",
            "Depth of paragraph 24: 10\n",
            "Font size: 9.0\n",
            "Font name: FRIPNY+ArialNarrow\n",
            "Font color: (0, 0, 0, 1)\n",
            "Text: 2018 was again remarkable for the Winpak–Sojitz Corporation of Japan business venture producing biaxially oriented polyamide (nylon) films.   American \n",
            "Biaxis  achieved record productivity in the latter part of the year to counteract elevated raw material costs and increased selling price competition, whereas \n",
            "the beginning of the year had proven challenging from a productivity standpoint.  Once more, the focus on quality and customer service outweighed \n",
            "competitive selling price pressures from offshore suppliers.  The announced building and equipment capacity expansion will break ground in early 2019.\n",
            "--------------------\n",
            "Depth of paragraph 25: 10\n",
            "Font size: 9.0\n",
            "Font name: AMVLVI+ArialNarrow\n",
            "Font color: (0, 0, 0, 1)\n",
            "Text: 2018 was again remarkable for the Winpak–Sojitz Corporation of Japan business venture producing biaxially oriented polyamide (nylon) films.   American \n",
            "Biaxis  achieved record productivity in the latter part of the year to counteract elevated raw material costs and increased selling price competition, whereas \n",
            "the beginning of the year had proven challenging from a productivity standpoint.  Once more, the focus on quality and customer service outweighed \n",
            "competitive selling price pressures from offshore suppliers.  The announced building and equipment capacity expansion will break ground in early 2019.\n",
            "--------------------\n",
            "Depth of paragraph 26: 10\n",
            "Font size: 9.0\n",
            "Font name: AMVLVI+ArialNarrow\n",
            "Font color: (0, 0, 0, 1)\n",
            "Text: 2018 was again remarkable for the Winpak–Sojitz Corporation of Japan business venture producing biaxially oriented polyamide (nylon) films.   American \n",
            "Biaxis  achieved record productivity in the latter part of the year to counteract elevated raw material costs and increased selling price competition, whereas \n",
            "the beginning of the year had proven challenging from a productivity standpoint.  Once more, the focus on quality and customer service outweighed \n",
            "competitive selling price pressures from offshore suppliers.  The announced building and equipment capacity expansion will break ground in early 2019.\n",
            "--------------------\n",
            "Depth of paragraph 27: 10\n",
            "Font size: 9.0\n",
            "Font name: AMVLVI+ArialNarrow\n",
            "Font color: (0, 0, 0, 1)\n",
            "Text: 2018 was again remarkable for the Winpak–Sojitz Corporation of Japan business venture producing biaxially oriented polyamide (nylon) films.   American \n",
            "Biaxis  achieved record productivity in the latter part of the year to counteract elevated raw material costs and increased selling price competition, whereas \n",
            "the beginning of the year had proven challenging from a productivity standpoint.  Once more, the focus on quality and customer service outweighed \n",
            "competitive selling price pressures from offshore suppliers.  The announced building and equipment capacity expansion will break ground in early 2019.\n",
            "--------------------\n",
            "Depth of paragraph 28: 6\n",
            "Font size: 9.0\n",
            "Font name: FRIPNY+ArialNarrow\n",
            "Font color: (0, 0, 0, 1)\n",
            "Text: Overall, Winpak’s flexible packaging business grew slightly in 2018, in the face of stronger than ever selling pricing competition and surprisingly low retail \n",
            "growth.  Going forward, Winpak’s offering in high barrier recycle-ready flexible packaging will expand, relying on our uniquely sophisticated infrastructure.\n",
            "--------------------\n",
            "Depth of paragraph 29: 6\n",
            "Font size: 9.0\n",
            "Font name: FRIPNY+ArialNarrow\n",
            "Font color: (0, 0, 0, 1)\n",
            "Text: Overall, Winpak’s flexible packaging business grew slightly in 2018, in the face of stronger than ever selling pricing competition and surprisingly low retail \n",
            "growth.  Going forward, Winpak’s offering in high barrier recycle-ready flexible packaging will expand, relying on our uniquely sophisticated infrastructure.\n",
            "--------------------\n",
            "Depth of paragraph 30: 9\n",
            "Font size: 9.0\n",
            "Font name: AMVLVI+ArialNarrow\n",
            "Font color: (0, 0, 0, 1)\n",
            "Text: In 2018, the Company’s rigid container business which consists of the production of plastic sheets and thermoformed barrier containers in two locations \n",
            "in Chicago, Illinois and one in Toronto saw the start-up of a new sheet and in-line thermoforming line in the newly expanded 348,000 square foot site and \n",
            "the engineering of two more lines to be installed in 2019 and 2020.  The mentioned contraction of the rigid container revenue is not the result of a loss of \n",
            "business, but the transition to less costly and lighter plastics, mainly moving out of polystyrene for materials that are easier to recycle, such as from the \n",
            "family of polyolefins (polypropylene and polyethylene) and to some extent due to competitive selling price pressures.  To date, more than half our portfolio \n",
            "of rigid containers are so called recycle-ready and this will continue to increase, while solutions from renewable resources are actively being pursued and \n",
            "developed.  The rationale of expanding the rigid container capacity is driven by growth in condiments for convenience with ready-to-serve meals and meal \n",
            "kits as well as a return to single portion containers away from multi-pocket solutions in dairy and dessert offerings.\n",
            "--------------------\n",
            "Depth of paragraph 31: 9\n",
            "Font size: 9.0\n",
            "Font name: AMVLVI+ArialNarrow\n",
            "Font color: (0, 0, 0, 1)\n",
            "Text: In 2018, the Company’s rigid container business which consists of the production of plastic sheets and thermoformed barrier containers in two locations \n",
            "in Chicago, Illinois and one in Toronto saw the start-up of a new sheet and in-line thermoforming line in the newly expanded 348,000 square foot site and \n",
            "the engineering of two more lines to be installed in 2019 and 2020.  The mentioned contraction of the rigid container revenue is not the result of a loss of \n",
            "business, but the transition to less costly and lighter plastics, mainly moving out of polystyrene for materials that are easier to recycle, such as from the \n",
            "family of polyolefins (polypropylene and polyethylene) and to some extent due to competitive selling price pressures.  To date, more than half our portfolio \n",
            "of rigid containers are so called recycle-ready and this will continue to increase, while solutions from renewable resources are actively being pursued and \n",
            "developed.  The rationale of expanding the rigid container capacity is driven by growth in condiments for convenience with ready-to-serve meals and meal \n",
            "kits as well as a return to single portion containers away from multi-pocket solutions in dairy and dessert offerings.\n",
            "--------------------\n",
            "Depth of paragraph 32: 9\n",
            "Font size: 9.0\n",
            "Font name: AMVLVI+ArialNarrow\n",
            "Font color: (0, 0, 0, 1)\n",
            "Text: In 2018, the Company’s rigid container business which consists of the production of plastic sheets and thermoformed barrier containers in two locations \n",
            "in Chicago, Illinois and one in Toronto saw the start-up of a new sheet and in-line thermoforming line in the newly expanded 348,000 square foot site and \n",
            "the engineering of two more lines to be installed in 2019 and 2020.  The mentioned contraction of the rigid container revenue is not the result of a loss of \n",
            "business, but the transition to less costly and lighter plastics, mainly moving out of polystyrene for materials that are easier to recycle, such as from the \n",
            "family of polyolefins (polypropylene and polyethylene) and to some extent due to competitive selling price pressures.  To date, more than half our portfolio \n",
            "of rigid containers are so called recycle-ready and this will continue to increase, while solutions from renewable resources are actively being pursued and \n",
            "developed.  The rationale of expanding the rigid container capacity is driven by growth in condiments for convenience with ready-to-serve meals and meal \n",
            "kits as well as a return to single portion containers away from multi-pocket solutions in dairy and dessert offerings.\n",
            "--------------------\n",
            "Depth of paragraph 33: 9\n",
            "Font size: 9.0\n",
            "Font name: AMVLVI+ArialNarrow\n",
            "Font color: (0, 0, 0, 1)\n",
            "Text: In 2018, the Company’s rigid container business which consists of the production of plastic sheets and thermoformed barrier containers in two locations \n",
            "in Chicago, Illinois and one in Toronto saw the start-up of a new sheet and in-line thermoforming line in the newly expanded 348,000 square foot site and \n",
            "the engineering of two more lines to be installed in 2019 and 2020.  The mentioned contraction of the rigid container revenue is not the result of a loss of \n",
            "business, but the transition to less costly and lighter plastics, mainly moving out of polystyrene for materials that are easier to recycle, such as from the \n",
            "family of polyolefins (polypropylene and polyethylene) and to some extent due to competitive selling price pressures.  To date, more than half our portfolio \n",
            "of rigid containers are so called recycle-ready and this will continue to increase, while solutions from renewable resources are actively being pursued and \n",
            "developed.  The rationale of expanding the rigid container capacity is driven by growth in condiments for convenience with ready-to-serve meals and meal \n",
            "kits as well as a return to single portion containers away from multi-pocket solutions in dairy and dessert offerings.\n",
            "--------------------\n",
            "Depth of paragraph 34: 9\n",
            "Font size: 9.0\n",
            "Font name: FRIPNY+ArialNarrow\n",
            "Font color: (0, 0, 0, 1)\n",
            "Text: In 2018, the Company’s rigid container business which consists of the production of plastic sheets and thermoformed barrier containers in two locations \n",
            "in Chicago, Illinois and one in Toronto saw the start-up of a new sheet and in-line thermoforming line in the newly expanded 348,000 square foot site and \n",
            "the engineering of two more lines to be installed in 2019 and 2020.  The mentioned contraction of the rigid container revenue is not the result of a loss of \n",
            "business, but the transition to less costly and lighter plastics, mainly moving out of polystyrene for materials that are easier to recycle, such as from the \n",
            "family of polyolefins (polypropylene and polyethylene) and to some extent due to competitive selling price pressures.  To date, more than half our portfolio \n",
            "of rigid containers are so called recycle-ready and this will continue to increase, while solutions from renewable resources are actively being pursued and \n",
            "developed.  The rationale of expanding the rigid container capacity is driven by growth in condiments for convenience with ready-to-serve meals and meal \n",
            "kits as well as a return to single portion containers away from multi-pocket solutions in dairy and dessert offerings.\n",
            "--------------------\n",
            "Depth of paragraph 35: 9\n",
            "Font size: 9.0\n",
            "Font name: AMVLVI+ArialNarrow\n",
            "Font color: (0, 0, 0, 1)\n",
            "Text: In 2018, the Company’s rigid container business which consists of the production of plastic sheets and thermoformed barrier containers in two locations \n",
            "in Chicago, Illinois and one in Toronto saw the start-up of a new sheet and in-line thermoforming line in the newly expanded 348,000 square foot site and \n",
            "the engineering of two more lines to be installed in 2019 and 2020.  The mentioned contraction of the rigid container revenue is not the result of a loss of \n",
            "business, but the transition to less costly and lighter plastics, mainly moving out of polystyrene for materials that are easier to recycle, such as from the \n",
            "family of polyolefins (polypropylene and polyethylene) and to some extent due to competitive selling price pressures.  To date, more than half our portfolio \n",
            "of rigid containers are so called recycle-ready and this will continue to increase, while solutions from renewable resources are actively being pursued and \n",
            "developed.  The rationale of expanding the rigid container capacity is driven by growth in condiments for convenience with ready-to-serve meals and meal \n",
            "kits as well as a return to single portion containers away from multi-pocket solutions in dairy and dessert offerings.\n",
            "--------------------\n",
            "Depth of paragraph 36: 9\n",
            "Font size: 9.0\n",
            "Font name: AMVLVI+ArialNarrow\n",
            "Font color: (0, 0, 0, 1)\n",
            "Text: In 2018, the Company’s rigid container business which consists of the production of plastic sheets and thermoformed barrier containers in two locations \n",
            "in Chicago, Illinois and one in Toronto saw the start-up of a new sheet and in-line thermoforming line in the newly expanded 348,000 square foot site and \n",
            "the engineering of two more lines to be installed in 2019 and 2020.  The mentioned contraction of the rigid container revenue is not the result of a loss of \n",
            "business, but the transition to less costly and lighter plastics, mainly moving out of polystyrene for materials that are easier to recycle, such as from the \n",
            "family of polyolefins (polypropylene and polyethylene) and to some extent due to competitive selling price pressures.  To date, more than half our portfolio \n",
            "of rigid containers are so called recycle-ready and this will continue to increase, while solutions from renewable resources are actively being pursued and \n",
            "developed.  The rationale of expanding the rigid container capacity is driven by growth in condiments for convenience with ready-to-serve meals and meal \n",
            "kits as well as a return to single portion containers away from multi-pocket solutions in dairy and dessert offerings.\n",
            "--------------------\n",
            "Depth of paragraph 37: 9\n",
            "Font size: 9.0\n",
            "Font name: AMVLVI+ArialNarrow\n",
            "Font color: (0, 0, 0, 1)\n",
            "Text: In 2018, the Company’s rigid container business which consists of the production of plastic sheets and thermoformed barrier containers in two locations \n",
            "in Chicago, Illinois and one in Toronto saw the start-up of a new sheet and in-line thermoforming line in the newly expanded 348,000 square foot site and \n",
            "the engineering of two more lines to be installed in 2019 and 2020.  The mentioned contraction of the rigid container revenue is not the result of a loss of \n",
            "business, but the transition to less costly and lighter plastics, mainly moving out of polystyrene for materials that are easier to recycle, such as from the \n",
            "family of polyolefins (polypropylene and polyethylene) and to some extent due to competitive selling price pressures.  To date, more than half our portfolio \n",
            "of rigid containers are so called recycle-ready and this will continue to increase, while solutions from renewable resources are actively being pursued and \n",
            "developed.  The rationale of expanding the rigid container capacity is driven by growth in condiments for convenience with ready-to-serve meals and meal \n",
            "kits as well as a return to single portion containers away from multi-pocket solutions in dairy and dessert offerings.\n",
            "--------------------\n",
            "Depth of paragraph 38: 10\n",
            "Font size: 9.0\n",
            "Font name: FRIPNY+ArialNarrow\n",
            "Font color: (0, 0, 0, 1)\n",
            "Text: The Company’s product offering as a system of high-tech flexible lidding solutions combined with rigid containers, whether in die-cut or roll-fed form, \n",
            "aluminum-based or high barrier plastics sets Winpak apart in the industry.  At the Vaudreuil-Dorion, Quebec facility, the newly re-engineered tandem \n",
            "extrusion line and new printing press have proven instrumental in growing the range of new generation roll-fed flexible lidding products to complement \n",
            "our large die-cut lid presence.  The vast expansion of our Mexican operations is nearing completion with the die-cut business already in operation while \n",
            "equipment for the converting portion of the plant is being assembled for start-up in the second quarter of 2019.  Together with the newly re-organized \n",
            "healthcare team, modest revenue growth was achieved in 2018.\n",
            "--------------------\n",
            "Depth of paragraph 39: 10\n",
            "Font size: 9.0\n",
            "Font name: AMVLVI+ArialNarrow\n",
            "Font color: (0, 0, 0, 1)\n",
            "Text: The Company’s product offering as a system of high-tech flexible lidding solutions combined with rigid containers, whether in die-cut or roll-fed form, \n",
            "aluminum-based or high barrier plastics sets Winpak apart in the industry.  At the Vaudreuil-Dorion, Quebec facility, the newly re-engineered tandem \n",
            "extrusion line and new printing press have proven instrumental in growing the range of new generation roll-fed flexible lidding products to complement \n",
            "our large die-cut lid presence.  The vast expansion of our Mexican operations is nearing completion with the die-cut business already in operation while \n",
            "equipment for the converting portion of the plant is being assembled for start-up in the second quarter of 2019.  Together with the newly re-organized \n",
            "healthcare team, modest revenue growth was achieved in 2018.\n",
            "--------------------\n",
            "Depth of paragraph 40: 10\n",
            "Font size: 9.0\n",
            "Font name: FRIPNY+ArialNarrow\n",
            "Font color: (0, 0, 0, 1)\n",
            "Text: The Company’s product offering as a system of high-tech flexible lidding solutions combined with rigid containers, whether in die-cut or roll-fed form, \n",
            "aluminum-based or high barrier plastics sets Winpak apart in the industry.  At the Vaudreuil-Dorion, Quebec facility, the newly re-engineered tandem \n",
            "extrusion line and new printing press have proven instrumental in growing the range of new generation roll-fed flexible lidding products to complement \n",
            "our large die-cut lid presence.  The vast expansion of our Mexican operations is nearing completion with the die-cut business already in operation while \n",
            "equipment for the converting portion of the plant is being assembled for start-up in the second quarter of 2019.  Together with the newly re-organized \n",
            "healthcare team, modest revenue growth was achieved in 2018.\n",
            "--------------------\n",
            "Depth of paragraph 41: 10\n",
            "Font size: 9.0\n",
            "Font name: AMVLVI+ArialNarrow\n",
            "Font color: (0, 0, 0, 1)\n",
            "Text: The Company’s product offering as a system of high-tech flexible lidding solutions combined with rigid containers, whether in die-cut or roll-fed form, \n",
            "aluminum-based or high barrier plastics sets Winpak apart in the industry.  At the Vaudreuil-Dorion, Quebec facility, the newly re-engineered tandem \n",
            "extrusion line and new printing press have proven instrumental in growing the range of new generation roll-fed flexible lidding products to complement \n",
            "our large die-cut lid presence.  The vast expansion of our Mexican operations is nearing completion with the die-cut business already in operation while \n",
            "equipment for the converting portion of the plant is being assembled for start-up in the second quarter of 2019.  Together with the newly re-organized \n",
            "healthcare team, modest revenue growth was achieved in 2018.\n",
            "--------------------\n",
            "Depth of paragraph 42: 10\n",
            "Font size: 9.0\n",
            "Font name: AMVLVI+ArialNarrow\n",
            "Font color: (0, 0, 0, 1)\n",
            "Text: The Company’s product offering as a system of high-tech flexible lidding solutions combined with rigid containers, whether in die-cut or roll-fed form, \n",
            "aluminum-based or high barrier plastics sets Winpak apart in the industry.  At the Vaudreuil-Dorion, Quebec facility, the newly re-engineered tandem \n",
            "extrusion line and new printing press have proven instrumental in growing the range of new generation roll-fed flexible lidding products to complement \n",
            "our large die-cut lid presence.  The vast expansion of our Mexican operations is nearing completion with the die-cut business already in operation while \n",
            "equipment for the converting portion of the plant is being assembled for start-up in the second quarter of 2019.  Together with the newly re-organized \n",
            "healthcare team, modest revenue growth was achieved in 2018.\n",
            "--------------------\n",
            "Depth of paragraph 43: 10\n",
            "Font size: 9.0\n",
            "Font name: AMVLVI+ArialNarrow\n",
            "Font color: (0, 0, 0, 1)\n",
            "Text: The Company’s product offering as a system of high-tech flexible lidding solutions combined with rigid containers, whether in die-cut or roll-fed form, \n",
            "aluminum-based or high barrier plastics sets Winpak apart in the industry.  At the Vaudreuil-Dorion, Quebec facility, the newly re-engineered tandem \n",
            "extrusion line and new printing press have proven instrumental in growing the range of new generation roll-fed flexible lidding products to complement \n",
            "our large die-cut lid presence.  The vast expansion of our Mexican operations is nearing completion with the die-cut business already in operation while \n",
            "equipment for the converting portion of the plant is being assembled for start-up in the second quarter of 2019.  Together with the newly re-organized \n",
            "healthcare team, modest revenue growth was achieved in 2018.\n",
            "--------------------\n",
            "Depth of paragraph 44: 14\n",
            "Font size: 9.0\n",
            "Font name: FRIPNY+ArialNarrow\n",
            "Font color: (0, 0, 0, 1)\n",
            "Text: Winpak’s  packaging  machinery  division  in  San  Bernardino,  California  contributed  in  2018  with  significant  revenue  momentum,  establishing  another \n",
            "milestone year for both machinery and services.  Even more significant to Winpak is the packaging film system sales approach and improved customer \n",
            "service with in-house lab testing providing a full range of sachet packaging machines available for customers to perform product testing.  Not to mention, \n",
            "the launch of a commercial relationship with Unifill Srl. of Italy producing highly specialized blown thermoformed single serve containers.  Going forward, \n",
            "the machinery operations will relocate to a more spacious site to allow it to grow and set the stage for new equipment designs and enhanced manufacturing \n",
            "and assembly capabilities.\n",
            "--------------------\n",
            "Depth of paragraph 45: 14\n",
            "Font size: 9.0\n",
            "Font name: FRIPNY+ArialNarrow\n",
            "Font color: (0, 0, 0, 1)\n",
            "Text: Winpak’s  packaging  machinery  division  in  San  Bernardino,  California  contributed  in  2018  with  significant  revenue  momentum,  establishing  another \n",
            "milestone year for both machinery and services.  Even more significant to Winpak is the packaging film system sales approach and improved customer \n",
            "service with in-house lab testing providing a full range of sachet packaging machines available for customers to perform product testing.  Not to mention, \n",
            "the launch of a commercial relationship with Unifill Srl. of Italy producing highly specialized blown thermoformed single serve containers.  Going forward, \n",
            "the machinery operations will relocate to a more spacious site to allow it to grow and set the stage for new equipment designs and enhanced manufacturing \n",
            "and assembly capabilities.\n",
            "--------------------\n",
            "Depth of paragraph 46: 14\n",
            "Font size: 9.0\n",
            "Font name: FRIPNY+ArialNarrow\n",
            "Font color: (0, 0, 0, 1)\n",
            "Text: Winpak’s  packaging  machinery  division  in  San  Bernardino,  California  contributed  in  2018  with  significant  revenue  momentum,  establishing  another \n",
            "milestone year for both machinery and services.  Even more significant to Winpak is the packaging film system sales approach and improved customer \n",
            "service with in-house lab testing providing a full range of sachet packaging machines available for customers to perform product testing.  Not to mention, \n",
            "the launch of a commercial relationship with Unifill Srl. of Italy producing highly specialized blown thermoformed single serve containers.  Going forward, \n",
            "the machinery operations will relocate to a more spacious site to allow it to grow and set the stage for new equipment designs and enhanced manufacturing \n",
            "and assembly capabilities.\n",
            "--------------------\n",
            "Depth of paragraph 47: 14\n",
            "Font size: 9.0\n",
            "Font name: FRIPNY+ArialNarrow\n",
            "Font color: (0, 0, 0, 1)\n",
            "Text: Winpak’s  packaging  machinery  division  in  San  Bernardino,  California  contributed  in  2018  with  significant  revenue  momentum,  establishing  another \n",
            "milestone year for both machinery and services.  Even more significant to Winpak is the packaging film system sales approach and improved customer \n",
            "service with in-house lab testing providing a full range of sachet packaging machines available for customers to perform product testing.  Not to mention, \n",
            "the launch of a commercial relationship with Unifill Srl. of Italy producing highly specialized blown thermoformed single serve containers.  Going forward, \n",
            "the machinery operations will relocate to a more spacious site to allow it to grow and set the stage for new equipment designs and enhanced manufacturing \n",
            "and assembly capabilities.\n",
            "--------------------\n",
            "Depth of paragraph 48: 14\n",
            "Font size: 9.0\n",
            "Font name: AMVLVI+ArialNarrow\n",
            "Font color: (0, 0, 0, 1)\n",
            "Text: Winpak’s  packaging  machinery  division  in  San  Bernardino,  California  contributed  in  2018  with  significant  revenue  momentum,  establishing  another \n",
            "milestone year for both machinery and services.  Even more significant to Winpak is the packaging film system sales approach and improved customer \n",
            "service with in-house lab testing providing a full range of sachet packaging machines available for customers to perform product testing.  Not to mention, \n",
            "the launch of a commercial relationship with Unifill Srl. of Italy producing highly specialized blown thermoformed single serve containers.  Going forward, \n",
            "the machinery operations will relocate to a more spacious site to allow it to grow and set the stage for new equipment designs and enhanced manufacturing \n",
            "and assembly capabilities.\n",
            "--------------------\n",
            "Depth of paragraph 49: 14\n",
            "Font size: 9.0\n",
            "Font name: AMVLVI+ArialNarrow\n",
            "Font color: (0, 0, 0, 1)\n",
            "Text: Winpak’s  packaging  machinery  division  in  San  Bernardino,  California  contributed  in  2018  with  significant  revenue  momentum,  establishing  another \n",
            "milestone year for both machinery and services.  Even more significant to Winpak is the packaging film system sales approach and improved customer \n",
            "service with in-house lab testing providing a full range of sachet packaging machines available for customers to perform product testing.  Not to mention, \n",
            "the launch of a commercial relationship with Unifill Srl. of Italy producing highly specialized blown thermoformed single serve containers.  Going forward, \n",
            "the machinery operations will relocate to a more spacious site to allow it to grow and set the stage for new equipment designs and enhanced manufacturing \n",
            "and assembly capabilities.\n",
            "--------------------\n",
            "Depth of paragraph 50: 6\n",
            "Font size: 9.0\n",
            "Font name: AMVLVI+ArialNarrow\n",
            "Font color: (0, 0, 0, 1)\n",
            "Text: Overall,  2018  yielded  several  Company  records  despite  very  challenging  competitive  market  pressures  and  disappointing  retail  consumption  thus \n",
            "demonstrating the sound nature of the infrastructure and equipment investments coming to fruition across the Company.  Key capital investment decisions \n",
            "for future growth throughout the business are under way to continue the momentum going forward, under the lens of reducing our environmental footprint \n",
            "and impact.\n",
            "--------------------\n",
            "Depth of paragraph 51: 6\n",
            "Font size: 9.0\n",
            "Font name: AMVLVI+ArialNarrow\n",
            "Font color: (0, 0, 0, 1)\n",
            "Text: Overall,  2018  yielded  several  Company  records  despite  very  challenging  competitive  market  pressures  and  disappointing  retail  consumption  thus \n",
            "demonstrating the sound nature of the infrastructure and equipment investments coming to fruition across the Company.  Key capital investment decisions \n",
            "for future growth throughout the business are under way to continue the momentum going forward, under the lens of reducing our environmental footprint \n",
            "and impact.\n",
            "--------------------\n",
            "Depth of paragraph 52: 6\n",
            "Font size: 9.0\n",
            "Font name: AMVLVI+ArialNarrow\n",
            "Font color: (0, 0, 0, 1)\n",
            "Text: Overall,  2018  yielded  several  Company  records  despite  very  challenging  competitive  market  pressures  and  disappointing  retail  consumption  thus \n",
            "demonstrating the sound nature of the infrastructure and equipment investments coming to fruition across the Company.  Key capital investment decisions \n",
            "for future growth throughout the business are under way to continue the momentum going forward, under the lens of reducing our environmental footprint \n",
            "and impact.\n",
            "--------------------\n",
            "Depth of paragraph 53: 6\n",
            "Font size: 9.0\n",
            "Font name: AMVLVI+ArialNarrow\n",
            "Font color: (0, 0, 0, 1)\n",
            "Text: Overall,  2018  yielded  several  Company  records  despite  very  challenging  competitive  market  pressures  and  disappointing  retail  consumption  thus \n",
            "demonstrating the sound nature of the infrastructure and equipment investments coming to fruition across the Company.  Key capital investment decisions \n",
            "for future growth throughout the business are under way to continue the momentum going forward, under the lens of reducing our environmental footprint \n",
            "and impact.\n",
            "--------------------\n",
            "Depth of paragraph 54: 6\n",
            "Font size: 9.0\n",
            "Font name: AMVLVI+ArialNarrow\n",
            "Font color: (0, 0, 0, 1)\n",
            "Text: O.Y. Muggli\n",
            "President and Chief Executive Officer\n",
            "Winnipeg, Canada  \n",
            "February 26, 2019\n",
            "--------------------\n",
            "Depth of paragraph 55: 6\n",
            "Font size: 9.0\n",
            "Font name: FRIPNY+ArialNarrow\n",
            "Font color: (0, 0, 0, 1)\n",
            "Text: O.Y. Muggli\n",
            "President and Chief Executive Officer\n",
            "Winnipeg, Canada  \n",
            "February 26, 2019\n",
            "--------------------\n",
            "Depth of paragraph 56: 6\n",
            "Font size: 8.999999999999993\n",
            "Font name: AMVLVI+ArialNarrow\n",
            "Font color: (0, 0, 0, 1)\n",
            "Text: O.Y. Muggli\n",
            "President and Chief Executive Officer\n",
            "Winnipeg, Canada  \n",
            "February 26, 2019\n",
            "--------------------\n",
            "Depth of paragraph 57: 6\n",
            "Font size: 9.0\n",
            "Font name: AMVLVI+ArialNarrow\n",
            "Font color: (0, 0, 0, 1)\n",
            "Text: O.Y. Muggli\n",
            "President and Chief Executive Officer\n",
            "Winnipeg, Canada  \n",
            "February 26, 2019\n",
            "--------------------\n",
            "Depth of paragraph 58: 3\n",
            "Font size: 9.000000000000002\n",
            "Font name: AMVLVI+ArialNarrow\n",
            "Font color: (0, 0, 0, 1)\n",
            "Text: 1\n",
            "--------------------\n",
            "Depth of paragraph 59: 0\n",
            "\n",
            "--------------------\n"
          ]
        }
      ]
    },
    {
      "cell_type": "code",
      "source": [
        "import nltk\n",
        "nltk.download('punkt')\n",
        "nltk.download('averaged_perceptron_tagger')\n",
        "nltk.download('maxent_ne_chunker')\n",
        "nltk.download('words')\n",
        "\n",
        "def get_depth(paragraph):\n",
        "    sentences = nltk.sent_tokenize(paragraph)\n",
        "    tokens = [nltk.word_tokenize(sentence) for sentence in sentences]\n",
        "    tagged = [nltk.pos_tag(token) for token in tokens]\n",
        "    chunked = nltk.ne_chunk_sents(tagged, binary=True)\n",
        "    depth = 0\n",
        "    for tree in chunked:\n",
        "        depth += tree.height()\n",
        "    return depth\n",
        "\n",
        "output_file = \"/content/CARE/Doutput.txt\"  # Specify the output file path\n",
        "\n",
        "with open('/content/Dextracts/page3_info.txt', 'r') as file:\n",
        "    text = file.read()\n",
        "    paragraphs = text.split('\\n\\n')\n",
        "\n",
        "    with open(output_file, 'w') as output:\n",
        "        for i, paragraph in enumerate(paragraphs):\n",
        "            depth = get_depth(paragraph)\n",
        "            output.write(f\"Depth of paragraph {i}: {depth}\\n\")\n",
        "            output.write(paragraph)\n",
        "            output.write(\"\\n\\n\")\n",
        "            # output.write(\"--------------------\\n\")\n",
        "            \n",
        "\n",
        "print(f\"Output saved to {output_file}\")\n"
      ],
      "metadata": {
        "colab": {
          "base_uri": "https://localhost:8080/"
        },
        "id": "ifkzlZKErukQ",
        "outputId": "871901c7-2bb7-47ba-f232-0ae851f26cc3"
      },
      "execution_count": 33,
      "outputs": [
        {
          "output_type": "stream",
          "name": "stderr",
          "text": [
            "[nltk_data] Downloading package punkt to /root/nltk_data...\n",
            "[nltk_data]   Package punkt is already up-to-date!\n",
            "[nltk_data] Downloading package averaged_perceptron_tagger to\n",
            "[nltk_data]     /root/nltk_data...\n",
            "[nltk_data]   Package averaged_perceptron_tagger is already up-to-\n",
            "[nltk_data]       date!\n",
            "[nltk_data] Downloading package maxent_ne_chunker to\n",
            "[nltk_data]     /root/nltk_data...\n",
            "[nltk_data]   Package maxent_ne_chunker is already up-to-date!\n",
            "[nltk_data] Downloading package words to /root/nltk_data...\n",
            "[nltk_data]   Package words is already up-to-date!\n"
          ]
        },
        {
          "output_type": "stream",
          "name": "stdout",
          "text": [
            "Output saved to /content/CARE/Doutput.txt\n"
          ]
        }
      ]
    },
    {
      "cell_type": "code",
      "source": [
        "import os\n",
        "import csv\n",
        "\n",
        "def convert_files_to_csv(input_folder, output_folder):\n",
        "    os.makedirs(output_folder, exist_ok=True)\n",
        "\n",
        "    for filename in os.listdir(input_folder):\n",
        "        if filename.endswith('.txt'):\n",
        "            input_file = os.path.join(input_folder, filename)\n",
        "            output_file = os.path.join(output_folder, f'{os.path.splitext(filename)[0]}.csv')\n",
        "\n",
        "            with open(input_file, 'r') as file:\n",
        "                text = file.read()\n",
        "\n",
        "            rows = []\n",
        "            current_row = {}\n",
        "            current_depth = 0\n",
        "\n",
        "            for line in text.split('\\n'):\n",
        "                line = line.strip()\n",
        "\n",
        "                if line.startswith('Font size:'):\n",
        "                    current_row['Font size'] = line.split(':')[1].strip()\n",
        "                elif line.startswith('Font name:'):\n",
        "                    current_row['Font name'] = line.split(':')[1].strip()\n",
        "                elif line.startswith('Font color:'):\n",
        "                    current_row['Font color'] = line.split(':')[1].strip()\n",
        "                elif line.startswith('Text:'):\n",
        "                    current_row['Text'] = line.split(':')[1].strip()\n",
        "                    rows.append(current_row)\n",
        "                    current_row = {}\n",
        "                    current_depth = 0\n",
        "                else:\n",
        "                    # Calculate the depth based on indentation level\n",
        "                    depth = len(line) - len(line.lstrip())\n",
        "\n",
        "                    # Update the depth if it has increased\n",
        "                    if depth > current_depth:\n",
        "                        current_depth = depth\n",
        "                    # If the depth has decreased, consider it as the end of the current paragraph\n",
        "                    elif depth < current_depth:\n",
        "                        rows[-1]['Text'] += '\\n' + line.strip()\n",
        "\n",
        "            fieldnames = ['Font name', 'Font color', 'Font size', 'Text']\n",
        "\n",
        "            with open(output_file, 'w', newline='') as file:\n",
        "                writer = csv.DictWriter(file, fieldnames=fieldnames)\n",
        "                writer.writeheader()\n",
        "                writer.writerows(rows)\n",
        "\n",
        "            print(f\"Converted '{filename}' to '{output_file}'.\")\n",
        "\n",
        "input_folder = '/content/Dextracts'\n",
        "output_folder = 'OUTput_folder'\n",
        "\n",
        "convert_files_to_csv(input_folder, output_folder)\n"
      ],
      "metadata": {
        "colab": {
          "base_uri": "https://localhost:8080/"
        },
        "id": "d3PBGvtCXU1V",
        "outputId": "ba9c8a98-2713-42b3-cf42-edfea5b58309"
      },
      "execution_count": 34,
      "outputs": [
        {
          "output_type": "stream",
          "name": "stdout",
          "text": [
            "Converted 'page5_info.txt' to 'OUTput_folder/page5_info.csv'.\n",
            "Converted 'page2_info.txt' to 'OUTput_folder/page2_info.csv'.\n",
            "Converted 'page1_info.txt' to 'OUTput_folder/page1_info.csv'.\n",
            "Converted 'page7_info.txt' to 'OUTput_folder/page7_info.csv'.\n",
            "Converted 'page6_info.txt' to 'OUTput_folder/page6_info.csv'.\n",
            "Converted 'page4_info.txt' to 'OUTput_folder/page4_info.csv'.\n",
            "Converted 'page8_info.txt' to 'OUTput_folder/page8_info.csv'.\n",
            "Converted 'page3_info.txt' to 'OUTput_folder/page3_info.csv'.\n"
          ]
        }
      ]
    },
    {
      "cell_type": "code",
      "source": [
        "from pdfminer.high_level import extract_pages        # Import function for extracting PDF pages\n",
        "from pdfminer.layout import LTTextContainer, LTChar, LTLine, LAParams   # Import PDF layout classes\n",
        "import os   # Import operating system functions\n",
        "\n",
        "path = r'/content/CARE/sample_Eng.pdf'    # Define path to PDF file\n",
        "\n",
        "output_dir = 'Dextracts'   # Define directory for output files\n",
        "os.makedirs(output_dir, exist_ok=True)   # Create output directory if it doesn't exist\n",
        "\n",
        "for page_number, page_layout in enumerate(extract_pages(path), start=1):     # Iterate over PDF pages\n",
        "    output_file = os.path.join(output_dir, f'page{page_number}_info.txt')   # Define name of output file for current page\n",
        "    with open(output_file, 'w') as file:     # Open the output file for writing\n",
        "        for element in page_layout:     # Iterate over elements on each page\n",
        "            if isinstance(element, LTTextContainer):   # Check if element is a text container\n",
        "                for text_line in element:   # Iterate over lines of text in the container\n",
        "                    if isinstance(text_line, LTTextContainer):   # Check if line is a text container\n",
        "                        if len(text_line._objs) > 0:    # Check if line contains any objects\n",
        "                            first_char = text_line._objs[0]   # Get the first object in the line\n",
        "                            if isinstance(first_char, LTChar):   # Check if object is a character\n",
        "                                font_size = first_char.size   # Get the font size of the character\n",
        "                                font_name = first_char.fontname   # Get the font name of the character\n",
        "                                font_color = first_char.graphicstate.ncolor   # Get the font color of the character\n",
        "                                text = element.get_text()   # Get the text of the element\n",
        "                                file.write(f\"Font size: {font_size}\\n\")   # Write font size to output file\n",
        "                                file.write(f\"Font name: {font_name}\\n\")   # Write font name to output file\n",
        "                                file.write(f\"Font color: {font_color}\\n\")   # Write font color to output file\n",
        "                                file.write(f\"Text: {text}\")   # Write text to output file\n",
        "                                file.write(\"\\n\")   # Add newline to separate output for different elements\n",
        "                                # print(f\"Font color: {font_color}  Text: {text}\")  # Display font color and text on console\n"
      ],
      "metadata": {
        "id": "r0CobkhdGDtf"
      },
      "execution_count": 3,
      "outputs": []
    }
  ]
}